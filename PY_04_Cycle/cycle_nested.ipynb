{
 "cells": [
  {
   "cell_type": "markdown",
   "metadata": {},
   "source": [
    "# Работа с вложенными циклами"
   ]
  },
  {
   "cell_type": "code",
   "execution_count": 1,
   "metadata": {},
   "outputs": [],
   "source": [
    "matrix = [\n",
    "    [1, 2], \n",
    "    [3, 4], \n",
    "    [5, 6]\n",
    "]"
   ]
  },
  {
   "cell_type": "markdown",
   "metadata": {},
   "source": [
    "Способ 1. Циклы по строкам и их содержимому"
   ]
  },
  {
   "cell_type": "code",
   "execution_count": 2,
   "metadata": {},
   "outputs": [
    {
     "name": "stdout",
     "output_type": "stream",
     "text": [
      "Current row [1, 2]\n",
      "Current elem 1\n",
      "Current elem 2\n",
      "\n",
      "Current row [3, 4]\n",
      "Current elem 3\n",
      "Current elem 4\n",
      "\n",
      "Current row [5, 6]\n",
      "Current elem 5\n",
      "Current elem 6\n",
      "\n"
     ]
    }
   ],
   "source": [
    "# Создаём цикл по элементам списка matrix\n",
    "# row — текущее значение из списка matrix\n",
    "for row in matrix: \n",
    "    # Выводим содержимое на экран\n",
    "    print('Current row', row) \n",
    "    # Создаём цикл по элементам списка row\n",
    "    # elem — текущее значение из списка row\n",
    "    for elem in row: \n",
    "        print('Current elem', elem)\n",
    "    # Отделяем вывод на экран пустой строкой\n",
    "    print() "
   ]
  },
  {
   "cell_type": "markdown",
   "metadata": {},
   "source": [
    "Способ 2. Циклы по индексам строк и столбцов"
   ]
  },
  {
   "cell_type": "code",
   "execution_count": 4,
   "metadata": {},
   "outputs": [
    {
     "name": "stdout",
     "output_type": "stream",
     "text": [
      "Current i 0\n",
      "Current row [1, 2]\n",
      "Current j 0\n",
      "Current elem 1\n",
      "Current j 1\n",
      "Current elem 2\n",
      "\n",
      "Current i 1\n",
      "Current row [3, 4]\n",
      "Current j 0\n",
      "Current elem 3\n",
      "Current j 1\n",
      "Current elem 4\n",
      "\n",
      "Current i 2\n",
      "Current row [5, 6]\n",
      "Current j 0\n",
      "Current elem 5\n",
      "Current j 1\n",
      "Current elem 6\n",
      "\n"
     ]
    }
   ],
   "source": [
    "# Вычисляем длину внешнего списка\n",
    "N = len(matrix) \n",
    "# Вычисляем длину вложенного списка\n",
    "M = len(matrix[0]) \n",
    "# Создаём цикл по последовательности чисел от 0 до N (не включая N)\n",
    "# i — текущий элемент последовательности (индекс строки)\n",
    "for i in range(N): \n",
    "    # Выводим текущее значение i\n",
    "    print('Current i', i) \n",
    "    # Выводим i-е значение внешнего списка\n",
    "    print('Current row', matrix[i]) \n",
    "    # Создаём цикл по последовательности чисел от 0 до M (не включая M)\n",
    "    # j — текущий элемент последовательности (индекс столбца)\n",
    "    for j in range(M):\n",
    "        # Выводим текущее значение j\n",
    "        print('Current j', j) \n",
    "        # Выводим элемент под индексами i и j\n",
    "        print('Current elem', matrix[i][j]) \n",
    "    # Отделяем вывод на экран пустой строкой\n",
    "    print() "
   ]
  },
  {
   "cell_type": "markdown",
   "metadata": {},
   "source": [
    "***"
   ]
  },
  {
   "cell_type": "markdown",
   "metadata": {},
   "source": [
    "### Задание\n",
    "\n",
    "Условие задачи. Пользователь даёт нашей умной колонке «Алевтина» задание: поставить будильники особым образом. Будильники должны звонить каждые пять часов, начиная с 10 часов утра. Причём будильник должен прозвенеть дважды в час с перерывом в полчаса. Например, в 15:00 и 15:30.\n",
    "\n",
    "Необходимо вывести на экран время в которое прозвенят будильники."
   ]
  },
  {
   "cell_type": "code",
   "execution_count": 5,
   "metadata": {},
   "outputs": [
    {
     "name": "stdout",
     "output_type": "stream",
     "text": [
      "Alarm is set 10:00\n",
      "Alarm is set 10:30\n",
      "Alarm is set 15:00\n",
      "Alarm is set 15:30\n",
      "Alarm is set 20:00\n",
      "Alarm is set 20:30\n"
     ]
    }
   ],
   "source": [
    "# Создаём список часов\n",
    "hours = list(range(10, 24, 5))\n",
    "# Создаём список минут\n",
    "minutes = list(range(0, 60, 30))\n",
    "# Создаём цикл по элементам списка часов\n",
    "for hour in hours: #hour — текущее значение часа (10, 15, 20)\n",
    "    # Создаём цикл по элементам списка минут\n",
    "    for minute in minutes: #minute — текущее значение минуты\n",
    "        # Выводим время\n",
    "        if minute == 0:\n",
    "            # Добавляем еще один 0 к минутам\n",
    "            print('Alarm is set {}:{}0'.format(hour, minute))\n",
    "        else:\n",
    "            print('Alarm is set {}:{}'.format(hour, minute))"
   ]
  },
  {
   "cell_type": "markdown",
   "metadata": {},
   "source": [
    "***"
   ]
  },
  {
   "cell_type": "markdown",
   "metadata": {},
   "source": [
    "### Задание\n",
    "\n",
    "Условие задачи. Дан список строк str_list = ['text', 'morning', 'notepad', 'television', 'ornament']. Необходимо подсчитать, сколько всего раз во всех строках списка встречается буква 'e'."
   ]
  },
  {
   "cell_type": "code",
   "execution_count": 6,
   "metadata": {},
   "outputs": [
    {
     "name": "stdout",
     "output_type": "stream",
     "text": [
      "s\n",
      "i\n",
      "m\n",
      "p\n",
      "l\n",
      "e\n",
      " \n",
      "s\n",
      "t\n",
      "r\n",
      "i\n",
      "n\n",
      "g\n"
     ]
    }
   ],
   "source": [
    "simple_string = \"simple string\"\n",
    "# Создаём цикл по символам в строке simple_string\n",
    "for s in simple_string:\n",
    "    # Выводим символ на экран\n",
    "    print(s)"
   ]
  },
  {
   "cell_type": "code",
   "execution_count": 7,
   "metadata": {},
   "outputs": [
    {
     "name": "stdout",
     "output_type": "stream",
     "text": [
      "Count symbol 'e': 5\n"
     ]
    }
   ],
   "source": [
    "# Заданный список строк\n",
    "str_list = ['text', 'morning', 'notepad', 'television', 'ornament']\n",
    "# Задаём начальное количество символов 'e' \n",
    "count = 0 \n",
    "# Создаём цикл по элементам списка str_list\n",
    "for text in str_list: \n",
    "    # Создаём цикл по символам в строке text\n",
    "    for symbol in text:\n",
    "        # Проверяем условие, что текущий символ == 'e'\n",
    "        if symbol == 'e': \n",
    "            # Если условие истинно, увеличиваем количество символов 'e'.\n",
    "            count += 1 \n",
    "# Выводим результат\n",
    "print(\"Count symbol 'e':\", count) "
   ]
  },
  {
   "cell_type": "markdown",
   "metadata": {},
   "source": [
    "***"
   ]
  },
  {
   "cell_type": "markdown",
   "metadata": {},
   "source": [
    "### Задание\n",
    "\n",
    "Условие задачи. В теории оптимизации, которую мы с вами будем изучать дальше в курсе, работа с матрицами — привычное явление. Так, в симплекс-методе для решения оптимизационных задач необходимо находить минимальные и максимальные элементы в каждой строке матрицы.\n",
    "\n",
    "Давайте попробуем реализовать такой алгоритм для поиска минимумов.\n",
    "\n",
    "Дана двумерная матрица 3x3 (список списков). Необходимо определить минимумы в каждой её строке."
   ]
  },
  {
   "cell_type": "code",
   "execution_count": 8,
   "metadata": {},
   "outputs": [
    {
     "name": "stdout",
     "output_type": "stream",
     "text": [
      "Minimal elements: [1, 2, 4]\n"
     ]
    }
   ],
   "source": [
    "random_matrix = [\n",
    "    [9, 2, 1],\n",
    "    [2, 5, 3],\n",
    "    [4, 8, 5]\n",
    "] \n",
    "# Задаём пустой список с минимальными значениями строк\n",
    "min_value_rows = [] \n",
    "# Создаём цикл по строкам матрицы random_matrix \n",
    "for row in random_matrix: # row — текущая строка таблицы\n",
    "    # Задаём начальное значение кандидата на минимум\n",
    "    min_value = row[0] \n",
    "    # Создаём цикл по элементам списка row\n",
    "    # elem — текущий элемент из списка row\n",
    "    for elem in row: \n",
    "        # Проверяем условие, что текущий элемент меньше кандидата на минимум.\n",
    "        if elem < min_value:\n",
    "            # Если условие выполняется, заменяем кандидата на минимум.\n",
    "            min_value = elem\n",
    "    # Добавляем полученный минимум строки в список\n",
    "    min_value_rows.append(min_value) \n",
    "# Выводим минимальные элементы\n",
    "print(\"Minimal elements:\", min_value_rows)"
   ]
  },
  {
   "cell_type": "markdown",
   "metadata": {},
   "source": [
    "***"
   ]
  },
  {
   "cell_type": "markdown",
   "metadata": {},
   "source": [
    "### Задание\n",
    "\n",
    "Дана двумерная матрица random_matrix размера n x n (список списков). Напишите программу, которая определяет максимумы в каждой строке исходной матрицы.\n",
    "\n",
    "Максимумы должны быть представлены в виде списка. Запишите результат в переменную max_value_rows."
   ]
  },
  {
   "cell_type": "code",
   "execution_count": 9,
   "metadata": {},
   "outputs": [
    {
     "data": {
      "text/plain": [
       "[9, 5, 8]"
      ]
     },
     "execution_count": 9,
     "metadata": {},
     "output_type": "execute_result"
    }
   ],
   "source": [
    "random_matrix = [\n",
    "    [9, 2, 1],\n",
    "    [2, 5, 3],\n",
    "    [4, 8, 5]\n",
    "]\n",
    "\n",
    "max_value_rows=[]\n",
    "for row in random_matrix:\n",
    "  max_value=row[0]\n",
    "  for elem in row:\n",
    "    if max_value<elem:\n",
    "      max_value=elem\n",
    "  max_value_rows.append(max_value)\n",
    "  \n",
    "max_value_rows"
   ]
  },
  {
   "cell_type": "markdown",
   "metadata": {},
   "source": [
    "### Задание\n",
    "\n",
    "Условие задачи. Нам предоставлены данные о баллах пяти студентов по трём экзаменам. Данные находятся во вложенном списке student_scores.\n",
    "\n",
    "Каждая строка таблицы соответствует номеру студента, а каждый из трёх столбцов соответствует номеру экзамена (первый — математика, второй — информатика, третий — русский язык).\n",
    "\n",
    "Необходимо найти средний балл студентов по каждому из экзаменов и общий средний балл по всем экзаменам."
   ]
  },
  {
   "cell_type": "code",
   "execution_count": 10,
   "metadata": {},
   "outputs": [
    {
     "name": "stdout",
     "output_type": "stream",
     "text": [
      "Average math score 76.6\n",
      "Average info score 64.8\n",
      "Average rus score 82.2\n",
      "Average score 74.53333333333333\n"
     ]
    }
   ],
   "source": [
    "# Заданная таблица со студентами\n",
    "student_scores = [\n",
    "    [56, 90, 80],\n",
    "    [80, 86, 92],\n",
    "    [91, 76, 89],\n",
    "    [91, 42, 60],\n",
    "    [65, 30, 90]\n",
    "] \n",
    "N = len(student_scores) # Задаём число студентов\n",
    "M = len(student_scores[0]) # Задаём число экзаменов\n",
    "summa = 0 # Задаём начальное значение общего балла\n",
    "math_sum = 0 # Задаём начальное значение общего балла по математике\n",
    "info_sum = 0 # Задаём начальное значение общего балла по информатике\n",
    "rus_sum = 0 # Задаём начальное значение общего балла по русскому языку\n",
    "# Создаём цикл по последовательности от 0 до N (не включая N)\n",
    "for i in range(N): # i — индекс строки\n",
    "    # Добавляем баллы по математике i-го студента\n",
    "    math_sum += student_scores[i][0]\n",
    "    # Добавляем баллы по информатике i-го студента \n",
    "    info_sum += student_scores[i][1]\n",
    "    # Добавляем баллы по русскому языку i-го студента \n",
    "    rus_sum += student_scores[i][2] \n",
    "    # Создаём цикл по последовательности от 0 до M (не включая M)\n",
    "    for j in range(M): # j — индекс столбца\n",
    "        # Добавляем баллы i-го студента по j-му экзамену\n",
    "        summa += student_scores[i][j]\n",
    "# Выводим средний балл по математике \n",
    "print('Average math score', math_sum / N) \n",
    "# Выводим средний балл по информатике\n",
    "print('Average info score', info_sum / N) \n",
    "# Выводим средний балл по русскому языку\n",
    "print('Average rus score', rus_sum / N)\n",
    "# Выводим общий средний балл \n",
    "print('Average score', summa /(N*M)) "
   ]
  },
  {
   "cell_type": "markdown",
   "metadata": {},
   "source": [
    "***"
   ]
  },
  {
   "cell_type": "markdown",
   "metadata": {},
   "source": [
    "### Задание\n",
    "\n",
    "Пусть нам надо посчитать сумму элементов в первом (то есть нулевом) столбце следующего вложенного списка:"
   ]
  },
  {
   "cell_type": "markdown",
   "metadata": {},
   "source": [
    "Вариант 1. С использованием вложенного цикла (плохо!)"
   ]
  },
  {
   "cell_type": "code",
   "execution_count": 12,
   "metadata": {},
   "outputs": [
    {
     "name": "stdout",
     "output_type": "stream",
     "text": [
      "Summa 15\n",
      "Count iteration 9\n"
     ]
    }
   ],
   "source": [
    "table = [\n",
    "    [1, 3, 6],\n",
    "    [4, 6, 8],\n",
    "    [10, 33, 53]\n",
    "]\n",
    "# Вычисляем количество строк\n",
    "N = len(table) \n",
    "# Вычисляем количество столбцов\n",
    "M = len(table[0]) \n",
    "# Задаём переменную суммы\n",
    "S = 0 \n",
    "# Задаём переменную количества итераций\n",
    "count = 0 \n",
    "# Создаём цикл по индексам строк таблицы\n",
    "for i in range(N): # i — индекс строки\n",
    "    # Создаём цикл по индексам столбцов таблицы\n",
    "    for j in range(M): # j — индекс столбца\n",
    "        # Проверяем условие, что индекс столбца — 0.\n",
    "        if j == 0:\n",
    "            # Если условие истинно, увеличиваем сумму.\n",
    "            S += table[i][j]\n",
    "        # Увеличиваем количество итераций \n",
    "        count += 1 \n",
    "# Выводим сумму\n",
    "print('Summa', S) \n",
    "# Выводим количество итераций\n",
    "print('Count iteration', count) "
   ]
  },
  {
   "cell_type": "markdown",
   "metadata": {},
   "source": [
    "Вариант 2. Без вложенных циклов (хорошо!)"
   ]
  },
  {
   "cell_type": "code",
   "execution_count": 11,
   "metadata": {},
   "outputs": [
    {
     "name": "stdout",
     "output_type": "stream",
     "text": [
      "Summa 15\n",
      "Count iteration 3\n"
     ]
    }
   ],
   "source": [
    "table = [\n",
    "    [1, 3, 6],\n",
    "    [4, 6, 8],\n",
    "    [10, 33, 53]\n",
    "]\n",
    "# Вычисляем количество строк\n",
    "N = len(table)\n",
    "# Задаём переменную суммы \n",
    "S = 0 \n",
    "# Задаём переменную количества итераций\n",
    "count = 0 \n",
    "# Создаём цикл по индексам строк таблицы\n",
    "for i in range(N): # i — индекс строки\n",
    "    # Увеличиваем сумму на элемент в i-й строке и 0-ом столбце\n",
    "    S += table[i][0] \n",
    "    # Увеличиваем количество итераций\n",
    "    count += 1 \n",
    "# Выводим сумму \n",
    "print('Summa', S) \n",
    "# Выводим количество итераций\n",
    "print('Count iteration', count) \n"
   ]
  },
  {
   "cell_type": "markdown",
   "metadata": {},
   "source": [
    "***"
   ]
  },
  {
   "cell_type": "markdown",
   "metadata": {},
   "source": [
    "### Задание\n",
    "\n",
    "Напишите код, который определяет, является ли вложенный список test_matrix квадратной матрицей (то есть матрицей, у которой количество строк равно количеству столбцов).\n",
    "\n",
    "Примеры квадратной и неквадратной (прямоугольной) матрицы: слева — квадратная, справа — неквадратная.\n",
    "\n",
    "В результате работы программы в переменной is_square должно лежать булево значение — True или False — в зависимости от заданного вложенного списка."
   ]
  },
  {
   "cell_type": "code",
   "execution_count": 14,
   "metadata": {},
   "outputs": [
    {
     "data": {
      "text/plain": [
       "False"
      ]
     },
     "execution_count": 14,
     "metadata": {},
     "output_type": "execute_result"
    }
   ],
   "source": [
    "test_matrix = [\n",
    "    [1, 2, 3],\n",
    "    [7, -1, 2],\n",
    "    [123, 2, -1],\n",
    "    [123, 5, 1]\n",
    "]\n",
    "\n",
    "N=len(test_matrix)\n",
    "M=len(test_matrix[0])\n",
    "if N==M:\n",
    "  is_square=True\n",
    "else:\n",
    "  is_square=False\n",
    "  \n",
    "is_square"
   ]
  },
  {
   "cell_type": "markdown",
   "metadata": {},
   "source": [
    "***"
   ]
  },
  {
   "cell_type": "markdown",
   "metadata": {},
   "source": [
    "### Задание\n",
    "\n",
    "При формировании данных о температуре за три летних месяца допустили ошибку: некоторые значения оказались отрицательными. Вам необходимо заменить все отрицательные значения на положительные.\n",
    "\n",
    "Список со значениями температуры задан в переменной temp. Необходимо перезаписать значения этого списка."
   ]
  },
  {
   "cell_type": "code",
   "execution_count": 15,
   "metadata": {},
   "outputs": [
    {
     "data": {
      "text/plain": [
       "[[25, 27, 28, 26, 27, 26, 25, 2, 26],\n",
       " [21, 22, 28, 27, 28, 26, 25, 19, 26],\n",
       " [19, 21, 25, 27, 28, 25, 21, 20, 26]]"
      ]
     },
     "execution_count": 15,
     "metadata": {},
     "output_type": "execute_result"
    }
   ],
   "source": [
    "temp = [[25, 27, 28, 26, 27, -26, -25, -2, 26], [21, 22, 28, 27, 28, 26, 25, 19, 26], [-19, 21, 25, -27, 28, 25, 21, 20, 26]]\n",
    "\n",
    "N=len(temp)\n",
    "M=len(temp[0])\n",
    "for i in range(N):\n",
    "  for j in range(M):\n",
    "    if temp[i][j] <0:\n",
    "      temp[i][j]*=-1\n",
    "      \n",
    "temp"
   ]
  },
  {
   "cell_type": "markdown",
   "metadata": {},
   "source": [
    "***"
   ]
  },
  {
   "cell_type": "markdown",
   "metadata": {},
   "source": [
    "### Задание\n",
    "\n",
    "Дан список customer_satisfaction, состоящий из вложенных списков с показателями удовлетворённости клиентов компании по месяцам. Удовлетворённость измеряется от 0 до 1.\n",
    "\n",
    "Напишите программу, которая вычисляет средние значения удовлетворённости клиентов за каждый месяц (среднее значение в каждом из вложенных списков), округлённые до двух знаков после точки-разделителя, а также максимальное из этих средних значений.\n",
    "\n",
    "Средняя удовлетворённость по месяцам должна быть представлена в виде списка month_satisfaction. Максимальная удовлетворённость должна быть представлена в виде float-числа и записана в переменную max_satisfaction."
   ]
  },
  {
   "cell_type": "code",
   "execution_count": 16,
   "metadata": {},
   "outputs": [
    {
     "data": {
      "text/plain": [
       "0.76"
      ]
     },
     "execution_count": 16,
     "metadata": {},
     "output_type": "execute_result"
    }
   ],
   "source": [
    "customer_satisfaction = [\n",
    "    [0.87, 0.56, 0.77],\n",
    "    [0.22, 0.46, 0.56, 0.89, 0.95],\n",
    "    [0.45, 0.44, 0.68],\n",
    "    [0.73, 0.88, 0.95, 0.49]\n",
    "]\n",
    "\n",
    "month_satisfaction=[]\n",
    "for row in customer_satisfaction:\n",
    "  count=0\n",
    "  sum=0\n",
    "  for elem in row:\n",
    "    sum+=elem\n",
    "    count+=1\n",
    "  month=round(sum/count, 2)\n",
    "  month_satisfaction.append(month)\n",
    "max_satisfaction=max(month_satisfaction)\n",
    "\n",
    "max_satisfaction"
   ]
  },
  {
   "cell_type": "markdown",
   "metadata": {},
   "source": [
    "***"
   ]
  }
 ],
 "metadata": {
  "kernelspec": {
   "display_name": "Python 3",
   "language": "python",
   "name": "python3"
  },
  "language_info": {
   "codemirror_mode": {
    "name": "ipython",
    "version": 3
   },
   "file_extension": ".py",
   "mimetype": "text/x-python",
   "name": "python",
   "nbconvert_exporter": "python",
   "pygments_lexer": "ipython3",
   "version": "3.12.0"
  }
 },
 "nbformat": 4,
 "nbformat_minor": 2
}
