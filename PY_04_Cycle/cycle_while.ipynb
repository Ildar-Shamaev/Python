{
 "cells": [
  {
   "cell_type": "markdown",
   "metadata": {},
   "source": [
    "# Цикл while"
   ]
  },
  {
   "cell_type": "markdown",
   "metadata": {},
   "source": [
    "### Задание\n",
    "\n",
    "Условие задачи. Пассажирский лифт имеет ограничение на перевозку — не более 400 кг единовременно. Пусть входящие в лифт люди имеют одинаковый вес (weight).\n",
    "\n",
    "Необходимо написать программу, которая должна следить за изменением нагрузки на лифт, сравнивать её с грузоподъёмностью и в случае перевеса выдавать предупреждение 'Overweight N kg'. Например, при перевесе в 15 кг должно быть выведено сообщение 'Overweight 15 kg'.\n",
    "\n",
    "Для данного примера вес заходящих людей зададим как weight = 67."
   ]
  },
  {
   "cell_type": "code",
   "execution_count": 1,
   "metadata": {},
   "outputs": [
    {
     "name": "stdout",
     "output_type": "stream",
     "text": [
      "Current sum weight 67\n",
      "Current sum weight 134\n",
      "Current sum weight 201\n",
      "Current sum weight 268\n",
      "Current sum weight 335\n",
      "Current sum weight 402\n",
      "\n",
      "Overweight 2 kg\n"
     ]
    }
   ],
   "source": [
    "# Задаём вес входящего в лифт человека\n",
    "weight = 67 \n",
    "# Задаём грузоподъёмность\n",
    "max_weight = 400 \n",
    "# Задаём суммарный вес людей в лифте\n",
    "S = 0 \n",
    "# Создаём цикл, который будет работать, пока S не превысит max_weight. \n",
    "while S < max_weight: # делай, пока…\n",
    "    # Увеличиваем суммарный вес\n",
    "    # Равносильно S = S + weight \n",
    "    S += weight \n",
    "    # Выводим значение суммарного веса после обновления\n",
    "    print('Current sum weight', S) \n",
    "\n",
    "\n",
    "# Отделяем промежуточный вывод от результата пустой строкой\n",
    "print() \n",
    "# Выводим итоговое значение перевеса\n",
    "print('Overweight {} kg'.format(S - max_weight))"
   ]
  },
  {
   "cell_type": "markdown",
   "metadata": {},
   "source": [
    "***"
   ]
  },
  {
   "cell_type": "markdown",
   "metadata": {},
   "source": [
    "### Задание\n",
    "\n",
    "Сосуд вмещает в себя ровно volume литров жидкости. Каждый раз в него вливается 0.0033 кубических метра жидкости. Понятно, что в какой-то момент сосуд наполнится до краёв, и жидкость начнёт выливаться из него. В тот момент, когда жидкость начинает выливаться (заполненный объём становится больше, чем вместимость сосуда), наполнение сосуда прекращается.\n",
    "\n",
    "С помощью цикла while опишите данный процесс и найдите, сколько литров жидкости выльется из сосуда. Результат запишите в переменную cost.\n",
    "\n",
    "Учтите, что 1 кубический метр равен 1 000 литрам (0.0033 * 1000 = 3.3)."
   ]
  },
  {
   "cell_type": "code",
   "execution_count": 2,
   "metadata": {},
   "outputs": [
    {
     "data": {
      "text/plain": [
       "3.1999999999999993"
      ]
     },
     "execution_count": 2,
     "metadata": {},
     "output_type": "execute_result"
    }
   ],
   "source": [
    "volume = 10\n",
    "\n",
    "t=0\n",
    "while t<volume:\n",
    "  t+=3.3\n",
    "cost=t-volume \n",
    "\n",
    "cost"
   ]
  },
  {
   "cell_type": "markdown",
   "metadata": {},
   "source": [
    "***"
   ]
  },
  {
   "cell_type": "markdown",
   "metadata": {},
   "source": [
    "### Задание\n",
    "\n",
    "Условие задачи. Написать цикл, который будет складывать натуральные числа, пока их сумма не превысит 500.\n",
    "\n",
    "Натуральные числа — это числа 1, 2, 3, 4 и т. д."
   ]
  },
  {
   "cell_type": "code",
   "execution_count": 4,
   "metadata": {},
   "outputs": [
    {
     "name": "stdout",
     "output_type": "stream",
     "text": [
      "\n",
      "Sum is:  528\n",
      "Numbers total:  32\n"
     ]
    }
   ],
   "source": [
    "# Создаём накопительную переменную, в которой будем считать сумму.\n",
    "S = 0  \n",
    "# Задаём текущее натуральное число\n",
    "n = 1  \n",
    " \n",
    "# Создаём цикл, который будет работать, пока сумма не превысит 500.\n",
    "while S < 500:  # делай, пока …\n",
    "    # Увеличиваем сумму, равносильно S = S + n\n",
    "    S += n\n",
    "    # Увеличиваем значение натурального числа  \n",
    "    n += 1  \n",
    "    # Выводим строку ожидания\n",
    "    #print(\"Still counting...\") \n",
    "# Отделяем промежуточный вывод от результата пустой строкой\n",
    "print() \n",
    "# Выводим результирующую сумму\n",
    "print(\"Sum is: \", S) \n",
    "# Выводим результирующее количество чисел\n",
    "print(\"Numbers total: \", n-1)"
   ]
  },
  {
   "cell_type": "markdown",
   "metadata": {},
   "source": [
    "***"
   ]
  },
  {
   "cell_type": "markdown",
   "metadata": {},
   "source": [
    "### Задание\n",
    "\n",
    "Напишите цикл while, который находит минимальное натуральное число number, квадрат которого больше некоторого заданного value.\n",
    "\n",
    "Результирующий ответ запишите в переменную number."
   ]
  },
  {
   "cell_type": "code",
   "execution_count": 6,
   "metadata": {},
   "outputs": [
    {
     "data": {
      "text/plain": [
       "4"
      ]
     },
     "execution_count": 6,
     "metadata": {},
     "output_type": "execute_result"
    }
   ],
   "source": [
    "value = 10\n",
    "\n",
    "number=1\n",
    "while number**2<value:\n",
    "  number+=1\n",
    "\n",
    "number"
   ]
  },
  {
   "cell_type": "markdown",
   "metadata": {},
   "source": [
    "### Задание\n",
    "\n",
    "Условие задачи. Представьте себя администратором тайного интернет-сообщества «Три Слепые Мыши» с ограниченным членством. У каждого участника сообщества есть свой позывной и пароль. Позывные и пароли представлены в словаре secret_passwords. Ключи данного словаря — позывные, а значения — пароли.\n",
    "\n",
    "Необходимо создать бесконечный цикл, который будет проверять, что пользователь, посетивший интернет-сообщество, является его членом. Пользователь вводит свои позывной и пароль с клавиатуры."
   ]
  },
  {
   "cell_type": "code",
   "execution_count": 7,
   "metadata": {},
   "outputs": [
    {
     "name": "stdout",
     "output_type": "stream",
     "text": [
      "Wrong name\n",
      "Wrong name\n",
      "Wrong password\n",
      "Welcome\n"
     ]
    }
   ],
   "source": [
    "# База позывных и паролей\n",
    "secret_passwords = {\n",
    "    'Enot': 'ulybaka',\n",
    "    'Agent12': '1password1',\n",
    "    'MouseLulu': 'myshkanaruhka'\n",
    "} \n",
    "# Создаём бесконечный цикл\n",
    "while True:\n",
    "    # Запрашиваем у пользователя позывной\n",
    "    name = input('Enter your name: ') \n",
    "    # Проверяем, что позывной есть среди ключей словаря.\n",
    "    if name in secret_passwords: \n",
    "        # Если позывной верный, запрашиваем у пользователя пароль.\n",
    "        password = input('Enter your password: ')\n",
    "        # Проверяем, что введённый пароль совпадает со значением по ключу позывного.\n",
    "        if password == secret_passwords[name]: \n",
    "            # Если пароль верный, выводим приветственное сообщение.\n",
    "            print('Welcome')\n",
    "            # Завершаем цикл\n",
    "            break \n",
    "        else: \n",
    "            # Если пароль неверный, выводим сообщение об ошибке.\n",
    "            print('Wrong password')\n",
    "    else:\n",
    "        # Если позывной неверный, выводим сообщение об ошибке.\n",
    "        print('Wrong name')"
   ]
  },
  {
   "cell_type": "markdown",
   "metadata": {},
   "source": [
    "***"
   ]
  },
  {
   "cell_type": "markdown",
   "metadata": {},
   "source": [
    "### Задание\n",
    "\n",
    "Напишите бесконечный цикл while с условием выхода внутри цикла, который находит минимальное натуральное число, квадрат которого больше value.\n",
    "\n",
    "Запишите результат в переменную number."
   ]
  },
  {
   "cell_type": "code",
   "execution_count": 8,
   "metadata": {},
   "outputs": [
    {
     "data": {
      "text/plain": [
       "4"
      ]
     },
     "execution_count": 8,
     "metadata": {},
     "output_type": "execute_result"
    }
   ],
   "source": [
    "value = 10\n",
    "\n",
    "number=1\n",
    "while True: \n",
    "  if number**2<value:\n",
    "    number+=1\n",
    "  else:\n",
    "    break\n",
    "\n",
    "number"
   ]
  },
  {
   "cell_type": "markdown",
   "metadata": {},
   "source": [
    "***"
   ]
  },
  {
   "cell_type": "markdown",
   "metadata": {},
   "source": [
    "### Задание\n",
    "\n",
    "Перед вами программа, которая должна вывести слово 'Hello' n раз. Переменная n задаётся извне и может быть любым числом:\n",
    "\n",
    "Однако сейчас эта программа работает некорректно: она бесконечно выводит слово 'Hello' на экран. Исправьте программу, добавив в неё недостающую строку."
   ]
  },
  {
   "cell_type": "code",
   "execution_count": 9,
   "metadata": {},
   "outputs": [
    {
     "name": "stdout",
     "output_type": "stream",
     "text": [
      "Hello\n",
      "Hello\n",
      "Hello\n",
      "Hello\n",
      "Hello\n"
     ]
    }
   ],
   "source": [
    "n=5\n",
    "i = 0\n",
    "while i < n:\n",
    "    print('Hello')\n",
    "    i+=1"
   ]
  },
  {
   "cell_type": "markdown",
   "metadata": {},
   "source": [
    "***"
   ]
  },
  {
   "cell_type": "markdown",
   "metadata": {},
   "source": [
    "### Задание\n",
    "\n",
    "Начинающий программист написал программу, которая находит наименьшее натуральное число x, квадрат которого нацело делится на число n, и выводит его на экран. Значение переменной n задаётся внешней программой, поэтому может быть любым.\n",
    "\n",
    "Однако код содержит ряд ошибок. Найдите и исправьте их:"
   ]
  },
  {
   "cell_type": "code",
   "execution_count": 11,
   "metadata": {},
   "outputs": [
    {
     "name": "stdout",
     "output_type": "stream",
     "text": [
      "10\n"
     ]
    }
   ],
   "source": [
    "x = 10\n",
    "while x**2 %n != 0:\n",
    "    x += 1\n",
    "print(x)"
   ]
  },
  {
   "cell_type": "markdown",
   "metadata": {},
   "source": [
    "***"
   ]
  },
  {
   "cell_type": "markdown",
   "metadata": {},
   "source": [
    "### Задание\n",
    "\n",
    "Напишите цикл while, который вычисляет произведение натуральных чисел (1 * 2 * 3 * 4 * ...). Цикл должен выполняться до тех пор, пока значение произведения не превысит число value.\n",
    "\n",
    "Результирующее произведение запишите в переменную p."
   ]
  },
  {
   "cell_type": "code",
   "execution_count": 14,
   "metadata": {},
   "outputs": [
    {
     "data": {
      "text/plain": [
       "5040"
      ]
     },
     "execution_count": 14,
     "metadata": {},
     "output_type": "execute_result"
    }
   ],
   "source": [
    "value = 1000\n",
    "count=0\n",
    "p=1\n",
    "while p<value:\n",
    "  count+=1\n",
    "  p*=count\n",
    "\n",
    "p"
   ]
  },
  {
   "cell_type": "markdown",
   "metadata": {},
   "source": [
    "***"
   ]
  },
  {
   "cell_type": "markdown",
   "metadata": {},
   "source": [
    "### Задание\n",
    "\n",
    "Олег положил money рублей в банк под 8 % годовых с ежегодной капитализацией процентов. Через сколько лет у него на счету будет не менее target_money рублей?\n",
    "\n",
    "Запишите ответ в переменную year_count.\n",
    "\n",
    "Для моделирования процесса увеличения денежной суммы на счёте воспользуйтесь циклом while. В случае, когда значение target_money < money, в переменной year_count должен содержаться 0."
   ]
  },
  {
   "cell_type": "code",
   "execution_count": 15,
   "metadata": {},
   "outputs": [
    {
     "data": {
      "text/plain": [
       "15"
      ]
     },
     "execution_count": 15,
     "metadata": {},
     "output_type": "execute_result"
    }
   ],
   "source": [
    "money = 1000\n",
    "target_money = 3000\n",
    "year_count=0\n",
    "while money<target_money:\n",
    "  money=money*1.08\n",
    "  year_count+=1\n",
    "  \n",
    "year_count"
   ]
  },
  {
   "cell_type": "markdown",
   "metadata": {},
   "source": [
    "***"
   ]
  },
  {
   "cell_type": "markdown",
   "metadata": {},
   "source": [
    "### Задание\n",
    "\n",
    "Вы играете в компьютерную игру, дошли до схватки с финальным боссом, но вот незадача: ваш компьютер «заглючил», и вы не можете управлять вашим персонажем. Босс атакует и каждую секунду наносит один удар, который отнимает у персонажа damage единиц здоровья. На схватку с боссом ваш персонаж вышел с health единиц здоровья.\n",
    "\n",
    "Создайте цикл, позволяющий понять, через сколько секунд босс убьёт вашего персонажа. В результате работы вашей программы в переменной seconds_num должно быть сохранено количество секунд, в течение которых будет длиться схватка."
   ]
  },
  {
   "cell_type": "code",
   "execution_count": 16,
   "metadata": {},
   "outputs": [
    {
     "data": {
      "text/plain": [
       "7"
      ]
     },
     "execution_count": 16,
     "metadata": {},
     "output_type": "execute_result"
    }
   ],
   "source": [
    "health = 500\n",
    "damage = 80\n",
    "\n",
    "seconds_num=0\n",
    "while health>0:\n",
    "  health-=damage\n",
    "  seconds_num+=1\n",
    "  \n",
    "seconds_num"
   ]
  },
  {
   "cell_type": "markdown",
   "metadata": {},
   "source": [
    "***"
   ]
  },
  {
   "cell_type": "markdown",
   "metadata": {},
   "source": [
    "### Задание\n",
    "\n",
    "Числа Фибоначчи — это бесконечная последовательность чисел, которую можно получить рекурсивно. Каждое число из последовательности является суммой двух предыдущих.\n",
    "Напишите программу, которая выводит первые n чисел Фибоначчи. Значение n может быть любым.\n",
    "Для решения воспользуйтесь следующим алгоритмом:\n",
    "\n",
    "Инициализируем начальные значения последовательности: a = 1, b = 1 , i = 2.\n",
    "\n",
    "Пока i ≤ n:\n",
    "\n",
    "Вычислить новое значение b по формуле: b = a + b.\n",
    "\n",
    "Заменить значение a = b.\n",
    "\n",
    "Увеличить i на 1.\n",
    "\n",
    "Добавить элемент b в последовательность.\n",
    "\n",
    "Результирующую последовательность чисел сохраните в списке fibonacci_list."
   ]
  },
  {
   "cell_type": "code",
   "execution_count": 17,
   "metadata": {},
   "outputs": [
    {
     "data": {
      "text/plain": [
       "[1, 1, 2, 3, 5, 8, 13, 21, 34]"
      ]
     },
     "execution_count": 17,
     "metadata": {},
     "output_type": "execute_result"
    }
   ],
   "source": [
    "n = 9\n",
    "\n",
    "a=1\n",
    "b=1\n",
    "i=2\n",
    "fibonacci_list = [1, 1]\n",
    "while i<=n:\n",
    "  b1=b\n",
    "  b=a+b\n",
    "  a=b1\n",
    "  i+=1\n",
    "  fibonacci_list.append(b)\n",
    "fibonacci_list.pop(-1)\n",
    "\n",
    "fibonacci_list"
   ]
  }
 ],
 "metadata": {
  "kernelspec": {
   "display_name": "Python 3",
   "language": "python",
   "name": "python3"
  },
  "language_info": {
   "codemirror_mode": {
    "name": "ipython",
    "version": 3
   },
   "file_extension": ".py",
   "mimetype": "text/x-python",
   "name": "python",
   "nbconvert_exporter": "python",
   "pygments_lexer": "ipython3",
   "version": "3.12.0"
  }
 },
 "nbformat": 4,
 "nbformat_minor": 2
}
