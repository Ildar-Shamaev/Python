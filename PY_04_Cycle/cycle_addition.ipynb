{
 "cells": [
  {
   "cell_type": "markdown",
   "metadata": {},
   "source": [
    "# Дополнительные возможности"
   ]
  },
  {
   "cell_type": "markdown",
   "metadata": {},
   "source": [
    "## Enumerate"
   ]
  },
  {
   "cell_type": "markdown",
   "metadata": {},
   "source": [
    "### Задание \n",
    "\n",
    "Условие задачи. У нас есть список ежедневной динамики числа пользователей приложения.\n",
    "\n",
    "Если элемент списка положительный, то число новых пользователей больше числа ушедших пользователей (прирост).\n",
    "\n",
    "Если элемент списка отрицательный, то число ушедших пользователей больше числа новых (отток).\n",
    "\n",
    "Мы бы хотели вывести этот список на экран поэлементно в виде {номер дня}: {динамика}. Например, для первого дня вывод должен быть \"Day 1: -5\"."
   ]
  },
  {
   "cell_type": "markdown",
   "metadata": {},
   "source": [
    "Способ 1. Цикл по элементам списка"
   ]
  },
  {
   "cell_type": "code",
   "execution_count": 1,
   "metadata": {},
   "outputs": [
    {
     "name": "stdout",
     "output_type": "stream",
     "text": [
      "Day 1 : -5\n",
      "Day 2 : 2\n",
      "Day 3 : 4\n",
      "Day 4 : 8\n",
      "Day 5 : 12\n",
      "Day 6 : -7\n",
      "Day 7 : 5\n"
     ]
    }
   ],
   "source": [
    "# Заданный список динамики числа пользователей\n",
    "user_dynamics = [-5, 2, 4, 8, 12, -7, 5] \n",
    "# Задаём номер дня\n",
    "number = 1 \n",
    "# Создаём цикл по элементам списка user_dynamics\n",
    "for dynamic in user_dynamics: # dynamic — текущее значение из списка\n",
    "    # Выводим номер дня и динамику на этот день\n",
    "    print(\"Day {} : {}\".format(number, dynamic))\n",
    "    # Увеличиваем номер дня\n",
    "    number += 1 "
   ]
  },
  {
   "cell_type": "markdown",
   "metadata": {},
   "source": [
    "Способ 2. Цикл по индексам списка"
   ]
  },
  {
   "cell_type": "code",
   "execution_count": 2,
   "metadata": {},
   "outputs": [
    {
     "name": "stdout",
     "output_type": "stream",
     "text": [
      "Day 1 : -5\n",
      "Day 2 : 2\n",
      "Day 3 : 4\n",
      "Day 4 : 8\n",
      "Day 5 : 12\n",
      "Day 6 : -7\n",
      "Day 7 : 5\n"
     ]
    }
   ],
   "source": [
    "# Заданный список динамики числа пользователей\n",
    "user_dynamics = [-5, 2, 4, 8, 12, -7, 5] \n",
    "# Вычисляем длину списка\n",
    "N = len(user_dynamics) \n",
    "# Создаём цикл по элементам последовательности от 0 до N (не включая N)\n",
    "for i in range(N): # i — текущий индекс\n",
    "    # Выводим номер дня и динамику на этот день\n",
    "    print(\"Day {} : {}\".format(i+1, user_dynamics[i])) "
   ]
  },
  {
   "cell_type": "markdown",
   "metadata": {},
   "source": [
    "Способ 3. Цикл по индексам и элементам одновременно"
   ]
  },
  {
   "cell_type": "code",
   "execution_count": 3,
   "metadata": {},
   "outputs": [
    {
     "name": "stdout",
     "output_type": "stream",
     "text": [
      "Day 1 : -5\n",
      "Day 2 : 2\n",
      "Day 3 : 4\n",
      "Day 4 : 8\n",
      "Day 5 : 12\n",
      "Day 6 : -7\n",
      "Day 7 : 5\n"
     ]
    }
   ],
   "source": [
    "# Заданный список динамики числа пользователей\n",
    "user_dynamics = [-5, 2, 4, 8, 12, -7, 5] \n",
    "# Создаём цикл по индексам и элементам списка \n",
    "# i — индекс текущего элемента, dynamic — текущее значение из списка\n",
    "for i, dynamic in enumerate(user_dynamics):\n",
    "    # Выводим номер дня и динамику на этот день \n",
    "    print(\"Day {} : {}\".format(i+1, dynamic)) "
   ]
  },
  {
   "cell_type": "markdown",
   "metadata": {},
   "source": [
    "***"
   ]
  },
  {
   "cell_type": "markdown",
   "metadata": {},
   "source": [
    "### Задание\n",
    "\n",
    "Дан список, состоящий из строк. Список хранится в переменной str_list. Создайте новый список cut_str_list.\n",
    "\n",
    "В цикле добавляйте в список cut_str_list списки, состоящие из порядкового номера строки из списка str_list (номер в рамках данной задачи начинается с 0) и трёх первых символов из каждой строки. Если длина строки меньше трёх символов, то добавляется вся строка целиком."
   ]
  },
  {
   "cell_type": "code",
   "execution_count": 4,
   "metadata": {},
   "outputs": [
    {
     "data": {
      "text/plain": [
       "[[0, 'Hel'],\n",
       " [1, 'my'],\n",
       " [2, 'nam'],\n",
       " [3, 'is'],\n",
       " [4, 'Eze'],\n",
       " [5, 'I'],\n",
       " [6, 'lik'],\n",
       " [7, 'kni']]"
      ]
     },
     "execution_count": 4,
     "metadata": {},
     "output_type": "execute_result"
    }
   ],
   "source": [
    "str_list = ['Hello', 'my', 'name', 'is', 'Ezeikel', 'I', 'like', 'knitting']\n",
    "\n",
    "cut_str_list=[]\n",
    "t=[]\n",
    "for i, row in enumerate(str_list):\n",
    "  cut_str_list.append([i, row[:3]])\n",
    "  \n",
    "cut_str_list"
   ]
  },
  {
   "cell_type": "markdown",
   "metadata": {},
   "source": [
    "***"
   ]
  },
  {
   "cell_type": "markdown",
   "metadata": {},
   "source": [
    "## BREAK"
   ]
  },
  {
   "cell_type": "markdown",
   "metadata": {},
   "source": [
    "### Задача\n",
    "\n",
    "Условие задачи. Мы разрабатываем игру, и в ней предусмотрен инвентарь с ограниченным числом ячеек. Переменная inventory описывает список вещей, которые хранятся у игрока в инвентаре. Пусть изначально инвентарь пуст. У игрока есть только три свободные ячейки инвентаря.\n",
    "\n",
    "Список вещей, которые он хочет положить, хранится в переменной to_inventory.\n",
    "\n",
    "Необходимо написать программу, которая переносит вещи из списка to_inventory в список inventory, но если количество этих вещей превысит 3, то выводится предупреждение и перенос вещей заканчивается."
   ]
  },
  {
   "cell_type": "code",
   "execution_count": 5,
   "metadata": {},
   "outputs": [
    {
     "name": "stdout",
     "output_type": "stream",
     "text": [
      "Inventory is full!\n",
      "['Blood Moon Sword', 'Sunset-colored sword', 'Bow of Stars']\n"
     ]
    }
   ],
   "source": [
    "# Список вещей, которые нужно положить в инвентарь.\n",
    "to_inventory = ['Blood Moon Sword', 'Sunset-colored sword', 'Bow of Stars', 'Gain Stone']\n",
    "# Задаём пустой инвентарь\n",
    "inventory = [] \n",
    "# Создаём цикл по элементам списка to_inventory\n",
    "# item — текущий элемент списка\n",
    "for item in to_inventory: \n",
    "    # Проверяем условие, что инвентарь уже заполнен.\n",
    "    if len(inventory) == 3: \n",
    "        # Если условие выполняется,выводим предупреждение об ошибке.\n",
    "        print('Inventory is full!') \n",
    "        # Завершаем работу цикла\n",
    "        break \n",
    "    # Если цикл не завершился добавляем предмет в инвентарь\n",
    "    inventory.append(item)\n",
    "# Выводим результирующий инвентарь \n",
    "print(inventory)"
   ]
  },
  {
   "cell_type": "markdown",
   "metadata": {},
   "source": [
    "***"
   ]
  },
  {
   "cell_type": "markdown",
   "metadata": {},
   "source": [
    "### Задача\n",
    "\n",
    "Условие задачи. В теории шифрования очень активно используются степени числа. Берётся число и несколько раз возводится в некоторую степень. Для дешифрации нужно определить, какое число было задано изначально.\n",
    "\n",
    "Например, изначально задано простое число 3, его возвели в степень 4 и получили число 81.\n",
    "\n",
    "Необходимо написать программу, которая проверяет, что число n является степенью числа 3."
   ]
  },
  {
   "cell_type": "code",
   "execution_count": 6,
   "metadata": {},
   "outputs": [
    {
     "name": "stdout",
     "output_type": "stream",
     "text": [
      "n - is the power of the number 3!\n"
     ]
    }
   ],
   "source": [
    "# Задаём число\n",
    "n = 27 \n",
    "# Создаём бесконечный цикл\n",
    "while True:\n",
    "    # Проверяем условие, что остаток от деления на 3 равен 0.\n",
    "    if n % 3 == 0:\n",
    "        # Если условие выполняется, новое число — результат целочисленного деления на 3.\n",
    "        n = n // 3 \n",
    "        # Проверяем условие, что в результате деления получили 1.\n",
    "        if n == 1: \n",
    "            # Выводим утвердительное сообщение\n",
    "            print('n - is the power of the number 3!')\n",
    "            # Выходим из цикла\n",
    "            break \n",
    "    else: \n",
    "        # В противном случае выводим сообщение-опровержение\n",
    "        print('n - is not the power of the number 3!') \n",
    "        # Выходим из цикла\n",
    "        break "
   ]
  },
  {
   "cell_type": "markdown",
   "metadata": {},
   "source": [
    "***"
   ]
  },
  {
   "cell_type": "markdown",
   "metadata": {},
   "source": [
    "### Задача \n",
    "\n",
    "Допишите программу, которая проверяет гипотезу Сиракуз.\n",
    "Гипотеза Сиракуз заключается в том, что любое натуральное число n можно свести к 1, если повторять над ним следующие действия:\n",
    "\n",
    "если число чётное, разделить его нацело пополам, т. е. n = n // 2;\n",
    "\n",
    "если нечётное — умножить на 3, прибавить 1 и результат нацело разделить на 2, т. е. n = (n * 3 + 1) // 2.\n",
    "\n",
    "Мы тестируем только целые числа!"
   ]
  },
  {
   "cell_type": "code",
   "execution_count": 7,
   "metadata": {},
   "outputs": [
    {
     "name": "stdout",
     "output_type": "stream",
     "text": [
      "Syracuse hypothesis holds for number 19\n"
     ]
    }
   ],
   "source": [
    "n = 19\n",
    "\n",
    "origin = n\n",
    "# Создаём бесконечный цикл\n",
    "while True:\n",
    "    \n",
    "    # Ваш код здесь\n",
    "    if n%2==0:\n",
    "        n=n//2\n",
    "    else:\n",
    "        n = (n * 3 + 1) // 2\n",
    "    # Проверяем, что результат равен 1\n",
    "    if n == 1: \n",
    "        # Если условие выполняется, выводим утвердительное сообщение.\n",
    "        print(f'Syracuse hypothesis holds for number {origin}') \n",
    "        \n",
    "        # Ваш код здесь\n",
    "        break"
   ]
  },
  {
   "cell_type": "markdown",
   "metadata": {},
   "source": [
    "***"
   ]
  },
  {
   "cell_type": "markdown",
   "metadata": {},
   "source": [
    "## Continue"
   ]
  },
  {
   "cell_type": "markdown",
   "metadata": {},
   "source": [
    "### Задача\n",
    "\n",
    "Условие задачи. Дан словарь клиентов и статус их программы скидок. Ключами словаря являются идентификаторы клиентов, а значениями — статусы программы скидок ('yes' — активен, 'no' — неактивен).\n",
    "\n",
    "В честь Нового года магазин хочет отправить подарочные сертификаты всем, у кого активен статус программы скидок.\n",
    "\n",
    "Необходимо написать программу, которая выводит идентификаторы клиентов, которым полагается подарочный сертификат."
   ]
  },
  {
   "cell_type": "code",
   "execution_count": 8,
   "metadata": {},
   "outputs": [
    {
     "name": "stdout",
     "output_type": "stream",
     "text": [
      "Send present user 103303\n",
      "Send present user 100423\n"
     ]
    }
   ],
   "source": [
    "# Заданный словарь\n",
    "client_status = {\n",
    "    103303: 'yes', \n",
    "    103044: 'no',\n",
    "    100423: 'yes',\n",
    "    103032: 'no',\n",
    "    103902: 'no'\n",
    "}\n",
    "# Создаём цикл по ключам словаря client_status\n",
    "for user_id in client_status: # user_id — текущий ключ словаря\n",
    "    \n",
    "    if client_status[user_id] == 'no':\n",
    "        # Если текущий статус == 'no', переходим на следующую итерацию\n",
    "        continue\n",
    "    else:\n",
    "        # В противном случае выводим сообщение об отправке сертификата\n",
    "        print('Send present user', user_id)"
   ]
  },
  {
   "cell_type": "markdown",
   "metadata": {},
   "source": [
    "***"
   ]
  },
  {
   "cell_type": "markdown",
   "metadata": {},
   "source": [
    "### Задача \n",
    "\n",
    "Дан словарь mixture_dict. Значения в нём могут быть трёх типов: строки (str) или числа (int и float).\n",
    "\n",
    "Посчитайте, сколько значений в словаре mixture_dict являются числами. Результат занесите в переменную count_numbers. Используйте в своём коде оператор continue."
   ]
  },
  {
   "cell_type": "code",
   "execution_count": 9,
   "metadata": {},
   "outputs": [
    {
     "data": {
      "text/plain": [
       "4"
      ]
     },
     "execution_count": 9,
     "metadata": {},
     "output_type": "execute_result"
    }
   ],
   "source": [
    "mixture_dict = {'a': 15, 'b': 10.5, 'c': '15', 'd': 50, 'e': 15, 'f': '15'}\n",
    "\n",
    "count_numbers=0\n",
    "for elem in mixture_dict:\n",
    "  if type(mixture_dict[elem])==str:\n",
    "    continue\n",
    "  else:  \n",
    "    count_numbers+=1\n",
    "\n",
    "count_numbers"
   ]
  },
  {
   "cell_type": "markdown",
   "metadata": {},
   "source": [
    "***"
   ]
  },
  {
   "cell_type": "markdown",
   "metadata": {},
   "source": [
    "## Практическое использование циклов ДЛЯ ЗАДАЧ ОБРАБОТКИ ТЕКСТОВ"
   ]
  },
  {
   "cell_type": "markdown",
   "metadata": {},
   "source": [
    "### Задача\n",
    "\n",
    "Условие задачи. Подсчитать количество вхождений каждого символа в заданном тексте. В результате работы программы должен быть сформирован словарь, ключи которого — символы текста, а значения — количество вхождений символа в тексте.\n"
   ]
  },
  {
   "cell_type": "code",
   "execution_count": 10,
   "metadata": {},
   "outputs": [
    {
     "name": "stdout",
     "output_type": "stream",
     "text": [
      "{'t': 88, 'h': 63, 'e': 112, 'r': 39, 'a': 70, 'b': 15, 'i': 47, '-': 2, 'o': 80, 'l': 55, 'w': 31, 'n': 57, 's': 60, 'g': 17, 'k': 14, 'u': 22, 'f': 28, 'm': 17, 'y': 18, ',': 13, 'd': 43, 'p': 23, 'c': 9, 'v': 8, '.': 5, 'x': 1, ';': 3, 'j': 2, '`': 3, \"'\": 5, ':': 1, '!': 4, '(': 1, ')': 1}\n"
     ]
    }
   ],
   "source": [
    "text = \"\"\"\n",
    "The rabbit-hole went straight on like a tunnel for some way, and then dipped suddenly down, so suddenly that Alice had not a moment to think about stopping herself before she found herself falling down a very deep well.\n",
    " \n",
    "Either the well was very deep, or she fell very slowly, for she had plenty of time as she went down to look about her and to wonder what was going to happen next. First, she tried to look down and make out what she was coming to, but it was too dark to see anything; then she looked at the sides of the well, and noticed that they were filled with cupboards and book-shelves; here and there she saw maps and pictures hung upon pegs. She took down a jar from one of the shelves as she passed; it was labelled `ORANGE MARMALADE', but to her great disappointment it was empty: she did not like to drop the jar for fear of killing somebody, so managed to put it into one of the cupboards as she fell past it.\n",
    " \n",
    "`Well!' thought Alice to herself, `after such a fall as this, I shall think nothing of tumbling down stairs! How brave they'll all think me at home! Why, I wouldn't say anything about it, even if I fell off the top of the house!' (Which was very likely true.)\n",
    "\"\"\"\n",
    "\n",
    "\n",
    "# Приводим текст к нижнему регистру\n",
    "text = text.lower() \n",
    "# Заменяем пробелы на пустые строки\n",
    "text = text.replace(\" \", \"\") \n",
    "# Заменяем символы переноса строки на пустые строки\n",
    "text = text.replace(\"\\n\", \"\") \n",
    "# Создаём пустой словарь для подсчёта количества символов\n",
    "count_dict = {} \n",
    "# Создаём цикл по символам в строке text\n",
    "for symbol in text: # symbol — текущий символ в тексте\n",
    "    # Проверяем условие, что символа ещё нет среди ключей словаря.\n",
    "    if symbol not in count_dict:\n",
    "        # Если условие выполняется, заносим символ в словарь со значением 1.\n",
    "        count_dict[symbol] = 1 #\n",
    "    else: \n",
    "        # В противном случае увеличиваем частоту символа\n",
    "        count_dict[symbol] += 1 \n",
    "# Выводим результирующий словарь\n",
    "print(count_dict) "
   ]
  },
  {
   "cell_type": "markdown",
   "metadata": {},
   "source": [
    "***"
   ]
  },
  {
   "cell_type": "markdown",
   "metadata": {},
   "source": [
    "### Задача\n",
    "\n",
    "Дана переменная text, в которой содержится некоторый текст. В этом тексте могут присутствовать знаки препинания: точки ('.'), запятые(','), точки с запятой (';'), вопросительные ('?') и восклицательные знаки ('!'), а также тире ('—').\n",
    "\n",
    "Напишите программу, формирующую словарь count_punctuation, ключами которого являются знаки препинания, а значениями — их количество в тексте.\n",
    "\n",
    "Обратите внимание, что если какого-то из шести указанных знаков препинания нет в тексте, то в итоговом словаре значение, соответствующее этому знаку препинания, должно быть равно 0. Также имейте в виду, что тире и дефис являются разными символами."
   ]
  },
  {
   "cell_type": "code",
   "execution_count": 11,
   "metadata": {},
   "outputs": [
    {
     "data": {
      "text/plain": [
       "{',': 1, '.': 2, '?': 0, '!': 0, ';': 1, '—': 0}"
      ]
     },
     "execution_count": 11,
     "metadata": {},
     "output_type": "execute_result"
    }
   ],
   "source": [
    "text = \"\"\"\n",
    "She sells sea shells on the sea shore;\n",
    "The shells that she sells are sea shells I am sure.\n",
    "So if she sells sea shells on the sea shore,\n",
    "I am sure that the shells are sea shore shells.\n",
    "\"\"\"\n",
    "\n",
    "text=text.replace('\\n', ' ')\n",
    "text=text.replace(' ', '')\n",
    "count_punctuation={',': 0, '.': 0, '?': 0, '!': 0, ';': 0, '—': 0}\n",
    "for i in text:\n",
    "  if not i.isalpha():\n",
    "    if i not in count_punctuation:\n",
    "      continue\n",
    "    else:\n",
    "      count_punctuation[i]+=1\n",
    "      \n",
    "count_punctuation"
   ]
  },
  {
   "cell_type": "markdown",
   "metadata": {},
   "source": [
    "***"
   ]
  },
  {
   "cell_type": "markdown",
   "metadata": {},
   "source": [
    "### Задача\n",
    "\n",
    "Условие задачи. Подсчитать количество вхождений каждого слова в заданном тексте. В результате работы программы должен быть сформирован словарь, ключи которого — слова текста, а значения — количество вхождений слов в тексте."
   ]
  },
  {
   "cell_type": "code",
   "execution_count": 12,
   "metadata": {},
   "outputs": [
    {
     "name": "stdout",
     "output_type": "stream",
     "text": [
      "{'she': 3, 'sells': 3, 'sea': 6, 'shells': 6, 'on': 2, 'the': 4, 'shore': 3, 'that': 2, 'are': 2, 'i': 2, 'am': 2, 'sure': 2, 'so': 1, 'if': 1}\n"
     ]
    }
   ],
   "source": [
    "text = \"\"\"\n",
    "She sells sea shells on the sea shore;\n",
    "The shells that she sells are sea shells I am sure.\n",
    "So if she sells sea shells on the sea shore,\n",
    "I am sure that the shells are sea shore shells.\n",
    "\"\"\"\n",
    "# Приводим текст к нижнему регистру\n",
    "text = text.lower() \n",
    "# Заменяем символы переноса строки на пробелы\n",
    "text = text.replace(\"\\n\", \" \") \n",
    "# Заменяем запятые на пустые строки\n",
    "text = text.replace(\",\", \"\") \n",
    "# Заменяем точки на пустые строки\n",
    "text = text.replace(\".\", \"\") \n",
    "# Заменяем точки с запятыми на пустые строки\n",
    "text = text.replace(\";\", \"\") \n",
    "# Разделяем текст на слова\n",
    "word_list = text.split()\n",
    "# Создаём пустой словарь для подсчёта количества слов\n",
    "count_dict = {} \n",
    "# Создаём цикл по словам в списке word_list\n",
    "# word — текущее слово из списка word_list\n",
    "for word in word_list: \n",
    "    # Проверяем условие, что слова ещё нет среди ключей словаря.\n",
    "    if word not in count_dict:\n",
    "        # Если условие выполняется, заносим слово в словарь со значением 1.\n",
    "        count_dict[word] = 1\n",
    "    else: \n",
    "        # В противном случае увеличиваем частоту слова\n",
    "        count_dict[word] += 1\n",
    "# Выводим результирующий словарь\n",
    "print(count_dict) "
   ]
  },
  {
   "cell_type": "markdown",
   "metadata": {},
   "source": [
    "***"
   ]
  },
  {
   "cell_type": "markdown",
   "metadata": {},
   "source": [
    "### Задание\n",
    "\n",
    "Дано предложение, хранящееся в переменной sentence.\n",
    "\n",
    "Выполните следующие действия:\n",
    "\n",
    "Приведите все символы в предложении к нижнему регистру.\n",
    "\n",
    "Исключите знаки препинания (запятые и точки).\n",
    "\n",
    "Разделите строку по пробелам и создайте список слов, которые входят в предложение.\n",
    "\n",
    "Подсчитайте количество повторений каждого слова.\n",
    "\n",
    "Для подсчёта слов используйте словарь. Ключами словаря будут слова, а значениями — число вхождений этих слов в предложение. В результате работы вашей программы в переменной word_dict должен храниться результирующий словарь."
   ]
  },
  {
   "cell_type": "code",
   "execution_count": 13,
   "metadata": {},
   "outputs": [
    {
     "data": {
      "text/plain": [
       "{'a': 3,\n",
       " 'robot': 1,\n",
       " 'may': 1,\n",
       " 'not': 1,\n",
       " 'injure': 1,\n",
       " 'human': 2,\n",
       " 'being': 2,\n",
       " 'or': 1,\n",
       " '': 3,\n",
       " 'through': 1,\n",
       " 'inaction': 1,\n",
       " 'allow': 1,\n",
       " 'to': 2,\n",
       " 'come': 1,\n",
       " 'harm': 1}"
      ]
     },
     "execution_count": 13,
     "metadata": {},
     "output_type": "execute_result"
    }
   ],
   "source": [
    "sentence = 'A roboT MAY Not injure a humAn BEING or, tHROugh INACtion, allow a human BEING to come to harm.'\n",
    "\n",
    "word_dict={}\n",
    "sentence=sentence.lower()\n",
    "sentence=sentence.replace('.', ' ')\n",
    "sentence=sentence.replace(',', ' ')\n",
    "sentence=sentence.split(' ')\n",
    "for i in sentence:\n",
    "  if i not in word_dict:\n",
    "    word_dict[i]=1\n",
    "  else: \n",
    "    word_dict[i]+=1\n",
    "    \n",
    "word_dict"
   ]
  },
  {
   "cell_type": "markdown",
   "metadata": {},
   "source": [
    "***"
   ]
  },
  {
   "cell_type": "markdown",
   "metadata": {},
   "source": [
    "### Задание\n",
    "\n",
    "Напишите программу для подсчёта количества вхождений заданного символа в каждую из строк этого списка. Искомый символ хранится в переменной symbol_to_check.\n",
    "\n",
    "Для подсчёта используйте словарь: в качестве ключа запишите в него строку, в качестве значения — число вхождений искомого символа в эту строку. Для хранения словаря используйте переменную с именем word_dict."
   ]
  },
  {
   "cell_type": "code",
   "execution_count": 14,
   "metadata": {},
   "outputs": [
    {
     "data": {
      "text/plain": [
       "{'text': 2, 'morning': 0, 'notepad': 1, 'television': 1, 'ornament': 1}"
      ]
     },
     "execution_count": 14,
     "metadata": {},
     "output_type": "execute_result"
    }
   ],
   "source": [
    "str_list = [\"text\", \"morning\", \"notepad\", \"television\", \"ornament\"]\n",
    "symbol_to_check = 't'\n",
    "\n",
    "word_dict={}\n",
    "for row in str_list:\n",
    "  word_dict[row]=0\n",
    "  for elem in row:\n",
    "    if symbol_to_check ==elem:\n",
    "      word_dict[row]+=1\n",
    "      \n",
    "word_dict"
   ]
  },
  {
   "cell_type": "markdown",
   "metadata": {},
   "source": [
    "***"
   ]
  }
 ],
 "metadata": {
  "kernelspec": {
   "display_name": "Python 3",
   "language": "python",
   "name": "python3"
  },
  "language_info": {
   "codemirror_mode": {
    "name": "ipython",
    "version": 3
   },
   "file_extension": ".py",
   "mimetype": "text/x-python",
   "name": "python",
   "nbconvert_exporter": "python",
   "pygments_lexer": "ipython3",
   "version": "3.12.0"
  }
 },
 "nbformat": 4,
 "nbformat_minor": 2
}
