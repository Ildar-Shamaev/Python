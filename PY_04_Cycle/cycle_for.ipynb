{
 "cells": [
  {
   "cell_type": "markdown",
   "metadata": {},
   "source": [
    "### Цикл for"
   ]
  },
  {
   "cell_type": "markdown",
   "metadata": {},
   "source": [
    "### Задание\n",
    "\n",
    "Условие задачи. Дан список доходов членов семьи Быковых (в тысячах рублей).\n",
    "\n",
    "``` incomes = [120, 38.5, 40.5, 80] ```\n",
    "\n",
    "Необходимо найти общий доход семьи."
   ]
  },
  {
   "cell_type": "code",
   "execution_count": 1,
   "metadata": {},
   "outputs": [
    {
     "name": "stdout",
     "output_type": "stream",
     "text": [
      "Current income 120\n",
      "Current S 0\n",
      "New S 120\n",
      "\n",
      "Current income 38.5\n",
      "Current S 120\n",
      "New S 158.5\n",
      "\n",
      "Current income 40.5\n",
      "Current S 158.5\n",
      "New S 199.0\n",
      "\n",
      "Current income 80\n",
      "Current S 199.0\n",
      "New S 279.0\n",
      "\n",
      "Answer: s= 279.0\n"
     ]
    }
   ],
   "source": [
    "# Задаём список доходов семьи Быковых\n",
    "incomes = [120, 38.5, 40.5, 80]\n",
    "\n",
    "\n",
    "# Задаём начальное значение суммы доходов \n",
    "S = 0 \n",
    "# Создаём цикл for, в котором будем проходиться по элементам списка incomes.\n",
    "# income — текущее значение элемента списка\n",
    "for income in incomes: \n",
    "    # Выводим текущее значение переменной income\n",
    "    print('Current income', income)   \n",
    "    # Выводим текущее значение переменной S  \n",
    "    print('Current S', S) \n",
    "    # Увеличиваем сумму доходов на значение income\n",
    "    # Равносильно S = S + income\n",
    "    S += income \n",
    "    # Выводим обновлённое значение переменной S\n",
    "    print('New S', S)\n",
    "    # Выводим пустую строку для красивого отображения \n",
    "    print() \n",
    "# Выводим результат \n",
    "print('Answer: s=', S) "
   ]
  },
  {
   "cell_type": "markdown",
   "metadata": {},
   "source": [
    "***"
   ]
  },
  {
   "cell_type": "markdown",
   "metadata": {},
   "source": [
    "### Задание\n",
    "Напишите программу, которая находит произведение элементов списка num_list. В качестве начального значения произведения задайте 1. Далее в цикле перебирайте элементы списка num_list и умножайте значение произведения на элемент списка.\n",
    "\n",
    "Результирующее произведение занесите в переменную p."
   ]
  },
  {
   "cell_type": "code",
   "execution_count": 2,
   "metadata": {},
   "outputs": [
    {
     "data": {
      "text/plain": [
       "1947456"
      ]
     },
     "execution_count": 2,
     "metadata": {},
     "output_type": "execute_result"
    }
   ],
   "source": [
    "num_list = [98, 24, 23, 12, 3]\n",
    "p=1\n",
    "for i in num_list:\n",
    "  p*=i\n",
    "  \n",
    "p"
   ]
  },
  {
   "cell_type": "markdown",
   "metadata": {},
   "source": [
    "***"
   ]
  },
  {
   "cell_type": "markdown",
   "metadata": {},
   "source": [
    "### Задание\n",
    "\n",
    "Условие задачи. Найти сумму всех натуральных чисел от 1 до N включительно.\n",
    "\n",
    "Натуральные числа — это числа 1, 2, 3, 4 и т. д."
   ]
  },
  {
   "cell_type": "code",
   "execution_count": 3,
   "metadata": {},
   "outputs": [
    {
     "name": "stdout",
     "output_type": "stream",
     "text": [
      "Current S:  0\n",
      "Current number:  1\n",
      "Sum after addition:  1\n",
      "---\n",
      "Current S:  1\n",
      "Current number:  2\n",
      "Sum after addition:  3\n",
      "---\n",
      "Current S:  3\n",
      "Current number:  3\n",
      "Sum after addition:  6\n",
      "---\n",
      "Current S:  6\n",
      "Current number:  4\n",
      "Sum after addition:  10\n",
      "---\n",
      "Current S:  10\n",
      "Current number:  5\n",
      "Sum after addition:  15\n",
      "---\n",
      "Answer: sum =  15\n"
     ]
    }
   ],
   "source": [
    "# Создаём накопительную переменную, в которой будем считать сумму.\n",
    "S = 0  \n",
    "# Задаём N — последний элемент последовательности\n",
    "N = 5 \n",
    "\n",
    "\n",
    "# Создаём цикл for, которым будем проходить по всем числам от 1 до N (включительно).\n",
    "# Равносильно выражению for i in [1, 2, 3, ... , N -1, N]:\n",
    "for i in range(1, N + 1):  \n",
    "    # Выводим значение суммы на текущем шаге\n",
    "    print(\"Current S: \", S) \n",
    "    # Выводим текущее число\n",
    "    print(\"Current number: \", i) \n",
    "    # Суммируем текущее число i и перезаписываем значение суммы\n",
    "    # Равносильно S = S + i\n",
    "    S += i  \n",
    "    # Выводим значение суммы после сложения\n",
    "    print(\"Sum after addition: \", S)\n",
    "    # Выводим строчку для визуального разделения результатов \n",
    "    print(\"---\") \n",
    "\n",
    "\n",
    "# Выводим ответ в формате “ответ: сумма равна =”\n",
    "print(\"Answer: sum = \", S)"
   ]
  },
  {
   "cell_type": "markdown",
   "metadata": {},
   "source": [
    "***"
   ]
  },
  {
   "cell_type": "markdown",
   "metadata": {},
   "source": [
    "### Задание\n",
    "\n",
    "В математике факториал числа n — это произведение чисел от 1 до n включительно. Это записывается как:\n",
    "\n",
    "n! = 1 · 2 · 3 · ... · (n-1) · n\n",
    "\n",
    "Например:\n",
    "\n",
    "3! = 1 · 2 · 3 = 6\n",
    "\n",
    "5! = 1 · 2 · 3 · 4 · 5 = 120\n",
    "\n",
    "Факториал часто применяется в высшей математике, например в комбинаторике, теории вероятностей и дифференциальном исчислении.\n",
    "\n",
    "В переменной n хранится натуральное число. Напишите программу для вычисления факториала числа n. Результат запишите в переменную p."
   ]
  },
  {
   "cell_type": "code",
   "execution_count": 4,
   "metadata": {},
   "outputs": [
    {
     "data": {
      "text/plain": [
       "6"
      ]
     },
     "execution_count": 4,
     "metadata": {},
     "output_type": "execute_result"
    }
   ],
   "source": [
    "n = 3\n",
    "p=n\n",
    "for i in range(1, n):\n",
    "  p*=i\n",
    "  \n",
    "p"
   ]
  },
  {
   "cell_type": "markdown",
   "metadata": {},
   "source": [
    "***"
   ]
  },
  {
   "cell_type": "markdown",
   "metadata": {},
   "source": [
    "### Задание\n",
    "\n",
    "Напишите программу, которая будет печатать «лесенку» из символов '*' в зависимости от значения переменной n. Число n может быть любым натуральным числом (1, 2, 3…) и задаётся внешней программой при тестировании."
   ]
  },
  {
   "cell_type": "code",
   "execution_count": 5,
   "metadata": {},
   "outputs": [
    {
     "name": "stdout",
     "output_type": "stream",
     "text": [
      "\n",
      "*\n",
      "**\n",
      "***\n",
      "****\n"
     ]
    }
   ],
   "source": [
    "n = 4\n",
    "for i in range(n+1):\n",
    "  print('*'*i)"
   ]
  },
  {
   "cell_type": "markdown",
   "metadata": {},
   "source": [
    "***"
   ]
  },
  {
   "cell_type": "markdown",
   "metadata": {},
   "source": [
    "### Задание \n",
    "\n",
    "Условие задачи. Представим, что мы пишем программу для компании, занимающейся грузоперевозками.\n",
    "\n",
    "В нашем распоряжении есть список масс товаров, предназначенных для перевозки (в килограммах).\n",
    "\n",
    "Согласно нашим данным, товары, которые весят больше 100 килограммов, необходимо перевозить на грузовой машине, а товары меньшей массы можно перевезти на легковой.\n",
    "\n",
    "→ Необходимо написать алгоритм, который распределял бы товары по типам машин.\n",
    "\n",
    "Пример списка товаров (грузов):\n",
    "\n",
    "``` weight_of_products= [10, 42.4, 240.1, 101.5, 98, 0.4, 0.3, 15] ```"
   ]
  },
  {
   "cell_type": "markdown",
   "metadata": {},
   "source": [
    "Способ 1. Цикл по элементам списка"
   ]
  },
  {
   "cell_type": "code",
   "execution_count": 6,
   "metadata": {},
   "outputs": [
    {
     "name": "stdout",
     "output_type": "stream",
     "text": [
      "Product 1, weight: 10 -passenger car\n",
      "Product 2, weight: 42.4 -passenger car\n",
      "Product 3, weight: 240.1 -truck\n",
      "Product 4, weight: 101.5 -truck\n",
      "Product 5, weight: 98 -passenger car\n",
      "Product 6, weight: 0.4 -passenger car\n",
      "Product 7, weight: 0.3 -passenger car\n",
      "Product 8, weight: 15 -passenger car\n"
     ]
    }
   ],
   "source": [
    "# Задаём список значений массы товаров\n",
    "weight_of_products = [10, 42.4, 240.1, 101.5, 98, 0.4, 0.3, 15] \n",
    "\n",
    "\n",
    "# Задаём максимальное значение веса груза\n",
    "max_weight = 100 \n",
    "# Задаём начальный номер груза\n",
    "num = 1 \n",
    "# Создаём цикл по элементам списка со значениями массы товаров\n",
    "# weight — текущее значение веса\n",
    "for weight in weight_of_products: \n",
    "    # Если текущий вес меньше максимального,\n",
    "    if weight < max_weight: \n",
    "        # выводим номер груза, его вес и отправляем его в легковую машину.\n",
    "        print('Product {}, weight: {} -passenger car'.format(num, weight)) \n",
    "    else:\n",
    "        # В противном случае\n",
    "        # выводим номер груза, его вес и отправляем его в грузовую машину.\n",
    "        print('Product {}, weight: {} -truck'.format(num, weight))\n",
    "    # Увеличиваем значение номера груза на 1\n",
    "    num += 1"
   ]
  },
  {
   "cell_type": "markdown",
   "metadata": {},
   "source": [
    "Способ 2. Цикл по индексам списка"
   ]
  },
  {
   "cell_type": "code",
   "execution_count": 7,
   "metadata": {},
   "outputs": [
    {
     "name": "stdout",
     "output_type": "stream",
     "text": [
      "Product 1, weight: 10 -passenger car\n",
      "Product 2, weight: 42.4 -passenger car\n",
      "Product 3, weight: 240.1 -truck\n",
      "Product 4, weight: 101.5 -truck\n",
      "Product 5, weight: 98 -passenger car\n",
      "Product 6, weight: 0.4 -passenger car\n",
      "Product 7, weight: 0.3 -passenger car\n",
      "Product 8, weight: 15 -passenger car\n"
     ]
    }
   ],
   "source": [
    "# Задаём список значений массы товаров\n",
    "weight_of_products = [10, 42.4, 240.1, 101.5, 98, 0.4, 0.3, 15] \n",
    "# Задаём максимальное значение веса груза\n",
    "max_weight = 100 \n",
    "# Вычисляем длину списка\n",
    "N = len(weight_of_products) \n",
    "# Создаём цикл по последовательности чисел от 0 до N (не включая N)\n",
    "# i — текущее значение последовательности\n",
    "for i in range(N): \n",
    "    # Обращаемся к элементу по индексу и сравниваем его с максимумом\n",
    "    if weight_of_products[i] < max_weight:\n",
    "        # Если текущий вес меньше максимального,\n",
    "        # выводим номер груза, его массу и отправляем его в легковую машину.\n",
    "        print('Product {}, weight: {} -passenger car'.format(i+1, weight_of_products[i])) \n",
    "    else:\n",
    "        # В противном случае\n",
    "        # выводим номер груза, его массу и отправляем его в грузовую машину\n",
    "        print('Product {}, weight: {} -truck'.format(i+1, weight_of_products[i]))"
   ]
  },
  {
   "cell_type": "markdown",
   "metadata": {},
   "source": [
    "***"
   ]
  },
  {
   "cell_type": "markdown",
   "metadata": {},
   "source": [
    "### Задание\n",
    "\n",
    "Условие задачи. Мы разрабатываем новый функционал приложения для туристического агентства «Ковёр-самолёт». В нашем распоряжении есть список мест places, которые пользователь хотел бы посетить.\n",
    "\n",
    "Также есть словарь location, ключи которого — места, которые пользователь хочет посетить, а значения — названия стран, где находятся эти места.\n",
    "\n",
    "По эпидемиологическим причинам пользователь не может посетить места, которые находятся вне территории России. Наша задача — заменить заграничные места в списке places на значение 'Unavailable'."
   ]
  },
  {
   "cell_type": "markdown",
   "metadata": {},
   "source": [
    "Способ 1 (неверный). Цикл по элементам списка\n",
    "\n"
   ]
  },
  {
   "cell_type": "code",
   "execution_count": 8,
   "metadata": {},
   "outputs": [
    {
     "name": "stdout",
     "output_type": "stream",
     "text": [
      "['Red Square', 'Swallow Nest', 'Niagara Falls', 'Grand Canyon', 'Louvre', 'Hermitage']\n"
     ]
    }
   ],
   "source": [
    "# Список мест, которые хотим посетить.\n",
    "places = [\n",
    "    'Red Square',\n",
    "    'Swallow Nest',\n",
    "    'Niagara Falls',\n",
    "    'Grand Canyon',\n",
    "    'Louvre',\n",
    "    'Hermitage'\n",
    "]\n",
    "# Словарь соответствия мест и стран\n",
    "location = {\n",
    "    'Red Square': 'Russia',\n",
    "    'Swallow Nest': 'Russia',\n",
    "    'Niagara Falls': 'USA',\n",
    "    'Grand Canyon': 'USA',\n",
    "    'Louvre': 'France',\n",
    "    'Hermitage': 'Russia'\n",
    "}\n",
    "# Создаём цикл по списку мест, которые хотим посетить.\n",
    "# place — текущее название места\n",
    "for place in places: \n",
    "    # Получаем страну из словаря location по ключу\n",
    "    country = location[place] \n",
    "    # Сравниваем название страны\n",
    "    if country != 'Russia': \n",
    "        # Помечаем место как недоступное\n",
    "        place = 'Unavailable' \n",
    "# Выводим результирующий список\n",
    "print(places)\n",
    "\n",
    "\n",
    "## Будет выведено:\n",
    "## ['Red Square', 'Swallow Nest', 'Niagara Falls', 'Grand Canyon', 'Louvre', 'Hermitage']"
   ]
  },
  {
   "cell_type": "markdown",
   "metadata": {},
   "source": [
    "Способ 2. Цикл по индексам списка"
   ]
  },
  {
   "cell_type": "code",
   "execution_count": 9,
   "metadata": {},
   "outputs": [
    {
     "name": "stdout",
     "output_type": "stream",
     "text": [
      "['Red Square', 'Swallow Nest', 'Unavailable', 'Unavailable', 'Unavailable', 'Hermitage']\n"
     ]
    }
   ],
   "source": [
    "# Список мест, которые хотим посетить.\n",
    "places = [\n",
    "    'Red Square',\n",
    "    'Swallow Nest',\n",
    "    'Niagara Falls',\n",
    "    'Grand Canyon',\n",
    "    'Louvre',\n",
    "    'Hermitage'\n",
    "]\n",
    "# Словарь соответствия мест и стран\n",
    "location = {\n",
    "    'Red Square': 'Russia',\n",
    "    'Swallow Nest': 'Russia',\n",
    "    'Niagara Falls': 'USA',\n",
    "    'Grand Canyon': 'USA',\n",
    "    'Louvre': 'France',\n",
    "    'Hermitage': 'Russia'\n",
    "}\n",
    "# Вычисляем длину списка\n",
    "N = len(places)\n",
    "# Создаём цикл по списку мест, которые хотим посетить.\n",
    "# i — текущее значение последовательности\n",
    "for i in range(N):\n",
    "    # places[i] — i-й элемент в списке places\n",
    "    # Получаем страну из словаря location по ключу\n",
    "    country = location[places[i]]\n",
    "    # Сравниваем название стран\n",
    "    if country != 'Russia':\n",
    "        # Помечаем место как недоступное\n",
    "        places[i] = 'Unavailable'\n",
    "# Выводим результирующий список\n",
    "print(places)\n",
    "\n",
    "\n",
    "## Будет выведено:\n",
    "## ['Red Square', 'Swallow Nest', 'Unavailable', 'Unavailable', 'Unavailable', 'Hermitage']"
   ]
  },
  {
   "cell_type": "markdown",
   "metadata": {},
   "source": [
    "***"
   ]
  },
  {
   "cell_type": "markdown",
   "metadata": {},
   "source": [
    "### Задание\n",
    "\n",
    "Вам задан список num_list, состоящий из чисел (int и float) например:\n",
    "\n",
    "``` num_list = [1, 10, 3, -5] ```\n",
    "\n",
    "Отсортируйте его с помощью метода sort() для списков, а затем последовательно выведите на экран элементы этого списка с помощью цикла for в следующем формате: \"element {i}: {elem}\", где i - индекс элемента в списке, elem - элемент."
   ]
  },
  {
   "cell_type": "code",
   "execution_count": 10,
   "metadata": {},
   "outputs": [
    {
     "name": "stdout",
     "output_type": "stream",
     "text": [
      "element 0: -5\n",
      "element 1: 1\n",
      "element 2: 3\n",
      "element 3: 10\n"
     ]
    }
   ],
   "source": [
    "num_list = [1, 10, 3, -5]\n",
    "\n",
    "N=len(num_list)\n",
    "num_list.sort()\n",
    "for i in range(N):\n",
    "  print('element {}:'.format(i), num_list[i])"
   ]
  },
  {
   "cell_type": "markdown",
   "metadata": {},
   "source": [
    "***"
   ]
  },
  {
   "cell_type": "markdown",
   "metadata": {},
   "source": [
    "### Задание\n",
    "\n",
    "Дан список num_list, состоящий из целых чисел (int). Например:\n",
    "\n",
    "``` num_list = list(range(0, 100, 3)) ```\n",
    " \n",
    "С помощью цикла for посчитайте количество чётных элементов в списке. Результат запишите в переменную count_even."
   ]
  },
  {
   "cell_type": "code",
   "execution_count": 12,
   "metadata": {},
   "outputs": [
    {
     "data": {
      "text/plain": [
       "17"
      ]
     },
     "execution_count": 12,
     "metadata": {},
     "output_type": "execute_result"
    }
   ],
   "source": [
    "num_list = list(range(0, 100, 3))\n",
    "\n",
    "N=len(num_list)\n",
    "count_even=0\n",
    "for i in range(N):\n",
    "  if num_list[i]%2==0:\n",
    "    count_even+=1\n",
    "    \n",
    "count_even"
   ]
  },
  {
   "cell_type": "markdown",
   "metadata": {},
   "source": [
    "***"
   ]
  },
  {
   "cell_type": "markdown",
   "metadata": {},
   "source": [
    "### Задание\n",
    "\n",
    "Дан список mixture_list, элементами которого могут являться любые типы данных\n",
    "\n",
    "С помощью цикла for посчитайте количество элементов типа str в списке. Результат запишите в переменную count_str."
   ]
  },
  {
   "cell_type": "code",
   "execution_count": 13,
   "metadata": {},
   "outputs": [
    {
     "data": {
      "text/plain": [
       "3"
      ]
     },
     "execution_count": 13,
     "metadata": {},
     "output_type": "execute_result"
    }
   ],
   "source": [
    "mixture_list = [True, 1, -10, 'hello', False, 'string_1', 123, 2.5, [1, 2], 'another'] \n",
    "\n",
    "N=len(mixture_list)\n",
    "count_str=0\n",
    "for i in range(N):\n",
    "  if type(mixture_list[i])==str:\n",
    "    count_str+=1\n",
    "    \n",
    "count_str"
   ]
  },
  {
   "cell_type": "markdown",
   "metadata": {},
   "source": [
    "***"
   ]
  },
  {
   "cell_type": "markdown",
   "metadata": {},
   "source": [
    "### Задание\n",
    "\n",
    "Мы генерируем текст с помощью нейронной сети. В списке word_list в виде строк задана сгенерированная нейронной сетью последовательность слов\n",
    "\n",
    "Напишите программу для объединения строк из списка word_list в предложения.\n",
    "\n",
    "Гарантируется, что конец каждого предложения обозначается специальной последовательностью символов — \"EOS\" (End Of Sentence). Вместо этого символа в предложении ставится точка — \".\". Для простоты условимся, что другие знаки препинания (запятые, восклицательные знаки и т. д.) нейронная сеть генерировать не умеет.\n",
    "\n",
    "Для решения задачи воспользуйтесь циклом for. Результирующий текст запишите в переменную text."
   ]
  },
  {
   "cell_type": "code",
   "execution_count": 15,
   "metadata": {},
   "outputs": [
    {
     "data": {
      "text/plain": [
       "\"My name is Sergei. I'm from Moscow.\""
      ]
     },
     "execution_count": 15,
     "metadata": {},
     "output_type": "execute_result"
    }
   ],
   "source": [
    "word_list = [\"My\", \"name\", \"is\", \"Sergei\", \"EOS\", \"I'm\", \"from\", \"Moscow\", \"EOS\"] \n",
    "text=''\n",
    "for i in word_list:\n",
    "  if i!='EOS':\n",
    "    text+=i + ' '\n",
    "  else:\n",
    "    text = text[:-1] + '.' + ' '\n",
    "text = text.strip()\n",
    "\n",
    "text"
   ]
  },
  {
   "cell_type": "markdown",
   "metadata": {},
   "source": [
    "***"
   ]
  }
 ],
 "metadata": {
  "kernelspec": {
   "display_name": "Python 3",
   "language": "python",
   "name": "python3"
  },
  "language_info": {
   "codemirror_mode": {
    "name": "ipython",
    "version": 3
   },
   "file_extension": ".py",
   "mimetype": "text/x-python",
   "name": "python",
   "nbconvert_exporter": "python",
   "pygments_lexer": "ipython3",
   "version": "3.12.0"
  }
 },
 "nbformat": 4,
 "nbformat_minor": 2
}
