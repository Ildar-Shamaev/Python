{
 "cells": [
  {
   "cell_type": "markdown",
   "metadata": {},
   "source": [
    "# Вложенные функции. Область видимости переменных"
   ]
  },
  {
   "cell_type": "code",
   "execution_count": 1,
   "metadata": {},
   "outputs": [],
   "source": [
    "# Объявляем внешнюю функцию outer()\n",
    "def outer():\n",
    "    # Печатаем информацию о вызове внешней функции\n",
    "    print('Called outer function')\n",
    "    # Объявляем внутреннюю функцию inner()\n",
    "    def inner():\n",
    "        # Печатаем информацию о вызове внутренней функции\n",
    "        print('Called inner function')\n",
    "    # Вызываем внутреннюю функцию inner()\n",
    "    inner()"
   ]
  },
  {
   "cell_type": "code",
   "execution_count": 2,
   "metadata": {},
   "outputs": [
    {
     "name": "stdout",
     "output_type": "stream",
     "text": [
      "Called outer function\n",
      "Called inner function\n"
     ]
    }
   ],
   "source": [
    "# Вызываем внешнюю функцию outer()    \n",
    "outer()    "
   ]
  },
  {
   "cell_type": "markdown",
   "metadata": {},
   "source": [
    "***"
   ]
  },
  {
   "cell_type": "code",
   "execution_count": 3,
   "metadata": {},
   "outputs": [],
   "source": [
    "# Задаём функцию для вычисления корня степени n из числа value\n",
    "def root(value, n=2):\n",
    "    # Вычисляем корень степени n из числа value\n",
    "    result = value ** (1/n)\n",
    "    # Возвращаем результат из функции\n",
    "    return result"
   ]
  },
  {
   "cell_type": "code",
   "execution_count": 4,
   "metadata": {},
   "outputs": [
    {
     "name": "stdout",
     "output_type": "stream",
     "text": [
      "3.0\n"
     ]
    }
   ],
   "source": [
    "res = root(81, 4)\n",
    "print(res)"
   ]
  },
  {
   "cell_type": "code",
   "execution_count": 5,
   "metadata": {},
   "outputs": [],
   "source": [
    "# Задаём внешнюю функцию\n",
    "def print_root(value, n=2):\n",
    "    # Задаём внутреннюю функцию\n",
    "    # Она будет являться вспомогательной\n",
    "    def root(value, n=2):\n",
    "        result = value ** (1/n)\n",
    "        return result\n",
    "    # Получаем результат из внутренней функции\n",
    "    res = root(value, n)\n",
    "    # Печатаем результат и не возвращаем его\n",
    "    print(f'Root of power {n} from {value} equals {res}')"
   ]
  },
  {
   "cell_type": "code",
   "execution_count": 6,
   "metadata": {},
   "outputs": [
    {
     "name": "stdout",
     "output_type": "stream",
     "text": [
      "Root of power 4 from 81 equals 3.0\n"
     ]
    }
   ],
   "source": [
    "print_root(81, 4)"
   ]
  },
  {
   "cell_type": "markdown",
   "metadata": {},
   "source": [
    "***"
   ]
  },
  {
   "cell_type": "markdown",
   "metadata": {},
   "source": [
    "### Задание\n",
    "\n",
    "На первом этапе напишите функцию get_count_unique_symbols(), которая:\n",
    "\n",
    "принимает на вход строку s,\n",
    "\n",
    "приводит её к нижнему регистру,\n",
    "\n",
    "убирает из неё все пробелы,\n",
    "\n",
    "возвращает количество уникальных символов в строке."
   ]
  },
  {
   "cell_type": "code",
   "execution_count": 7,
   "metadata": {},
   "outputs": [],
   "source": [
    "def get_count_unique_symbols(s):\n",
    "  new_s=s.lower().replace(' ', '')\n",
    "  def unique(new_s):\n",
    "    new_list=list()\n",
    "    for i in new_s:\n",
    "      if i not in new_list:\n",
    "        new_list.append(i)\n",
    "    return len(new_list)\n",
    "  return unique(new_s)"
   ]
  },
  {
   "cell_type": "code",
   "execution_count": 8,
   "metadata": {},
   "outputs": [
    {
     "data": {
      "text/plain": [
       "9"
      ]
     },
     "execution_count": 8,
     "metadata": {},
     "output_type": "execute_result"
    }
   ],
   "source": [
    "get_count_unique_symbols('Это простая строка')"
   ]
  },
  {
   "cell_type": "markdown",
   "metadata": {},
   "source": [
    "***"
   ]
  },
  {
   "cell_type": "markdown",
   "metadata": {},
   "source": [
    "### Задание\n",
    "\n",
    "На втором этапе напишите функцию get_min_string(), которая:\n",
    "\n",
    "принимает на вход две строки s1 и s2,\n",
    "\n",
    "возвращает ту, в которой количество уникальных символов меньше.\n",
    "\n",
    "Чтобы определить количество уникальных символов, воспользуйтесь функцией get_count_unique_symbols(), которую вы написали в предыдущем задании. Поместите ее определение и вызов внутрь функции get_min_string().\n",
    "\n",
    "Функция get_min_string() должна возвращать:\n",
    "\n",
    "строку s1, если количество уникальных символов в ней меньше, чем в s2;\n",
    "\n",
    "строку s2, если количество уникальных символов в ней меньше, чем в s1;\n",
    "\n",
    "кортеж из строк s1 и s2 при равенстве количества уникальных символов."
   ]
  },
  {
   "cell_type": "code",
   "execution_count": 9,
   "metadata": {},
   "outputs": [
    {
     "name": "stdout",
     "output_type": "stream",
     "text": [
      "Это простая строка\n"
     ]
    }
   ],
   "source": [
    "def get_min_string(s1, s2):\n",
    "  new_s1=s1.lower().replace(' ', '')\n",
    "  new_s2=s2.lower().replace(' ', '')\n",
    "  def get_count_unique_symbols(new_s, new_list=None):\n",
    "    if new_list==None:\n",
    "      new_list=[]\n",
    "    for i in new_s:\n",
    "      if i not in new_list:\n",
    "        new_list.append(i)\n",
    "    return len(new_list)\n",
    "  if get_count_unique_symbols(new_s1) < get_count_unique_symbols(new_s2):\n",
    "    return s1\n",
    "  elif get_count_unique_symbols(new_s1) == get_count_unique_symbols(new_s2):\n",
    "    return tuple([s1, s2])\n",
    "  else:\n",
    "    return s2\n",
    "\n",
    "print(get_min_string(s1='Это простая строка', s2='This is a simple string'))"
   ]
  },
  {
   "cell_type": "markdown",
   "metadata": {},
   "source": [
    "***"
   ]
  },
  {
   "cell_type": "markdown",
   "metadata": {},
   "source": [
    "## РАЗРЕШЕНИЕ ПЕРЕМЕННЫХ. ОБЛАСТИ ВИДИМОСТИ"
   ]
  },
  {
   "cell_type": "code",
   "execution_count": 10,
   "metadata": {},
   "outputs": [
    {
     "name": "stdout",
     "output_type": "stream",
     "text": [
      "Employee John Doe is registered with the company TheBlindMice\n"
     ]
    }
   ],
   "source": [
    "# Объявляем внешнюю функцию для регистрации сотрудников\n",
    "def register_employee(name, surname):\n",
    "    # Объявляем функцию для промежуточных вычислений\n",
    "    def create_full_name():\n",
    "        # Функция использует внешние переменные name и surname\n",
    "        sep = ' ' # Разделитель между именем и фамилией\n",
    "        result = name + sep + surname # Вычисляем полное имя\n",
    "        return result\n",
    "    # Вызываем внутреннюю функцию\n",
    "    full_name = create_full_name()\n",
    "    # Выводим результат на экран, используя внешнюю переменную company_name\n",
    "    print('Employee {} is registered with the company {}'.format(full_name, company_name))\n",
    "    \n",
    "company_name = 'TheBlindMice' # Название компании\n",
    "register_employee('John','Doe') # Вызов функции"
   ]
  },
  {
   "cell_type": "markdown",
   "metadata": {},
   "source": [
    "***"
   ]
  },
  {
   "cell_type": "markdown",
   "metadata": {},
   "source": [
    "### Задание\n",
    "\n",
    "Мы пишем приложение для рисования графических фигур. Пока мы можем рисовать только окружности и эллипсы.\n",
    "\n",
    "Чтобы закрашивать фигуры, которые мы рисуем, необходимо рассчитывать площадь этих фигур. Для расчета площади воспользуемся простейшими формулами.\n",
    "\n",
    "Площадь круга вычисляется по формуле:\n",
    "\n",
    "S = πr², где r — радиус окружности.\n",
    "\n",
    "Площадь эллипса вычисляется по формуле:\n",
    "\n",
    "S = πab, где a и b — длины полуосей эллипса.\n",
    "\n",
    "При разработке приложения мы принимаем, что π = 3,1416.\n",
    "\n",
    "Обратите внимание! Это число является константой — его значение не меняется на всём протяжении выполнения программы.\n",
    "\n",
    "Напишите функции calculate_area_circle() и calculate_area_ellipse().\n",
    "\n",
    "Первая функция должна принимать один аргумент r — радиус окружности, вторая функция должна принимать два аргумента a и b — длины полуосей эллипса.\n",
    "\n",
    "Каждая из функций должна возвращать площадь соответствующей фигуры, округленную до третьего знака после запятой.\n",
    "\n",
    "Обе функции должны использовать внутри себя локальные переменные с одним и тем же именем area (площади фигур) и глобальную переменную pi, объявленную вне этих функций."
   ]
  },
  {
   "cell_type": "code",
   "execution_count": 11,
   "metadata": {},
   "outputs": [
    {
     "name": "stdout",
     "output_type": "stream",
     "text": [
      "78.54\n"
     ]
    }
   ],
   "source": [
    "def calculate_area_circle(r):\n",
    "  area=round(pi*r**2, 3)\n",
    "  return area\n",
    "\n",
    "def calculate_area_ellipse(a, b):\n",
    "  area=round(pi*a*b, 3)\n",
    "  return area\n",
    "\n",
    "pi = 3.1416\n",
    "print(calculate_area_circle(r=5))"
   ]
  },
  {
   "cell_type": "markdown",
   "metadata": {},
   "source": [
    "***"
   ]
  },
  {
   "cell_type": "markdown",
   "metadata": {},
   "source": [
    "## ИЗМЕНЕНИЕ ЗНАЧЕНИЙ ГЛОБАЛЬНЫХ ПЕРЕМЕННЫХ. ОБЪЯВЛЕНИЕ GLOBAL"
   ]
  },
  {
   "cell_type": "code",
   "execution_count": 12,
   "metadata": {},
   "outputs": [
    {
     "name": "stdout",
     "output_type": "stream",
     "text": [
      "1\n"
     ]
    }
   ],
   "source": [
    "# Создадим глобальную переменную, изначально она равна 0\n",
    "global_count = 0\n",
    " \n",
    "# Создадим функцию, которая прибавляет 1 к переменной global_count\n",
    "def add_item():\n",
    "    # Здесь мог бы быть код для добавления товара в базу данных\n",
    "    \n",
    "    # Укажем, что global_count является глобальной переменной\n",
    "    global global_count \n",
    "    # Увеличим общее количество товаров на 1\n",
    "    global_count = global_count + 1\n",
    " \n",
    "# Вызовем функцию add_item()\n",
    "add_item()\n",
    "# Напечатаем значение переменной global_count\n",
    "print(global_count)"
   ]
  },
  {
   "cell_type": "markdown",
   "metadata": {},
   "source": [
    "***"
   ]
  },
  {
   "cell_type": "markdown",
   "metadata": {},
   "source": [
    "### Задание\n",
    "\n",
    "Вам необходимо написать программу, которая будет вычислять сумму, оставшуюся на счёте у пользователя банковской карты. Посмотрите на код ниже и внесите в него исправление так, чтобы он работал верно.\n",
    "\n",
    "Не добавляйте аргументы в функцию cash, помимо less_money."
   ]
  },
  {
   "cell_type": "code",
   "execution_count": 13,
   "metadata": {},
   "outputs": [
    {
     "name": "stdout",
     "output_type": "stream",
     "text": [
      "199000\n"
     ]
    }
   ],
   "source": [
    "def cash(less_money):\n",
    "    global money\n",
    "    money -= less_money\n",
    "    return money\n",
    "\n",
    "money = 200000\n",
    "print(cash(1000))"
   ]
  },
  {
   "cell_type": "markdown",
   "metadata": {},
   "source": [
    "***"
   ]
  },
  {
   "cell_type": "markdown",
   "metadata": {},
   "source": [
    "### Задание\n",
    "\n",
    "Вы написали программу, которая позволяет конвертировать рубли в выбранную валюту. При написании программы вы использовали global, но позже узнали, что не стоит так часто его использовать. Перепишите следующий код, не используя global.\n",
    "\n",
    "Перепишите функцию convert() так, чтобы словарь с курсами валют и количество денег на счету были её первым и вторым аргументом, а валюта, в которую необходимо произвести конвертацию, — третьим."
   ]
  },
  {
   "cell_type": "code",
   "execution_count": 15,
   "metadata": {},
   "outputs": [
    {
     "name": "stdout",
     "output_type": "stream",
     "text": [
      "1136.3636363636363\n"
     ]
    }
   ],
   "source": [
    "# Словарь с курсами валют (по отношению к рублю)\n",
    "currencies = {'USD': 74, 'EUR': 88, 'GBP': 98 , 'CHF': 82}\n",
    "# Общее количество денег на счету, которое нужно конвертировать\n",
    "money = 100000\n",
    "# Функция для конвертации валюты, аргумент - наименование валюты\n",
    "def convert(currencies, Money, currency):\n",
    "    # Объявляем, что money - глобальная переменная\n",
    "    Money\n",
    "    # Производим конвертацию - делим количество денег на счету на соответствующий курс\n",
    "    Money = Money / currencies[currency]\n",
    "    return Money\n",
    "\n",
    "convert_money = convert(currencies, money, 'EUR')  \n",
    "print(convert_money) "
   ]
  },
  {
   "cell_type": "markdown",
   "metadata": {},
   "source": [
    "***"
   ]
  },
  {
   "cell_type": "markdown",
   "metadata": {},
   "source": [
    "# ИЗМЕНЕНИЕ ЗНАЧЕНИЙ НЕЛОКАЛЬНЫХ ПЕРЕМЕННЫХ. ОБЪЯВЛЕНИЕ NONLOCAL"
   ]
  },
  {
   "cell_type": "code",
   "execution_count": 16,
   "metadata": {},
   "outputs": [
    {
     "name": "stdout",
     "output_type": "stream",
     "text": [
      "1\n"
     ]
    }
   ],
   "source": [
    "# Внешняя функция\n",
    "def outer():\n",
    "    # Создадим переменную, относящуюся к внешней функции\n",
    "    enclosing_count = 0\n",
    "    # Внутренняя функция\n",
    "    def inner():\n",
    "        # Укажем, что используем нелокальную переменную enclosing_count\n",
    "        nonlocal enclosing_count\n",
    "        # Прибавим 1 к enclosing_count\n",
    "        enclosing_count = enclosing_count + 1\n",
    "        # Напечатаем значение enclosing_count\n",
    "        print(enclosing_count)\n",
    "    # Запустим внутреннюю функцию из внешней\n",
    "    inner()\n",
    " \n",
    "# Запустим внешнюю функцию\n",
    "outer()"
   ]
  },
  {
   "cell_type": "markdown",
   "metadata": {},
   "source": [
    "***"
   ]
  },
  {
   "cell_type": "code",
   "execution_count": 17,
   "metadata": {},
   "outputs": [
    {
     "name": "stdout",
     "output_type": "stream",
     "text": [
      "1130.5\n",
      "1130.5\n",
      "1130.5\n"
     ]
    }
   ],
   "source": [
    "# Внешняя функция для вычисления итоговой стоимости\n",
    "def calculate_cost(cost, sale):\n",
    "    # Внутренняя функция для предобработки аргумента sale\n",
    "    def preprocessing_sale():\n",
    "        # Объявляем, что используем нелокальную переменную sale\n",
    "        nonlocal sale\n",
    "        # Если sale — строка\n",
    "        if type(sale) is str:\n",
    "            # Удаляем из строки '%', приводим к float и делим на 100\n",
    "            sale = float(sale.replace('%', '')) / 100\n",
    "        # Если sale — целое число\n",
    "        elif type(sale) is int:\n",
    "            # Делим его на 100 \n",
    "            sale = sale / 100\n",
    "    # Запускаем предобработку, прежде чем вычислить стоимость\n",
    "    preprocessing_sale()\n",
    "    # Считаем итоговую стоимость и возвращаем её\n",
    "    # (стоимость — стоимость * скидка)     \n",
    "    return cost - cost * sale\n",
    "\n",
    "\n",
    "print(calculate_cost(1330, '15%'))\n",
    "print(calculate_cost(1330, 15))\n",
    "print(calculate_cost(1330, 0.15))"
   ]
  },
  {
   "cell_type": "markdown",
   "metadata": {},
   "source": [
    "***"
   ]
  },
  {
   "cell_type": "markdown",
   "metadata": {},
   "source": [
    "### Задание\n",
    "\n",
    "Мы реализуем функцию count_occurrences(), у которой есть два параметра s — строка и symbols — список из символов. Функция вычисляет, сколько раз символ symbol встречается в строке s.\n",
    "\n",
    "Перед подсчётом количества символов строка s проходит предобработку: из неё удаляются пробелы, а символы приводятся к нижнему регистру.\n",
    "\n",
    "Сейчас при попытке вызвать функцию: count_occurrences('This is simple string', symbol='t') вызывается исключение UnboundLocalError.\n",
    "\n",
    "Исправьте код таким образом, чтобы он отрабатывал без ошибки."
   ]
  },
  {
   "cell_type": "code",
   "execution_count": 18,
   "metadata": {},
   "outputs": [
    {
     "data": {
      "text/plain": [
       "2"
      ]
     },
     "execution_count": 18,
     "metadata": {},
     "output_type": "execute_result"
    }
   ],
   "source": [
    "def count_occurrences(s, symbol):\n",
    "    # Внутренняя функция для предобработки строки s\n",
    "    def preprocessing_s():\n",
    "        # Удаляем пробелы из строки\n",
    "        nonlocal s\n",
    "        s = s.replace(' ', '')\n",
    "        # Приводим строку к нижнему регистру\n",
    "        s = s.lower()\n",
    "    # Вызываем функцию для предобработки аргумента s\n",
    "    preprocessing_s()\n",
    "    # Считаем количество символов symbol в строке s и возвращаем результат\n",
    "    return s.count(symbol)\n",
    "\n",
    "count_occurrences('This is simple string', symbol='t')"
   ]
  },
  {
   "cell_type": "markdown",
   "metadata": {},
   "source": [
    "***"
   ]
  },
  {
   "cell_type": "markdown",
   "metadata": {},
   "source": [
    "# ИЗМЕНЕНИЕ ЗНАЧЕНИЙ ВСТРОЕННЫХ ПЕРЕМЕННЫХ"
   ]
  },
  {
   "cell_type": "markdown",
   "metadata": {},
   "source": [
    "### Задание\n",
    "\n",
    "Нам необходимо проанализировать, какая из рекламных кампаний оказалась наиболее успешной. Данные хранятся в словаре advertising_campaigns, где ключ — это рекламный канал, а значение — список, в котором задано суммарное количество вновь нажавших на кнопку рекламного баннера в 2021 и 2022 годах.\n",
    "\n",
    "Для каждого рекламного канала нужно получить максимальное количество откликнувшихся за 2021 и 2022 годы.\n",
    "\n",
    "Для этого мы создали пустой словарь advertising_campaigns_max и написали цикл for, в котором:\n",
    "\n",
    "проходимся по ключам исходного словаря;\n",
    "\n",
    "вычисляем максимумы в списках, соответствующих этим ключам;\n",
    "\n",
    "добавляем эти значения в новый словарь.\n",
    "\n",
    "Выясните, в чём дело, и исправьте код. В результате выполнения кода у вас должен получиться словарь advertising_campaigns_max следующего вида:\n",
    "\n"
   ]
  },
  {
   "cell_type": "code",
   "execution_count": 20,
   "metadata": {},
   "outputs": [
    {
     "data": {
      "text/plain": [
       "{'ютуб': 248, 'вк': 514, 'радио': 339}"
      ]
     },
     "execution_count": 20,
     "metadata": {},
     "output_type": "execute_result"
    }
   ],
   "source": [
    "advertising_campaigns = {'ютуб': [212, 248], 'вк': [514, 342], 'радио': [339, 125]}\n",
    "\n",
    "# Создаём новый пустой словарь  \n",
    "advertising_campaigns_max = {}  \n",
    "# Создаём цикл по ключам исходного словаря  \n",
    "for key in advertising_campaigns:  \n",
    "    # Вычисляем максимум в списке, лежащем по ключу key  \n",
    "    #print(advertising_campaigns[key])\n",
    "    maxx = max(advertising_campaigns[key])  \n",
    "    # Добавляем максимум в новый словарь  \n",
    "    advertising_campaigns_max[key] = maxx\n",
    "    \n",
    "advertising_campaigns_max"
   ]
  },
  {
   "cell_type": "markdown",
   "metadata": {},
   "source": [
    "***"
   ]
  },
  {
   "cell_type": "markdown",
   "metadata": {},
   "source": [
    "### Задание\n",
    "\n",
    "Условие задачи\n",
    "\n",
    "Мы создаём некоторое приложение, предусматривающее регистрацию пользователей.\n",
    "\n",
    "Пока мы реализуем небольшой функционал для регистрации. Для этого нам необходимо написать функцию register(surname, name, date, middle_name, registry). \n",
    "\n",
    "Она будет иметь следующие аргументы:\n",
    "\n",
    "surname — фамилия пользователя;\n",
    "name —  имя пользователя;\n",
    "date —  дата рождения пользователя в виде строки формата \"DD.MM.YYYY\" (например, \"13.01.2001\");\n",
    "middle_name — отчество пользователя;\n",
    "registry — список, в который необходимо добавить полученные аргументы в виде кортежа. Порядок следующий: фамилия, имя, отчество, день, месяц, год рождения.\n",
    "Регистрацию будем имитировать добавлением данных о пользователях в список в виде кортежа. Функция должна возвращать список, в который добавила запись."
   ]
  },
  {
   "cell_type": "code",
   "execution_count": 22,
   "metadata": {},
   "outputs": [],
   "source": [
    "# Функция для регистрации пользователей\n",
    "def register(surname, name, date, middle_name=None, registry=None):\n",
    "    # Вспомогательная функция для предобработки даты\n",
    "    def preprocessing_date(date):\n",
    "        # Разделяем строку по символу точки\n",
    "        day, month, year = date.split('.')\n",
    "        # Преобразуем все данные к типу данных int\n",
    "        day, month, year = int(day), int(month), int(year)\n",
    "        return day, month, year\n",
    "    # Если список не был передан — создаём пустой список\n",
    "    if registry is None:\n",
    "        registry = list()\n",
    "    # Разделяем дату на составляющие\n",
    "    day, month, year = preprocessing_date(date)\n",
    "    # Добавляем данные в список\n",
    "    registry.append((surname, name, middle_name, day, month, year))\n",
    "    return registry"
   ]
  },
  {
   "cell_type": "code",
   "execution_count": 23,
   "metadata": {},
   "outputs": [
    {
     "name": "stdout",
     "output_type": "stream",
     "text": [
      "[('Petrova', 'Maria', 'Ivanovna', 13, 3, 2003), ('Ivanov', 'Sergej', None, 24, 9, 1995), ('Smith', 'John', None, 13, 2, 2003)]\n"
     ]
    }
   ],
   "source": [
    "# Вызываем функцию для регистрации\n",
    "# Если список registry не передаётся, то он создаётся внутри функции\n",
    "reg = register('Petrova', 'Maria', '13.03.2003', 'Ivanovna')\n",
    "reg = register('Ivanov', 'Sergej', '24.09.1995', registry=reg)\n",
    "reg = register('Smith', 'John', '13.02.2003', registry=reg)\n",
    "print(reg)"
   ]
  },
  {
   "cell_type": "code",
   "execution_count": 24,
   "metadata": {},
   "outputs": [
    {
     "name": "stdout",
     "output_type": "stream",
     "text": [
      "True\n",
      "False\n"
     ]
    }
   ],
   "source": [
    "# Функция для проверки корректности даты\n",
    "def check_date(day, month, year):\n",
    "    # Проверяем день, месяц и год на целочисленность\n",
    "    if (type(day) is not int) or (type(month) is not int) or (type(year) is not int):\n",
    "        return False\n",
    "    # Проверяем год на заданный диапазон\n",
    "    if (year <= 1900) or (year >= 2022):\n",
    "        return False\n",
    "    # Проверяем месяц на заданный диапазон     \n",
    "    if (month < 1) or (month > 12):\n",
    "        return False\n",
    "    # Проверяем день на заданный диапазон  \n",
    "    if (day < 1) or (day > 31): \n",
    "        return False\n",
    "    # Проверяем апрель, июнь, сентябрь и ноябрь на количество дней\n",
    "    if (month in [4,6,9,11]) and (day > 30):\n",
    "        return False\n",
    "    # Проверяем количество дней в феврале\n",
    "    if month == 2 and day > 28:\n",
    "        return False\n",
    "    return True\n",
    "\n",
    "print(check_date(18, 9, 1999))\n",
    "print(check_date(13, 13, 2021))"
   ]
  },
  {
   "cell_type": "markdown",
   "metadata": {},
   "source": [
    "***"
   ]
  },
  {
   "cell_type": "markdown",
   "metadata": {},
   "source": [
    "### Задание\n",
    "\n",
    "Напишите функцию is_leap(year), которая принимает на вход год и возвращает True, если год високосный, иначе — False.\n",
    "\n",
    "Как определить, является ли год високосным:\n",
    "\n",
    "годы, номера которых кратны 400 - високосные;\n",
    "\n",
    "остальные годы, кратные 100 - невисокосные (то есть 1700, 1800, 1900, 2100, 2200, 2300 годы — невисокосные);\n",
    "\n",
    "остальные годы, которых кратны 4 - високосные (например, 1964, 2004, 2008);\n",
    "\n",
    "оставшиеся годы - не високосные (например, 1789, 2013, 2014)."
   ]
  },
  {
   "cell_type": "code",
   "execution_count": 25,
   "metadata": {},
   "outputs": [
    {
     "name": "stdout",
     "output_type": "stream",
     "text": [
      "True\n",
      "False\n"
     ]
    }
   ],
   "source": [
    "def is_leap(year):\n",
    "  if year%400!=0 and year%100==0:\n",
    "    return False\n",
    "  if year%400==0 or year%4==0:\n",
    "    return True\n",
    "  else:\n",
    "    return False\n",
    "\n",
    "print(is_leap(2000))\n",
    "# True\n",
    "print(is_leap(1900))\n",
    "# False"
   ]
  },
  {
   "cell_type": "markdown",
   "metadata": {},
   "source": [
    "***"
   ]
  },
  {
   "cell_type": "markdown",
   "metadata": {},
   "source": [
    "### Задание\n",
    "\n",
    "Нам остался финальный штрих — добавить проверку даты на корректность в функцию для регистрации!\n",
    "\n",
    "Модифицируйте функцию register() так, чтобы она выбрасывала исключение ValueError(\"Invalid Date!\"), если введённая пользователем дата является некорректной. Для этого вам пригодится функция check_date() из предыдущего задания — вы можете добавить её в функцию register() или сделать независимой, на ваш вкус.\n",
    "\n",
    "Главное — не забудьте добавить её объявление при отправке кода на проверку."
   ]
  },
  {
   "cell_type": "code",
   "execution_count": 26,
   "metadata": {},
   "outputs": [],
   "source": [
    "# Введите свое решение ниже\n",
    "def register(surname, name, date, middle_name=None, registry=None):\n",
    "    # Вспомогательная функция для предобработки даты\n",
    "    def preprocessing_date(date):\n",
    "        # Разделяем строку по символу точки\n",
    "        day, month, year = date.split('.')\n",
    "        # Преобразуем все данные к типу данных int\n",
    "        day, month, year = int(day), int(month), int(year)\n",
    "        return day, month, year\n",
    "    # Если список не был передан — создаём пустой список\n",
    "    if registry is None:\n",
    "        registry = list()\n",
    "    # Разделяем дату на составляющие\n",
    "    day, month, year = preprocessing_date(date)\n",
    "    def check_date(day, month, year):\n",
    "        def is_leap(year):\n",
    "          global key\n",
    "          key=0\n",
    "          if year%400==0 or year%4==0:\n",
    "            key=1\n",
    "            return True\n",
    "        \n",
    "        # Проверяем день, месяц и год на целочисленность\n",
    "        if (type(day) is not int) or (type(month) is not int) or (type(year) is not int):\n",
    "            return False\n",
    "        # Проверяем год на заданный диапазон\n",
    "        if (year <= 1900) or (year >= 2022):\n",
    "            return False\n",
    "        # Проверяем месяц на заданный диапазон     \n",
    "        if (month < 1) or (month > 12):\n",
    "            return False\n",
    "        # Проверяем день на заданный диапазон  \n",
    "        if (day < 1) or (day > 31): \n",
    "            return False\n",
    "        # Проверяем апрель, июнь, сентябрь и ноябрь на количество дней\n",
    "        if (month in [4,6,9,11]) and (day > 30):\n",
    "            return False\n",
    "        is_leap(year)\n",
    "        # Проверяем количество дней в феврале\n",
    "        if month == 2 and day > 28 and key==0:\n",
    "            return False\n",
    "        if month == 2 and day > 28 and key==1:\n",
    "            return True\n",
    "        \n",
    "        return True\n",
    "    # Добавляем данные в список\n",
    "    if check_date(day, month, year)==False:\n",
    "      raise ValueError(\"Invalid Date!\")\n",
    "\n",
    "    registry.append((surname, name, middle_name, day, month, year))\n",
    "    return registry"
   ]
  },
  {
   "cell_type": "code",
   "execution_count": 27,
   "metadata": {},
   "outputs": [
    {
     "name": "stdout",
     "output_type": "stream",
     "text": [
      "[('Petrova', 'Maria', 'Ivanovna', 13, 3, 2003), ('Ivanov', 'Sergej', None, 24, 9, 1995), ('Smith', 'John', None, 13, 2, 2003)]\n"
     ]
    }
   ],
   "source": [
    "reg = register('Petrova', 'Maria', '13.03.2003', 'Ivanovna')\n",
    "reg = register('Ivanov', 'Sergej', '24.09.1995', registry=reg)\n",
    "reg = register('Smith', 'John', '13.02.2003', registry=reg)\n",
    "print(reg)"
   ]
  },
  {
   "cell_type": "markdown",
   "metadata": {},
   "source": [
    "***"
   ]
  },
  {
   "cell_type": "markdown",
   "metadata": {},
   "source": [
    "### Задание\n",
    "\n",
    "Условие задачи\n",
    "\n",
    "Мы разрабатываем приложение для графических дизайнеров. Идея приложения состоит в следующем: пользователь выбирает тип фигуры и ставит на экране точки, а приложение по этим точкам рисует фигуру, а также выводит её площадь и периметр. \n",
    "\n",
    "Рисовать с помощью Python мы пока не умеем, однако мы можем реализовать другую часть приложения — расчёт параметров фигуры.\n",
    "\n",
    "Одной из основополагающих геометрических фигур, используемых в дизайне, является треугольник. Каждый треугольник задаётся тремя точками, каждая из которых имеет свои координаты  и  на плоскости: ,  и .\n",
    "\n",
    "Предположим, что в нашем приложении есть возможность отрисовки треугольника по введённым пользователем координатам трёх точек. Каждая из трёх точек представляет собой кортеж из двух чисел — координата точки по оси  и по оси  соответственно. \n",
    "\n",
    "Необходимо реализовать функцию triangle(), которая будет принимать на вход координаты трёх точек p1, p2 и p3 и возвращать длины сторон треугольника, его периметр и площадь в виде словаря."
   ]
  },
  {
   "cell_type": "code",
   "execution_count": 28,
   "metadata": {},
   "outputs": [],
   "source": [
    "def triangle(p1, p2, p3):\n",
    "    # Функция для вычисления сторон треугольника\n",
    "    # По умолчанию параметры функции берутся из объемлющей области видимости\n",
    "    def sides(p1, p2, p3):\n",
    "        # Распаковываем кортежи для удобства, “;” означает новую строку кода\n",
    "        x1, y1 = p1; x2, y2 = p2; x3, y3 = p3\n",
    "        # Вычисляем стороны по теореме Пифагора\n",
    "        a = ((x2 - x1) ** 2 + (y2 - y1)** 2) ** 0.5\n",
    "        b = ((x3 - x1) ** 2 + (y3 - y1)** 2) ** 0.5\n",
    "        c = ((x3 - x2) ** 2 + (y3 - y2)** 2) ** 0.5\n",
    "        return a, b, c\n",
    "\n",
    "    # Функция для вычисления периметра треугольника\n",
    "    def calculate_perimeter_triangle(a, b, c):\n",
    "        # Периметр — сумма всех сторон треугольника\n",
    "        perimeter = a + b + c\n",
    "        return perimeter\n",
    "\n",
    "    # Функция для вычисления площади треугольника\n",
    "    def calculate_area_triangle(a, b, c):\n",
    "        # Вычисляем полупериметр \n",
    "        # Значение perimeter берётся из объемлющей области видимости\n",
    "        p = perimeter / 2\n",
    "        # Вычисляем площадь по формуле Герона\n",
    "        area = (p * (p - a) * (p - b) * (p - c)) ** 0.5\n",
    "        return area\n",
    "    a, b, c = sides(p1, p2, p3)\n",
    "    perimeter = calculate_perimeter_triangle(a, b, c)\n",
    "    area = calculate_area_triangle(a, b, c)\n",
    "    result = {'a': a, 'b': b, 'c': c, 'perimeter': perimeter, 'area': area}\n",
    "    return result"
   ]
  },
  {
   "cell_type": "code",
   "execution_count": 29,
   "metadata": {},
   "outputs": [
    {
     "name": "stdout",
     "output_type": "stream",
     "text": [
      "{'a': 2.1360009363293826, 'b': 2.692582403567252, 'c': 4.422951503238533, 'perimeter': 9.251534843135168, 'area': 2.1250000000000027}\n",
      "{'a': 3.0, 'b': 4.0, 'c': 5.0, 'perimeter': 12.0, 'area': 6.0}\n"
     ]
    }
   ],
   "source": [
    "print(triangle(p1=(2, 2), p2=(4, 1.25), p3=(1, 4.5)))\n",
    "## {'a': 2.1360009363293826, 'b': 2.692582403567252, 'c': 4.422951503238533, 'perimeter': 9.251534843135168, 'area': 2.1250000000000027}\n",
    "print(triangle(p1=(1, 1), p2=(1, 4), p3=(5, 1)))\n",
    "## {'a': 3.0, 'b': 4.0, 'c': 5.0, 'perimeter': 12.0, 'area': 6.0}"
   ]
  },
  {
   "cell_type": "markdown",
   "metadata": {},
   "source": [
    "***"
   ]
  },
  {
   "cell_type": "markdown",
   "metadata": {},
   "source": [
    "### Задание\n",
    "\n",
    "Вы возможно удивитесь, но три точки на плоскости не всегда образуют треугольник.\n",
    "\n",
    "Например, при координатах точек p1, p2, p2 = (2.5, 2), (4, 1), (1, 3) треугольник составить не получится, потому что все эти точки будут лежать на одной прямой:\n",
    "\n",
    "Из математики известно, что треугольник существует только тогда, когда сумма любых двух его сторон больше третьей.\n",
    "\n",
    "То есть треугольник будет существовать, если одновременно будут выполняться следующие условия:\n",
    "\n",
    "a + b > c;\n",
    "a + c > b;\n",
    "b + c > a.\n",
    "В противном случае составить треугольник не получится.\n",
    "\n",
    "Реализуйте функцию check_exist_triangle(a, b, c), которая возвращает True, если треугольник с длинами сторон a, b и c существует, и False — в обратном случае."
   ]
  },
  {
   "cell_type": "code",
   "execution_count": 31,
   "metadata": {},
   "outputs": [
    {
     "name": "stdout",
     "output_type": "stream",
     "text": [
      "True\n"
     ]
    }
   ],
   "source": [
    "def check_exist_triangle(a, b, c):\n",
    "  if a+b>c and a+c>b and c+b>a:\n",
    "    return True\n",
    "  else:\n",
    "    return False\n",
    "\n",
    "print(check_exist_triangle(a=3, b=4, c=5))"
   ]
  },
  {
   "cell_type": "markdown",
   "metadata": {},
   "source": [
    "***"
   ]
  },
  {
   "cell_type": "markdown",
   "metadata": {},
   "source": [
    "### Задание \n",
    "\n",
    "Остался финальный штрих.\n",
    "\n",
    "Модифицируйте функцию triangle() так, чтобы эта функция выбрасывала исключение ValueError(\"Треугольник не существует\"), если треугольник не существует.\n",
    "\n",
    "Для проверки существования треугольника воспользуйтесь функцией check_exist_triangle() из предыдущего задания. Добавьте её объявление и вызов внутрь функции triangle()."
   ]
  },
  {
   "cell_type": "code",
   "execution_count": 32,
   "metadata": {},
   "outputs": [],
   "source": [
    "def triangle(p1, p2, p3):\n",
    "    # Функция для вычисления сторон треугольника\n",
    "    # По умолчанию параметры функции берутся из объемлющей области видимости\n",
    "    def sides(p1, p2, p3):\n",
    "        # Распаковываем кортежи для удобства, “;” означает новую строку кода\n",
    "        x1, y1 = p1; x2, y2 = p2; x3, y3 = p3\n",
    "        # Вычисляем стороны по теореме Пифагора\n",
    "        a = ((x2 - x1) ** 2 + (y2 - y1)** 2) ** 0.5\n",
    "        b = ((x3 - x1) ** 2 + (y3 - y1)** 2) ** 0.5\n",
    "        c = ((x3 - x2) ** 2 + (y3 - y2)** 2) ** 0.5\n",
    "        return a, b, c\n",
    "    def check_exist_triangle(a, b, c):\n",
    "      if a+b>c and a+c>b and c+b>a:\n",
    "        pass\n",
    "      else:\n",
    "        raise ValueError(\"Треугольник не существует\")\n",
    "        return False\n",
    "    # Функция для вычисления периметра треугольника\n",
    "    def calculate_perimeter_triangle(a, b, c):\n",
    "        # Периметр — сумма всех сторон треугольника\n",
    "        perimeter = a + b + c\n",
    "        return perimeter\n",
    "\n",
    "    # Функция для вычисления площади треугольника\n",
    "    def calculate_area_triangle(a, b, c):\n",
    "        # Вычисляем полупериметр \n",
    "        # Значение perimeter берётся из объемлющей области видимости\n",
    "        p = perimeter / 2\n",
    "        # Вычисляем площадь по формуле Герона\n",
    "        area = (p * (p - a) * (p - b) * (p - c)) ** 0.5\n",
    "        return area\n",
    "    a, b, c = sides(p1, p2, p3)\n",
    "    check_exist_triangle(a, b, c)\n",
    "    perimeter = calculate_perimeter_triangle(a, b, c)\n",
    "    area = calculate_area_triangle(a, b, c)\n",
    "    result = {'a': a, 'b': b, 'c': c, 'perimeter': perimeter, 'area': area}\n",
    "    return result\n"
   ]
  },
  {
   "cell_type": "code",
   "execution_count": 33,
   "metadata": {},
   "outputs": [
    {
     "name": "stdout",
     "output_type": "stream",
     "text": [
      "{'a': 2.1360009363293826, 'b': 2.692582403567252, 'c': 4.422951503238533, 'perimeter': 9.251534843135168, 'area': 2.1250000000000027}\n",
      "{'a': 3.0, 'b': 4.0, 'c': 5.0, 'perimeter': 12.0, 'area': 6.0}\n"
     ]
    },
    {
     "ename": "ValueError",
     "evalue": "Треугольник не существует",
     "output_type": "error",
     "traceback": [
      "\u001b[1;31m---------------------------------------------------------------------------\u001b[0m",
      "\u001b[1;31mValueError\u001b[0m                                Traceback (most recent call last)",
      "Cell \u001b[1;32mIn[33], line 5\u001b[0m\n\u001b[0;32m      3\u001b[0m \u001b[38;5;28mprint\u001b[39m(triangle(p1\u001b[38;5;241m=\u001b[39m(\u001b[38;5;241m1\u001b[39m, \u001b[38;5;241m1\u001b[39m), p2\u001b[38;5;241m=\u001b[39m(\u001b[38;5;241m1\u001b[39m, \u001b[38;5;241m4\u001b[39m), p3\u001b[38;5;241m=\u001b[39m(\u001b[38;5;241m5\u001b[39m, \u001b[38;5;241m1\u001b[39m)))\n\u001b[0;32m      4\u001b[0m \u001b[38;5;66;03m## {'a': 3.0, 'b': 4.0, 'c': 5.0, 'perimeter': 12.0, 'area': 6.0}\u001b[39;00m\n\u001b[1;32m----> 5\u001b[0m \u001b[38;5;28mprint\u001b[39m(\u001b[43mtriangle\u001b[49m\u001b[43m(\u001b[49m\u001b[43mp1\u001b[49m\u001b[38;5;241;43m=\u001b[39;49m\u001b[43m(\u001b[49m\u001b[38;5;241;43m2.5\u001b[39;49m\u001b[43m,\u001b[49m\u001b[43m \u001b[49m\u001b[38;5;241;43m2\u001b[39;49m\u001b[43m)\u001b[49m\u001b[43m,\u001b[49m\u001b[43m \u001b[49m\u001b[43mp2\u001b[49m\u001b[38;5;241;43m=\u001b[39;49m\u001b[43m(\u001b[49m\u001b[38;5;241;43m4\u001b[39;49m\u001b[43m,\u001b[49m\u001b[43m \u001b[49m\u001b[38;5;241;43m1\u001b[39;49m\u001b[43m)\u001b[49m\u001b[43m,\u001b[49m\u001b[43m \u001b[49m\u001b[43mp3\u001b[49m\u001b[38;5;241;43m=\u001b[39;49m\u001b[43m(\u001b[49m\u001b[38;5;241;43m1\u001b[39;49m\u001b[43m,\u001b[49m\u001b[43m \u001b[49m\u001b[38;5;241;43m3\u001b[39;49m\u001b[43m)\u001b[49m\u001b[43m)\u001b[49m)\n\u001b[0;32m      6\u001b[0m \u001b[38;5;66;03m## ValueError: Треугольник не существует\u001b[39;00m\n",
      "Cell \u001b[1;32mIn[32], line 33\u001b[0m, in \u001b[0;36mtriangle\u001b[1;34m(p1, p2, p3)\u001b[0m\n\u001b[0;32m     31\u001b[0m     \u001b[38;5;28;01mreturn\u001b[39;00m area\n\u001b[0;32m     32\u001b[0m a, b, c \u001b[38;5;241m=\u001b[39m sides(p1, p2, p3)\n\u001b[1;32m---> 33\u001b[0m \u001b[43mcheck_exist_triangle\u001b[49m\u001b[43m(\u001b[49m\u001b[43ma\u001b[49m\u001b[43m,\u001b[49m\u001b[43m \u001b[49m\u001b[43mb\u001b[49m\u001b[43m,\u001b[49m\u001b[43m \u001b[49m\u001b[43mc\u001b[49m\u001b[43m)\u001b[49m\n\u001b[0;32m     34\u001b[0m perimeter \u001b[38;5;241m=\u001b[39m calculate_perimeter_triangle(a, b, c)\n\u001b[0;32m     35\u001b[0m area \u001b[38;5;241m=\u001b[39m calculate_area_triangle(a, b, c)\n",
      "Cell \u001b[1;32mIn[32], line 16\u001b[0m, in \u001b[0;36mtriangle.<locals>.check_exist_triangle\u001b[1;34m(a, b, c)\u001b[0m\n\u001b[0;32m     14\u001b[0m   \u001b[38;5;28;01mpass\u001b[39;00m\n\u001b[0;32m     15\u001b[0m \u001b[38;5;28;01melse\u001b[39;00m:\n\u001b[1;32m---> 16\u001b[0m   \u001b[38;5;28;01mraise\u001b[39;00m \u001b[38;5;167;01mValueError\u001b[39;00m(\u001b[38;5;124m\"\u001b[39m\u001b[38;5;124mТреугольник не существует\u001b[39m\u001b[38;5;124m\"\u001b[39m)\n\u001b[0;32m     17\u001b[0m   \u001b[38;5;28;01mreturn\u001b[39;00m \u001b[38;5;28;01mFalse\u001b[39;00m\n",
      "\u001b[1;31mValueError\u001b[0m: Треугольник не существует"
     ]
    }
   ],
   "source": [
    "print(triangle(p1=(2, 2), p2=(4, 1.25), p3=(1, 4.5)))\n",
    "## {'a': 2.1360009363293826, 'b': 2.692582403567252, 'c': 4.422951503238533, 'perimeter': 9.251534843135168, 'area': 2.1250000000000027}\n",
    "print(triangle(p1=(1, 1), p2=(1, 4), p3=(5, 1)))\n",
    "## {'a': 3.0, 'b': 4.0, 'c': 5.0, 'perimeter': 12.0, 'area': 6.0}\n",
    "print(triangle(p1=(2.5, 2), p2=(4, 1), p3=(1, 3)))\n",
    "## ValueError: Треугольник не существует\n"
   ]
  },
  {
   "cell_type": "markdown",
   "metadata": {},
   "source": [
    "***"
   ]
  },
  {
   "cell_type": "markdown",
   "metadata": {},
   "source": [
    "### Задание\n",
    "\n",
    "Создавая окружность в нашем графическом приложении, пользователь сначала ставит точку P₁ — центр окружности. Затем тянет мышкой эту точку, и там, где растяжение остановится, будет создана точка P₂.\n",
    "\n",
    "Каждая точка имеет координаты x и y, которые задаются в виде кортежей: P₁=(x₁, y₁), P₂=(x₂, y₂).\n",
    "\n",
    "Чтобы вычислить все параметры окружности, нам необходимо знать её радиус.\n",
    "\n",
    "Напишите функцию radius(), которая принимает на вход две точки (их координаты заданы кортежами) и возвращает радиус окружности.\n",
    "\n",
    "Для вычисления радиуса воспользуйтесь теоремой Пифагора"
   ]
  },
  {
   "cell_type": "code",
   "execution_count": 34,
   "metadata": {},
   "outputs": [
    {
     "name": "stdout",
     "output_type": "stream",
     "text": [
      "2.23606797749979\n"
     ]
    }
   ],
   "source": [
    "def radius(p1, p2):\n",
    "    # Функция для вычисления сторон треугольника\n",
    "        # Распаковываем кортежи для удобства, “;” означает новую строку кода\n",
    "      x1, y1 = p1; x2, y2 = p2;\n",
    "      # Вычисляем стороны по теореме Пифагора\n",
    "      r = ((x2 - x1) ** 2 + (y2 - y1)** 2) ** 0.5\n",
    "      return r\n",
    "  \n",
    "print(radius(p1=(3, 2.5), p2=(4, 4.5)))"
   ]
  },
  {
   "cell_type": "markdown",
   "metadata": {},
   "source": [
    "***"
   ]
  },
  {
   "cell_type": "markdown",
   "metadata": {},
   "source": [
    "### Задание\n",
    "\n",
    "Теперь, когда у нас есть функция для расчёта радиуса по двум точкам, нам не составит труда вычислить площадь и периметр окружности. Для удобства все вычисления можно обернуть в одну объемлющую функцию.\n",
    "\n",
    "Напишите функцию circle(), которая принимает на вход две точки, чьи координаты записаны в виде кортежей.\n",
    "\n",
    "Внутри себя функция содержит три вложенные функции:\n",
    "\n",
    "radius() — функция для вычисления радиуса, которую мы писали в прошлом задании.\n",
    "calculate_circumference() — функция для вычисления длины окружности (по сути периметра) по формуле:\n",
    "L=2πr\n",
    "Радиус окружности сделайте параметром функции.\n",
    "calculate_area_circle() — функция для вычисления площади окружности по формуле:\n",
    "S=πr²\n",
    "Радиус окружности сделайте параметром функции.\n",
    "Значение числа π задаётся глобальной переменной pi в основном блоке программы.\n",
    "\n",
    "Функция circle() должна возвращать словарь с ключами 'radius', 'circumference' и 'area'. Значениями должны быть рассчитанные радиус, длина окружности и её площадь соответственно, округленные до третьего знака после запятой. Радиус нужно округлять, когда все остальные значения посчитаны."
   ]
  },
  {
   "cell_type": "code",
   "execution_count": 35,
   "metadata": {},
   "outputs": [
    {
     "name": "stdout",
     "output_type": "stream",
     "text": [
      "{'radius': 2.236, 'circumference': 14.05, 'area': 15.708}\n"
     ]
    }
   ],
   "source": [
    "def circle(p1, p2):\n",
    "  def radius(p1, p2):\n",
    "      # Функция для вычисления сторон треугольника\n",
    "          # Распаковываем кортежи для удобства, “;” означает новую строку кода\n",
    "    x1, y1 = p1; x2, y2 = p2\n",
    "        # Вычисляем стороны по теореме Пифагора\n",
    "    r = ((x2 - x1) ** 2 + (y2 - y1)** 2) ** 0.5\n",
    "    return r\n",
    "  def calculate_circumference(r):\n",
    "    L=2*pi*r\n",
    "    return L\n",
    "  def calculate_area_circle(r):\n",
    "    area=pi*(r**2)\n",
    "    return area\n",
    "  r=radius(p1, p2)\n",
    "  p=calculate_circumference(r)\n",
    "  s=calculate_area_circle(r)\n",
    "  result = {'radius': round(r, 3), 'circumference': round(p, 3), 'area': round(s, 3)}\n",
    "  return result\n",
    "\n",
    "\n",
    "pi = 3.1416\n",
    "print(circle(p1=(3, 2.5), p2=(4, 4.5)))"
   ]
  },
  {
   "cell_type": "markdown",
   "metadata": {},
   "source": [
    "***"
   ]
  },
  {
   "cell_type": "markdown",
   "metadata": {},
   "source": [
    "# Рекурсия\n"
   ]
  },
  {
   "cell_type": "code",
   "execution_count": 36,
   "metadata": {},
   "outputs": [
    {
     "name": "stdout",
     "output_type": "stream",
     "text": [
      "[10, 21, 24, 12]\n",
      "[21, 24, 12]\n",
      "[24, 12]\n",
      "[12]\n",
      "[]\n",
      "67\n"
     ]
    }
   ],
   "source": [
    "def sum_lst(lst):\n",
    "    # Выводим текущее значение lst\n",
    "    print(lst)\n",
    "    # Задаём условие выхода из рекурсии\n",
    "    if len(lst) == 0:\n",
    "        return 0\n",
    "    # Во всех других случаях возвращаем\n",
    "    # сумму первого элемента списка \n",
    "    # и результат суммирования оставшихся\n",
    "    return lst[0] + sum_lst(lst[1:])\n",
    "\n",
    "\n",
    "my_lst = [10, 21, 24, 12]\n",
    "print(sum_lst(my_lst))"
   ]
  },
  {
   "cell_type": "markdown",
   "metadata": {},
   "source": [
    "***"
   ]
  },
  {
   "cell_type": "markdown",
   "metadata": {},
   "source": [
    "### Задание\n",
    "\n",
    "Напишите рекурсивную функцию multiply_lst(lst), которая перемножает элементы заданного списка lst между собой. Если в функцию передаётся пустой список, она должна возвращать 1."
   ]
  },
  {
   "cell_type": "code",
   "execution_count": 37,
   "metadata": {},
   "outputs": [
    {
     "name": "stdout",
     "output_type": "stream",
     "text": [
      "15.0\n"
     ]
    }
   ],
   "source": [
    "def multiply_lst(lst):\n",
    "  if not lst:\n",
    "    return 1\n",
    "  return lst[0]* multiply_lst(lst[1:])\n",
    "\n",
    "print(multiply_lst([1, 5, 2, 1.5]))"
   ]
  },
  {
   "cell_type": "markdown",
   "metadata": {},
   "source": [
    "***"
   ]
  },
  {
   "cell_type": "markdown",
   "metadata": {},
   "source": [
    "### Задание\n",
    "Напишите рекурсивную функцию inv_sum_list(). На вход ей подаётся список из чисел, а она вычисляет сумму чисел, являющихся обратными к своим элементам. Обратным числу x называется число 1/x. Например, обратным числу 2 является 1/2 = 0.5.\n",
    "\n",
    "Например, если на вход программы подается список [10, 4, 8], то функция должна вернуть сумму 0.1 + 0.25 + 0.125 = 0.475.\n",
    "\n",
    "Если на вход функции передаётся пустой список, она должна возвращать 0."
   ]
  },
  {
   "cell_type": "code",
   "execution_count": 38,
   "metadata": {},
   "outputs": [
    {
     "name": "stdout",
     "output_type": "stream",
     "text": [
      "0.475\n"
     ]
    }
   ],
   "source": [
    "def inv_sum_list(lst):\n",
    "  if not lst:\n",
    "    return 0\n",
    "  return 1/lst[0]+ inv_sum_list(lst[1:])\n",
    "\n",
    "print(inv_sum_list([10, 4, 8]))"
   ]
  },
  {
   "cell_type": "markdown",
   "metadata": {},
   "source": [
    "***"
   ]
  },
  {
   "cell_type": "markdown",
   "metadata": {},
   "source": [
    "# Факториал через рекурсию"
   ]
  },
  {
   "cell_type": "code",
   "execution_count": 39,
   "metadata": {},
   "outputs": [
    {
     "name": "stdout",
     "output_type": "stream",
     "text": [
      "1\n",
      "6\n",
      "120\n"
     ]
    }
   ],
   "source": [
    "def factorial(n):\n",
    "    # Задаём условия выхода из рекурсии:\n",
    "    if n==0: return 1\n",
    "    if n==1: return 1\n",
    "    # Во всех других случаях возвращаем\n",
    "    # произведение текущего числа n и функции от n-1\n",
    "    return factorial(n-1) * n\n",
    "\n",
    "print(factorial(0))\n",
    "print(factorial(3))\n",
    "print(factorial(5))"
   ]
  },
  {
   "cell_type": "markdown",
   "metadata": {},
   "source": [
    "***"
   ]
  },
  {
   "cell_type": "markdown",
   "metadata": {},
   "source": [
    "### Задание\n",
    "\n",
    "Напишем функцию combination(n, k), которая позволит нам автоматически вычислять значение сочетания по формуле, приведённой выше, для любых n и k.\n",
    "\n",
    "При расчёте воспользуйтесь рекурсивной функцией factorial(), которую мы написали выше. Можете сделать её внутренней для функции combination() или независимой функцией, на ваш вкус. Главное, добавьте в свой код объявление функции factorial()."
   ]
  },
  {
   "cell_type": "code",
   "execution_count": 40,
   "metadata": {},
   "outputs": [
    {
     "name": "stdout",
     "output_type": "stream",
     "text": [
      "252.0\n"
     ]
    }
   ],
   "source": [
    "def combination(n, k):\n",
    "  def factorial(x):\n",
    "    # Задаём условия выхода из рекурсии:\n",
    "    if x==0: return 1\n",
    "    if x==1: return 1\n",
    "    # Во всех других случаях возвращаем\n",
    "    # произведение текущего числа n и функции от n-1\n",
    "    return factorial(x-1)*x\n",
    "  C=factorial(n)/(factorial(n-k)*factorial(k))\n",
    "  return C\n",
    "\n",
    "print(combination(n=10, k=5))"
   ]
  },
  {
   "cell_type": "markdown",
   "metadata": {},
   "source": [
    "***"
   ]
  },
  {
   "cell_type": "markdown",
   "metadata": {},
   "source": [
    "# ЦИКЛ VS РЕКУРСИЯ"
   ]
  },
  {
   "cell_type": "code",
   "execution_count": 41,
   "metadata": {},
   "outputs": [
    {
     "name": "stdout",
     "output_type": "stream",
     "text": [
      "2.642653465270996\n"
     ]
    }
   ],
   "source": [
    "from time import time\n",
    "import sys\n",
    "# Увеличим глубину рекурсии\n",
    "sys.setrecursionlimit(1000000000)\n",
    "# Объявляем рекурсивную функцию для расчёта факториала\n",
    "def factorial(n):\n",
    "    if n==0: return 1\n",
    "    if n==1: return 1\n",
    "    return factorial(n-1) * n\n",
    "# Засекаем время до начала выполнения цикла\n",
    "a = time()\n",
    "for i in range(100):\n",
    "    factorial(10000)\n",
    "# Засекаем время после выполнения цикла\n",
    "b = time()\n",
    "# Считаем разницу: вычисляем время, потраченное на выполнение\n",
    "print(b-a)"
   ]
  },
  {
   "cell_type": "code",
   "execution_count": 42,
   "metadata": {},
   "outputs": [
    {
     "name": "stdout",
     "output_type": "stream",
     "text": [
      "2.532613754272461\n"
     ]
    }
   ],
   "source": [
    "from time import time\n",
    "# Объявляем функцию для расчёта факториала через цикл\n",
    "def factorial_for(n):\n",
    "    # Для расчёта произведения первый член — единица, а не ноль!\n",
    "    result = 1\n",
    "    # Перемножаем числа от 1 до n\n",
    "    for i in range(1, n+1):\n",
    "        result *= i\n",
    "    return result\n",
    "# Засекаем время до начала выполнения цикла\n",
    "a = time()\n",
    "for i in range(100):\n",
    "    factorial_for(10000)\n",
    "# Засекаем время после выполнения цикла\n",
    "b = time()\n",
    "# Считаем разницу: вычисляем время, потраченное на выполнение\n",
    "print(b-a)"
   ]
  },
  {
   "cell_type": "markdown",
   "metadata": {},
   "source": [
    "***"
   ]
  },
  {
   "cell_type": "markdown",
   "metadata": {},
   "source": [
    "### Задание\n",
    "\n",
    "Числа Фибоначчи — пример последовательности, которую можно получить рекурсивно. Каждое число из последовательности является суммой двух предыдущих.\n",
    "\n",
    "Последовательность Фибоначчи активно применяется в комбинаторике и аналитике. О значении и вариантах применения чисел Фибоначчи вы можете прочитать в блоге Skillfactory.\n",
    "\n",
    "Можно записать рекурсивное выражение для расчёта n-ого числа из последовательности Фибоначчи:\n",
    "\n",
    "Напишите рекурсивную функцию fib(n), которая считает n-ое число Фибоначчи. Алгоритм работы функции:\n",
    "\n",
    "Если n=1 или n=2, вернуть 1, так как первый и второй элементы ряда Фибоначчи равны единице.\n",
    "Во всех остальных случаях вызвать эту же функцию с аргументами n-1 и n-2 и сложить результаты двух вызовов."
   ]
  },
  {
   "cell_type": "code",
   "execution_count": 43,
   "metadata": {},
   "outputs": [
    {
     "name": "stdout",
     "output_type": "stream",
     "text": [
      "8\n"
     ]
    }
   ],
   "source": [
    "def fib(n):\n",
    "  if n==1: return 1\n",
    "  if n==2: return 1\n",
    "  return fib(n-1)+fib(n-2)\n",
    "\n",
    "print(fib(6))"
   ]
  },
  {
   "cell_type": "markdown",
   "metadata": {},
   "source": [
    "***"
   ]
  },
  {
   "cell_type": "markdown",
   "metadata": {},
   "source": [
    "### Задание\n",
    "\n",
    "Напишите рекурсивную функцию power(val, n), которая возводит число в заданную целую натуральную степень (или в степень 0).\n",
    "\n",
    "Использовать встроенный оператор ** для возведения в степень запрещено. Пользуйтесь только умножением *. Например, 2 ** 4 = (((2 * 2) * 2) * 2) = 16.\n",
    "\n",
    "В качестве первого аргумента функция принимает число, в качестве второго — желаемую степень."
   ]
  },
  {
   "cell_type": "code",
   "execution_count": 44,
   "metadata": {},
   "outputs": [
    {
     "name": "stdout",
     "output_type": "stream",
     "text": [
      "625\n"
     ]
    }
   ],
   "source": [
    "def power(val, n):\n",
    "  if n == 0: return 1\n",
    "  #if n == 1: return 1\n",
    "  return val*power(val, n-1)\n",
    "\n",
    "print(power(-5, 4))"
   ]
  },
  {
   "cell_type": "markdown",
   "metadata": {},
   "source": [
    "***"
   ]
  },
  {
   "cell_type": "markdown",
   "metadata": {},
   "source": [
    "### Задание\n",
    "\n",
    "Условие задачи\n",
    "\n",
    "Необходимо написать функцию add_brackets(), которая принимает на вход строку, содержащую только английские буквы (большие и маленькие). Функция должна добавлять в строку открывающиеся и закрывающиеся скобки по следующему образцу: \"example\" → \"e(x(a(m)p)l)e\".\n",
    "\n",
    "До середины добавляются открывающие скобки, после середины – закрывающие. Если длина строки равна чётному числу, в скобках, расположенных в середине, должно быть два символа: \"card\" → \"c(ar)d\" (но не \"c(a()r)d\")."
   ]
  },
  {
   "cell_type": "code",
   "execution_count": 45,
   "metadata": {},
   "outputs": [],
   "source": [
    "# Функция для создания строки со скобками\n",
    "def add_brackets(s):\n",
    "    # Проверяем условие остановки: строка состоит из одного или двух символов\n",
    "    if len(s) == 1 or len(s) == 2:\n",
    "        # Возвращаем эти символы\n",
    "        return s\n",
    "    # В противном случае:\n",
    "    # «Отщипываем» от строки первый и последний символы,\n",
    "    # добавляем к ним скобки, а также результат вызова функции, в которую\n",
    "    # передаем строку без первого и последнего символов\n",
    "    return s[0] + '(' + add_brackets(s[1:-1]) + ')' + s[-1]"
   ]
  },
  {
   "cell_type": "code",
   "execution_count": 46,
   "metadata": {},
   "outputs": [
    {
     "name": "stdout",
     "output_type": "stream",
     "text": [
      "e(x(a(m)p)l)e\n",
      "c(ar)r\n",
      "h(e(l)l)o\n"
     ]
    }
   ],
   "source": [
    "print(add_brackets('example'))\n",
    "print(add_brackets('carr'))\n",
    "print(add_brackets('hello'))\n"
   ]
  },
  {
   "cell_type": "markdown",
   "metadata": {},
   "source": [
    "***"
   ]
  },
  {
   "cell_type": "markdown",
   "metadata": {},
   "source": [
    "### Задание\n",
    "\n",
    "Дана строка, содержащая только английские буквы (большие и маленькие).\n",
    "\n",
    "Напишите рекурсивную функцию add_asterisk(). Она должна принимать в качестве аргумента строку и добавлять символ * (звёздочка) между буквами. Перед первой и после последней буквами символ * добавлять не нужно."
   ]
  },
  {
   "cell_type": "code",
   "execution_count": 47,
   "metadata": {},
   "outputs": [
    {
     "name": "stdout",
     "output_type": "stream",
     "text": [
      "L*I*t*B*e*o*F*L*c*S*G*B*O*F*Q*x*M*H*o*I*u*D*D*W*c*q*c*V*g*k*c*R*o*A*e*o*c*X*O\n"
     ]
    }
   ],
   "source": [
    "def add_asterisk(s):\n",
    "  if len(s)==1:\n",
    "    return s\n",
    "  if len(s)==2:\n",
    "    return s[0]+'*'+s[-1]\n",
    "  return s[0]+'*'+add_asterisk(s[1:-1])+'*'+s[-1]\n",
    "\n",
    "print(add_asterisk('LItBeoFLcSGBOFQxMHoIuDDWcqcVgkcRoAeocXO'))"
   ]
  },
  {
   "cell_type": "markdown",
   "metadata": {},
   "source": [
    "***"
   ]
  },
  {
   "cell_type": "markdown",
   "metadata": {},
   "source": [
    "### Задание\n",
    "\n",
    "В машинном обучении мы часто работаем с многомерными структурами, например двумерными матрицами.\n",
    "\n",
    "Могут быть и гораздо более сложные структуры, например трёхмерные или четырёхмерные массивы, но пока остановимся на двумерных.\n",
    "\n",
    "В глубоком обучении (Deep Learning) есть специальная операция под названием flatten. Эта операция является важной частью архитектуры свёрточных нейронных сетей: она выпрямляет любой многомерный массив в одномерный.\n",
    "\n",
    "Например, в результате выполнения операции flatten для вложенного списка matrix мы должны получить список следующего вида:\n",
    "\n",
    "Напишем функцию flatten(), которая принимает на вход список, состоящий из других списков, и возвращает обычный список, в котором присутствуют все элементы из вложенных списков."
   ]
  },
  {
   "cell_type": "code",
   "execution_count": 48,
   "metadata": {},
   "outputs": [],
   "source": [
    "# Функция для выпрямления списка\n",
    "def flatten(lst):\n",
    "    # Создаём новый пустой список\n",
    "    result = []\n",
    "    # Создаём цикл по элементам списка\n",
    "    for elem in lst:\n",
    "        # Если элемент списка является списком,\n",
    "        if type(elem) is list:\n",
    "            # Применяем к нему функцию выпрямления и добавляем элементы к результату\n",
    "            result += flatten(elem)\n",
    "        else: # Если элемент не является списоком,\n",
    "            # Добавляем элемент в новый список\n",
    "            result.append(elem)\n",
    "    return result"
   ]
  },
  {
   "cell_type": "code",
   "execution_count": 49,
   "metadata": {},
   "outputs": [
    {
     "name": "stdout",
     "output_type": "stream",
     "text": [
      "[1, 1, 0, 4, 2, 1, 0, 2, 1]\n"
     ]
    }
   ],
   "source": [
    "matrix = [\n",
    "    [1, 1, 0],\n",
    "    [4, 2, 1],\n",
    "    [0, 2, 1]\n",
    "]\n",
    "print(flatten(matrix))"
   ]
  },
  {
   "cell_type": "markdown",
   "metadata": {},
   "source": [
    "***"
   ]
  },
  {
   "cell_type": "markdown",
   "metadata": {},
   "source": [
    "### Задание\n",
    "\n",
    "Другая важная операция в нейронных сетях — это суммирование элементов исходной матрицы.\n",
    "\n",
    "Напишите функцию sum_list(). Она принимает на вход вложенный список, элементами которого являются числа, и возвращает сумму всех элементов."
   ]
  },
  {
   "cell_type": "code",
   "execution_count": 50,
   "metadata": {},
   "outputs": [
    {
     "name": "stdout",
     "output_type": "stream",
     "text": [
      "82\n"
     ]
    }
   ],
   "source": [
    "def sum_list(lst):\n",
    "    total = 0\n",
    "    for elem in lst:\n",
    "        if type(elem) is list:\n",
    "            total += sum_list(elem)\n",
    "        else:\n",
    "            total += elem\n",
    "    return total\n",
    "\n",
    "matrix = [\n",
    "    [1, 1, [1, 2, 3], 0],\n",
    "    [4, 2, 1, [10, 52, 2]],\n",
    "    [0, 2, 1]\n",
    "]\n",
    "print(sum_list(matrix))"
   ]
  },
  {
   "cell_type": "markdown",
   "metadata": {},
   "source": [
    "***"
   ]
  },
  {
   "cell_type": "markdown",
   "metadata": {},
   "source": [
    "### Задание\n",
    "\n",
    "Условие задачи\n",
    "\n",
    "Мы администрируем некоторый форум. Каждое сообщение на форуме имеет свой идентификатор. Сообщения на форуме могут иметь древовидную структуру, то есть существует корневое сообщение (нулевой уровень), на это сообщение могут быть ответы (первый уровень), а на каждый из этих ответов могут быть ещё ответы (второй уровень). Такая структура может быть бесконечной. То есть каждое сообщение может иметь:\n",
    "\n",
    "родителя — сообщение, на которое мы ответили на форуме своим сообщением;\n",
    "\n",
    "потомков — сообщения, которые являются ответом на наше сообщение.\n",
    "\n",
    "Дан словарь forum_messages, ключами которого являются идентификаторы (id) сообщений на форуме. Значения в свою очередь также являются словарями. У этих словарей есть два ключа:\n",
    "\n",
    "parrent_link — родительская ссылка: может быть целым числом, если сообщение является ответом на другое сообщение, или None, если сообщение является корневым на форуме;\n",
    "\n",
    "child_link — список из идентификаторов дочерних сообщений, если таковые имеются, и пустой список, если таковых нет.\n",
    "\n",
    "Необходимо реализовать функцию delete_message(), которая принимает на вход словарь со структурой форума и идентификатор сообщения. Функция должна удалять идентификатор сообщения из словаря, а также идентификаторы дочерних сообщений."
   ]
  },
  {
   "cell_type": "code",
   "execution_count": 52,
   "metadata": {},
   "outputs": [
    {
     "name": "stdout",
     "output_type": "stream",
     "text": [
      "{1: {'parrent_link': None, 'child_link': [3, 4]}, 2: {'parrent_link': None, 'child_link': []}, 3: {'parrent_link': 1, 'child_link': [6]}, 4: {'parrent_link': 1, 'child_link': []}, 6: {'parrent_link': 3, 'child_link': []}}\n"
     ]
    }
   ],
   "source": [
    "forum_messages = {\n",
    "    1: {'parrent_link': None, 'child_link': [3, 4]},\n",
    "    2: {'parrent_link': None, 'child_link': [5]},\n",
    "    3: {'parrent_link': 1, 'child_link': [6]},\n",
    "    4: {'parrent_link': 1, 'child_link': []},\n",
    "    5: {'parrent_link': 2, 'child_link': []},\n",
    "    6: {'parrent_link': 3, 'child_link': []}\n",
    "}\n",
    "\n",
    "# Функция для удаления сообщения на форуме и всех его потомков\n",
    "def delete_message(messages, msg_id):\n",
    "    # Удаляем из словаря сообщение с идентификатором msg_id\n",
    "    # Метод pop() возвращает значение, лежащее по удаляемому ключу\n",
    "    result = messages.pop(msg_id)\n",
    "    # Получаем идентификатор родителя\n",
    "    parrent_link = result['parrent_link']\n",
    "    # Получаем список идентификаторов потомков\n",
    "    child_link = result['child_link']\n",
    "    # Если у сообщения был родитель и он ещё не был удален\n",
    "    # Эта запись будет аналогична parrent_link is not None\n",
    "    if parrent_link and parrent_link in messages:\n",
    "        # Обращаемся к словарю messages по ключу родителя\n",
    "        # Удаляем потомка из списка потомков\n",
    "        messages[parrent_link]['child_link'].remove(msg_id)\n",
    "    # Если у сообщения были потомки\n",
    "    # Эта запись будет аналогична child_link == [<значение_1>, <значение_2>, ...]\n",
    "    if child_link:\n",
    "        # В цикле проходимся по всем потомкам \n",
    "        for child_id in child_link:\n",
    "            # И повторяем те же самые действия для каждого из них\n",
    "            # (рекурсивно вызываем функцию delete_message)\n",
    "            delete_message(messages, msg_id=child_id)\n",
    "    return messages\n",
    "\n",
    "print(delete_message(forum_messages, msg_id=5))"
   ]
  },
  {
   "cell_type": "markdown",
   "metadata": {},
   "source": [
    "***"
   ]
  },
  {
   "cell_type": "markdown",
   "metadata": {},
   "source": [
    "# Встроенная функция map()"
   ]
  },
  {
   "cell_type": "markdown",
   "metadata": {},
   "source": [
    "### Задание\n",
    "\n",
    "Условие задачи\n",
    "\n",
    "В задачах обработки естественного языка (Natural Language Processing, NLP) иногда имеет значение не только само слово, но и его длина.\n",
    "\n",
    "Перед нами стоит следующая микрозадача: вычислить длину каждого слова из набора данных, чтобы в дальнейшем использовать эту информацию для анализа теста.\n",
    "\n",
    "Пусть задан список words_list со словами, длину которых нам надо посчитать.\n",
    "\n",
    "words_list = [\"We're\", 'in', 'a', 'small', 'village', 'near', 'Chicago', 'My', \"cousin's\", 'getting', 'married.']\n",
    "\n",
    "В результате работы программы мы должны получить новый список следующего вида:\n",
    "\n",
    "[5, 2, 1, 5, 7, 4, 7, 2, 8, 7, 8]"
   ]
  },
  {
   "cell_type": "code",
   "execution_count": 62,
   "metadata": {},
   "outputs": [
    {
     "name": "stdout",
     "output_type": "stream",
     "text": [
      "[5, 2, 1, 5, 7, 4, 7, 2, 8, 7, 8]\n"
     ]
    }
   ],
   "source": [
    "words_list = [\"We're\", 'in', 'a', 'small', 'village', 'near', 'Chicago', 'My', \"cousin's\", 'getting', 'married.']\n",
    "\n",
    "# Создаём пустой список, куда будем заносить результаты\n",
    "lengths_list = []\n",
    "# Создаём цикл по элементам списка names\n",
    "for word in words_list:\n",
    "    # Вычисляем длину текущего слова\n",
    "    length = len(word)\n",
    "    # Добавляем вычисленную длину слова в список\n",
    "    lengths_list.append(length)\n",
    "# Смотрим, что получилось\n",
    "print(lengths_list)\n"
   ]
  },
  {
   "cell_type": "code",
   "execution_count": 63,
   "metadata": {},
   "outputs": [
    {
     "name": "stdout",
     "output_type": "stream",
     "text": [
      "[5, 2, 1, 5, 7, 4, 7, 2, 8, 7, 8]\n"
     ]
    }
   ],
   "source": [
    "# Применяем функцию len к каждому элементу списка\n",
    "# Для этого передаём функцию len и список words_list в функцию map\n",
    "# Результат преобразуем в список\n",
    "lengths_list = list(map(len, words_list))\n",
    "# Посмотрим, что получилось\n",
    "print(lengths_list)"
   ]
  },
  {
   "cell_type": "markdown",
   "metadata": {},
   "source": [
    "***"
   ]
  },
  {
   "cell_type": "markdown",
   "metadata": {},
   "source": [
    "### Задание\n",
    "\n",
    "Условие задачи\n",
    "\n",
    "У нас есть данные о расходах компании за 2022 год, разделённые на кварталы (от первого до четвёртого). Данные представлены в виде списка, состоящего из кортежей, элементами которых являются три числа — расходы в первый, второй и третий месяцы квартала. Необходимо рассчитать максимальные расходы в каждом из кварталов.\n",
    "\n",
    "expenses = [(101, 203, 167), (214, 351, 752), (255, 2537), (852, 362, 366)]"
   ]
  },
  {
   "cell_type": "code",
   "execution_count": 64,
   "metadata": {},
   "outputs": [
    {
     "name": "stdout",
     "output_type": "stream",
     "text": [
      "[203, 752, 2537, 852]\n"
     ]
    }
   ],
   "source": [
    "expenses = [(101, 203, 167), (214, 351, 752), (255, 2537), (852, 362, 366)]\n",
    "\n",
    "# Применяем функцию max к каждому элементу списка\n",
    "# Для этого передаём функцию max и список expenses в функцию map\n",
    "# Результат преобразуем в список\n",
    "expenses_max = list(map(max, expenses))\n",
    "# Смотрим, что получилось\n",
    "print(expenses_max)\n"
   ]
  },
  {
   "cell_type": "markdown",
   "metadata": {},
   "source": [
    "***"
   ]
  },
  {
   "cell_type": "markdown",
   "metadata": {},
   "source": [
    "### Задание\n",
    "Дан список чисел old_list, где все числа имеют строковый тип данных. Чтобы работать с ними, вам нужно превратить их в целое число. Напишите код, который позволит это сделать. Новое значение списка присвойте переменной new_list. В решении используйте функцию map()."
   ]
  },
  {
   "cell_type": "code",
   "execution_count": 65,
   "metadata": {},
   "outputs": [
    {
     "data": {
      "text/plain": [
       "[1, 2, 3, 4, 5, 6, 7]"
      ]
     },
     "execution_count": 65,
     "metadata": {},
     "output_type": "execute_result"
    }
   ],
   "source": [
    "old_list = ['1', '2', '3', '4', '5', '6', '7']\n",
    "new_list=list(map(int, old_list))\n",
    "\n",
    "new_list"
   ]
  },
  {
   "cell_type": "markdown",
   "metadata": {},
   "source": [
    "***"
   ]
  },
  {
   "cell_type": "markdown",
   "metadata": {},
   "source": [
    "### Задание\n",
    "\n",
    "Вам передали информацию о расходах за шесть месяцев. Данные содержатся в списке expenses. В этом списке расходы по каждому месяцу хранятся в отдельных списках. С помощью map создайте новый список expenses_sum, содержащий суммы расходов по каждому месяцу."
   ]
  },
  {
   "cell_type": "code",
   "execution_count": 66,
   "metadata": {},
   "outputs": [
    {
     "data": {
      "text/plain": [
       "[15571, 19984, 9749, 15393, 8357, 21027]"
      ]
     },
     "execution_count": 66,
     "metadata": {},
     "output_type": "execute_result"
    }
   ],
   "source": [
    "expenses = [[2356, 4537, 8678], [7395, 1298, 6500, 4791],[6341, 3408], [1105, 8374, 5914], [1024, 7333], [3500, 2008, 9375, 6144]]  \n",
    "\n",
    "expenses_sum=list(map(sum, expenses))\n",
    "\n",
    "expenses_sum"
   ]
  },
  {
   "cell_type": "markdown",
   "metadata": {},
   "source": [
    "***"
   ]
  },
  {
   "cell_type": "markdown",
   "metadata": {},
   "source": [
    "# map() И ПОЛЬЗОВАТЕЛЬСКИЕ ФУНКЦИИ"
   ]
  },
  {
   "cell_type": "markdown",
   "metadata": {},
   "source": [
    "### Задание\n",
    "\n",
    "Условие задачи\n",
    "\n",
    "Представим, что у нас есть список зарплат сотрудников salaries.\n",
    "\n",
    "salaries = [1500, 2200, 3500, 1200]\n",
    "\n",
    "Необходимо посчитать, какой налог необходимо удержать с каждой зарплаты. Допустим: у нас используется прогрессивная система налогообложения, то есть чем выше зарплата, тем выше налог. Налог на доход меньше 1000 составляет 5 %, от 1000 до 2000 — 10 %, а если доход превышает 2000, то налог составляет 15 %."
   ]
  },
  {
   "cell_type": "code",
   "execution_count": 67,
   "metadata": {},
   "outputs": [
    {
     "name": "stdout",
     "output_type": "stream",
     "text": [
      "[150.0, 330.0, 525.0, 120.0]\n"
     ]
    }
   ],
   "source": [
    "salaries = [1500, 2200, 3500, 1200]\n",
    "\n",
    "# Создаём пустой список, куда будем добавлять размеры налогов\n",
    "taxes = []\n",
    "# В цикле перебираем все зарплаты из списка\n",
    "for salary in salaries:\n",
    "    if salary < 1000: # Если зарплата < 1000\n",
    "        # Налог — 5 % от зарплаты\n",
    "        taxes.append(salary * 0.05)\n",
    "    elif salary < 2000: # Если зарплата < 2000\n",
    "        # Налог — 10 % от зарплаты\n",
    "        taxes.append(salary * 0.1)\n",
    "    else:\n",
    "        # Налог — 15 % от зарплаты\n",
    "        taxes.append(salary * 0.15)\n",
    "# Выводим результат\n",
    "print(taxes) "
   ]
  },
  {
   "cell_type": "code",
   "execution_count": 68,
   "metadata": {},
   "outputs": [
    {
     "name": "stdout",
     "output_type": "stream",
     "text": [
      "150.0\n"
     ]
    }
   ],
   "source": [
    "def calculate_tax(salary):\n",
    "    if salary < 1000: # Если зарплата < 1000\n",
    "        # Налог — 5 % от зарплаты\n",
    "        return salary * 0.05\n",
    "    elif salary < 2000: # Если зарплата < 2000\n",
    "        # Налог — 10 % от зарплаты\n",
    "        return salary * 0.1\n",
    "    else:\n",
    "        # Налог — 15 % от зарплаты\n",
    "        return salary * 0.15\n",
    "    \n",
    "print(calculate_tax(1500))"
   ]
  },
  {
   "cell_type": "code",
   "execution_count": 69,
   "metadata": {},
   "outputs": [
    {
     "name": "stdout",
     "output_type": "stream",
     "text": [
      "[150.0, 330.0, 525.0, 120.0]\n"
     ]
    }
   ],
   "source": [
    "taxes = list(map(calculate_tax, salaries))\n",
    "# Выведем, что получилось\n",
    "print(taxes)"
   ]
  },
  {
   "cell_type": "markdown",
   "metadata": {},
   "source": [
    "***"
   ]
  },
  {
   "cell_type": "markdown",
   "metadata": {},
   "source": [
    "### Задание\n",
    "\n",
    "Условие задачи\n",
    "\n",
    "Допустим, у нас есть словарь quotes_dict, ключами которого являются названия произведений, а значениями — цитаты из этих произведений.\n",
    "\n",
    "В рамках решения задачи анализа естественного языка нам необходимо преобразовать тексты, а именно:\n",
    "\n",
    "привести к нижнему регистру;\n",
    "удалить знаки препинания (точки и запятые);\n",
    "разделить на отдельные слова."
   ]
  },
  {
   "cell_type": "code",
   "execution_count": 70,
   "metadata": {},
   "outputs": [
    {
     "name": "stdout",
     "output_type": "stream",
     "text": [
      "{'Преступление и наказание': ['а', 'знаешь', 'ли', 'что', 'низкие', 'потолки', 'и', 'тесные', 'комнаты', 'душу', 'и', 'ум', 'теснят'], 'Война и мир': ['и', 'нет', 'величия', 'там', 'где', 'нет', 'простоты', 'добра', 'и', 'правды'], 'Анна Каренина': ['если', 'искать', 'совершенства', 'то', 'никогда', 'не', 'будешь', 'доволен'], 'Детство': ['правил', 'у', 'нас', 'много', 'а', 'правды', 'нет'], 'Колесо времени': ['ничто', 'так', 'на', 'соединяет', 'людей', 'как', 'улыбка']}\n"
     ]
    }
   ],
   "source": [
    "quotes_dict = {\n",
    "    'Преступление и наказание': 'А знаешь ли... что низкие потолки и тесные комнаты душу и ум теснят.', \n",
    "    'Война и мир': 'И нет величия там, где нет простоты, добра и правды.', \n",
    "    'Анна Каренина': 'Если искать совершенства, то никогда не будешь доволен.', \n",
    "    'Детство': 'Правил у нас много, а правды нет.', \n",
    "    'Колесо времени': 'Ничто так на соединяет людей, как улыбка.'\n",
    "}\n",
    "\n",
    "# Функция для преобразования одного элемента списка кортежей\n",
    "def preprocessing_quoutes(name_quotes_tuple):\n",
    "    # Разделяем составляющие кортежа на отдельные переменные\n",
    "    name, text = name_quotes_tuple\n",
    "    # Приводим цитату к нижнему регистру\n",
    "    text = text.lower()\n",
    "    # Заменяем точки и запятые на пустые строки\n",
    "    text = text.replace('.', '')\n",
    "    text = text.replace(',', '')\n",
    "    # Разделяем цитату на слова по пробелу\n",
    "    words = text.split(' ')\n",
    "    # Возвращаем кортеж из названия произведения и текста\n",
    "    return (name, words)\n",
    "\n",
    "# Применяем функцию processing_quoutes к списку кортежей\n",
    "# Результат преобразовываем в словарь\n",
    "processed_quotes_dict = dict(map(preprocessing_quoutes, quotes_dict.items()))\n",
    "\n",
    "print(processed_quotes_dict)"
   ]
  },
  {
   "cell_type": "markdown",
   "metadata": {},
   "source": [
    "***"
   ]
  },
  {
   "cell_type": "markdown",
   "metadata": {},
   "source": [
    "### Задание\n",
    "\n",
    "У вас есть словарь prices, содержащий цены на литровые упаковки соков в интернет-магазине. Вам необходимо применить к этим ценам скидку 5 % и округлить полученное значение до двух знаков после запятой. Новый словарь положите в переменную new_prices. В решении используйте функцию map()."
   ]
  },
  {
   "cell_type": "code",
   "execution_count": 71,
   "metadata": {},
   "outputs": [
    {
     "data": {
      "text/plain": [
       "{'яблоко': 94.05,\n",
       " 'апельсин': 94.05,\n",
       " 'вишня': 139.65,\n",
       " 'персик': 137.75,\n",
       " 'грейпфрут': 132.05}"
      ]
     },
     "execution_count": 71,
     "metadata": {},
     "output_type": "execute_result"
    }
   ],
   "source": [
    "def n(tpl):\n",
    "  key, value=tpl\n",
    "  return (key, round(value*0.95, 3))\n",
    "\n",
    "prices = {'яблоко': 99, 'апельсин': 99, 'вишня': 147, 'персик': 145, 'грейпфрут': 139}  \n",
    "new_prices = dict(map(n, prices.items()))\n",
    "\n",
    "new_prices"
   ]
  },
  {
   "cell_type": "markdown",
   "metadata": {},
   "source": [
    "***"
   ]
  },
  {
   "cell_type": "markdown",
   "metadata": {},
   "source": [
    "# MAP + LAMBDA = ♥"
   ]
  },
  {
   "cell_type": "code",
   "execution_count": 72,
   "metadata": {},
   "outputs": [
    {
     "name": "stdout",
     "output_type": "stream",
     "text": [
      "[1331, 1728, 2197, 2744, 3375, 4096]\n"
     ]
    }
   ],
   "source": [
    "# Список чисел\n",
    "number_list = [11, 12, 13, 14, 15, 16]\n",
    "# Создаём lambda-функцию, которая возводит число в куб, и применяем её к списку\n",
    "cube_number_list = list(map(lambda x: x**3, number_list))\n",
    "# Выводим результирующий список\n",
    "print(cube_number_list)"
   ]
  },
  {
   "cell_type": "markdown",
   "metadata": {},
   "source": [
    "***"
   ]
  },
  {
   "cell_type": "code",
   "execution_count": 74,
   "metadata": {},
   "outputs": [
    {
     "name": "stdout",
     "output_type": "stream",
     "text": [
      "['шалаш', 'казак', 'морднилап', 'рвал дед лавр']\n"
     ]
    }
   ],
   "source": [
    "# Список строк, которые надо развернуть\n",
    "str_list = ['шалаш', 'казак', 'палиндром', 'рвал дед лавр']\n",
    "# Создаем lambda-функцию, которая переворачивает одну строку, и применяем её к списку\n",
    "reverse_str_list = list(map(lambda x: x[::-1], str_list))\n",
    "# Выводим результирующий список\n",
    "print(reverse_str_list)"
   ]
  },
  {
   "cell_type": "markdown",
   "metadata": {},
   "source": [
    "***"
   ]
  },
  {
   "cell_type": "markdown",
   "metadata": {},
   "source": [
    "### Задание\n",
    "\n",
    "Условие задачи\n",
    "\n",
    "Есть список кортежей. Один кортеж соответствует одному объекту (в Data Science его часто называется наблюдением) и состоит из трёх элементов (признаков объекта):\n",
    "\n",
    "имени человека; его роста (в метрах); веса (в килограммах).\n",
    "Необходимо создать список, состоящий из индексов массы тела для каждого человека. Индекс массы тела достаточно будет округлить до одного знака после запятой."
   ]
  },
  {
   "cell_type": "code",
   "execution_count": 75,
   "metadata": {},
   "outputs": [
    {
     "name": "stdout",
     "output_type": "stream",
     "text": [
      "[('Amanda', 1.61, 51, 19.7), ('Patricia', 1.65, 61, 22.4), ('Marcos', 1.91, 101, 27.7)]\n"
     ]
    }
   ],
   "source": [
    "data = [('Amanda', 1.61, 51), ('Patricia', 1.65, 61), ('Marcos', 1.91, 101)]\n",
    "map_func = lambda x: (*x, round(x[2]/(x[1]**2), 1))\n",
    "updated_data = list(map(map_func, data))\n",
    "# Выводим результат\n",
    "print(updated_data)"
   ]
  },
  {
   "cell_type": "markdown",
   "metadata": {},
   "source": [
    "***"
   ]
  },
  {
   "cell_type": "markdown",
   "metadata": {},
   "source": [
    "### Задание\n",
    "\n",
    "Представьте, что мы пытаемся выгрузить несколько новостей с сайта kommersant.ru. У вас есть список путей до интересующих вас статей.\n",
    "\n",
    "Как вы видите, представленные ссылки на статьи — неполные: в них не хватает адреса самого сайта — \"https://www.kommersant.ru\".\n",
    "\n",
    "Ваша задача составить новый список links, в котором будут храниться полные ссылки до статей на сайте «Коммерсанта». Например, полная ссылка на первую статью будет иметь вид: \"https://www.kommersant.ru//doc/5041434?query=data%20science\".\n",
    "\n",
    "Для решения задачи используйте функцию map().\n",
    "\n",
    "К каждому элементу списка docs (размер списка может быть любым) примените функцию-преобразование, которая добавляет к ссылке на начальную страницу сайта путь до статьи из списка docs.\n",
    "\n",
    "Результат работы функции map() оберните в список и занесите в переменную links."
   ]
  },
  {
   "cell_type": "code",
   "execution_count": 77,
   "metadata": {},
   "outputs": [
    {
     "data": {
      "text/plain": [
       "['https://www.kommersant.ru//doc/5041434?query=data%20science',\n",
       " 'https://www.kommersant.ru//doc/5041567?query=data%20science',\n",
       " 'https://www.kommersant.ru//doc/4283670?query=data%20science',\n",
       " 'https://www.kommersant.ru//doc/3712659?query=data%20science',\n",
       " 'https://www.kommersant.ru//doc/4997267?query=data%20science']"
      ]
     },
     "execution_count": 77,
     "metadata": {},
     "output_type": "execute_result"
    }
   ],
   "source": [
    "docs = ['//doc/5041434?query=data%20science','//doc/5041567?query=data%20science', '//doc/4283670?query=data%20science','//doc/3712659?query=data%20science', '//doc/4997267?query=data%20science'  \n",
    "]  \n",
    "links=list(map(lambda elem: \"https://www.kommersant.ru\" + elem, docs))\n",
    "\n",
    "links"
   ]
  },
  {
   "cell_type": "markdown",
   "metadata": {},
   "source": [
    "***"
   ]
  },
  {
   "cell_type": "markdown",
   "metadata": {},
   "source": [
    "### Задание\n",
    "\n",
    "Допустим, мы решаем задачу оценки стоимости недвижимости.\n",
    "\n",
    "В списке data представлены усреднённые данные по домам в районах Бостона. Каждый вложенный в список кортеж описывает средние данные по одному району (для примера представлены данные о семи участках). В этом кортеже представлены следующие признаки (в порядке следования):\n",
    "\n",
    "x₁ — уровень преступности на душу населения по городам;\n",
    "\n",
    "x₂ — среднее количество комнат в доме;\n",
    "\n",
    "x₃ — доля зданий, построенных до 1940 г. и занимаемых владельцами;\n",
    "\n",
    "x₄ — полная ставка налога на имущество за каждые 10 000 долларов стоимости;\n",
    "\n",
    "x₅ — процент населения с низким статусом."
   ]
  },
  {
   "cell_type": "code",
   "execution_count": 78,
   "metadata": {},
   "outputs": [
    {
     "data": {
      "text/plain": [
       "[(0.00632, 6.575, 65.2, 296.0, 4.98, 9.32),\n",
       " (0.02731, 6.421, 78.9, 242.0, 9.14, 60.41),\n",
       " (0.02729, 7.185, 61.1, 242.0, 4.03, 26.61),\n",
       " (0.03237, 6.998, 45.8, 222.0, 2.94, 21.13),\n",
       " (0.06905, 7.147, 54.2, 222.0, 5.33, 81.7),\n",
       " (0.02985, 6.43, 58.7, 222.0, 5.21, 34.53),\n",
       " (0.08829, 6.012, 66.6, 311.0, 12.43, 341.31)]"
      ]
     },
     "execution_count": 78,
     "metadata": {},
     "output_type": "execute_result"
    }
   ],
   "source": [
    "data = [(0.00632, 6.575, 65.2, 296.0, 4.98),  \n",
    "(0.02731, 6.421, 78.9, 242.0, 9.14),  \n",
    "(0.02729, 7.185, 61.1, 242.0, 4.03),  \n",
    "(0.03237, 6.998, 45.8, 222.0, 2.94),  \n",
    "(0.06905, 7.147, 54.2, 222.0, 5.33),  \n",
    "(0.02985, 6.43, 58.7, 222.0, 5.21),  \n",
    "(0.08829, 6.012, 66.6, 311.0, 12.43)]\n",
    "\n",
    "\n",
    "boston_func = lambda x:(*x, round(x[0] * x[3] * x[4], 2))\n",
    "updated_data = list(map(boston_func, data))\n",
    "\n",
    "updated_data"
   ]
  },
  {
   "cell_type": "markdown",
   "metadata": {},
   "source": [
    "***"
   ]
  },
  {
   "cell_type": "markdown",
   "metadata": {},
   "source": [
    "# ФУНКЦИЯ FILTER"
   ]
  },
  {
   "cell_type": "markdown",
   "metadata": {},
   "source": [
    "Условие задачи\n",
    "\n",
    "Пусть у нас задан список слов words_list:\n",
    "\n",
    "Необходимо создать новый список even_list, содержащий только те слова из списка words_list, длина которых чётная. Например, если программа будет выполняться для списка, представленного выше, мы должны получить новый список следующего содержания:\n",
    "\n",
    "['in', 'near', 'My', \"cousin's\", 'married.']"
   ]
  },
  {
   "cell_type": "code",
   "execution_count": 79,
   "metadata": {},
   "outputs": [
    {
     "name": "stdout",
     "output_type": "stream",
     "text": [
      "['in', 'near', 'My', \"cousin's\", 'married.']\n"
     ]
    }
   ],
   "source": [
    "# Создаём пустой список, куда будем добавлять результаты\n",
    "even_list = []\n",
    "# Создаём цикл по элементам списка\n",
    "for word in words_list:\n",
    "    # Проверяем условие, что длина текущего слова чётная\n",
    "    if len(word) % 2 == 0: # Если условие выполняется\n",
    "        # Добавляем слово в новый список\n",
    "        even_list.append(word)\n",
    "print(even_list)"
   ]
  },
  {
   "cell_type": "code",
   "execution_count": 82,
   "metadata": {},
   "outputs": [
    {
     "name": "stdout",
     "output_type": "stream",
     "text": [
      "['in', 'near', 'My', \"cousin's\", 'married.']\n"
     ]
    }
   ],
   "source": [
    "def is_even(x):\n",
    "    return len(x) % 2 == 0\n",
    "\n",
    "even_list = list(filter(is_even, words_list))\n",
    "# Смотрим, что получилось \n",
    "print(even_list)\n"
   ]
  },
  {
   "cell_type": "markdown",
   "metadata": {},
   "source": [
    "***"
   ]
  },
  {
   "cell_type": "markdown",
   "metadata": {},
   "source": [
    "# FILTER + LAMBDA"
   ]
  },
  {
   "cell_type": "markdown",
   "metadata": {},
   "source": [
    "### Задание\n",
    "\n",
    "Пусть у нас есть кортеж из строк. Пример такого кортежа:\n",
    "\n",
    "str_tuple = (\"Москва\", \"15.1 см\", \"зацвело\", \"было пол 5 утра\", \"рассвет\")\n",
    "Необходимо составить новый кортеж, в котором будут только строки, состоящие только из букв. То есть для примера выше в результирующем кортеже должны быть строки \"Москва\", \"зацвело\" и \"рассвет\"."
   ]
  },
  {
   "cell_type": "code",
   "execution_count": 83,
   "metadata": {},
   "outputs": [
    {
     "name": "stdout",
     "output_type": "stream",
     "text": [
      "('Москва', 'зацвело', 'рассвет')\n"
     ]
    }
   ],
   "source": [
    "str_tuple = (\"Москва\", \"15.1 см\", \"зацвело\", \"было пол 5 утра\", \"рассвет\")\n",
    "# Применяем lambda-функцию к каждому элементу кортежа\n",
    "# Результат оборачиваем в кортеж\n",
    "filtered_tuple = tuple(filter(lambda x: x.isalpha(), str_tuple))\n",
    "# Смотрим, что получилось\n",
    "print(filtered_tuple)"
   ]
  },
  {
   "cell_type": "markdown",
   "metadata": {},
   "source": [
    "***"
   ]
  },
  {
   "cell_type": "markdown",
   "metadata": {},
   "source": [
    "### Задание\n",
    "\n",
    "Условие задачи\n",
    "\n",
    "Школа онлайн-образования разрабатывает курс «Fullstack-разработчик» и собирает данные по каждому модулю курса.\n",
    "\n",
    "В списке кортежей data представлена выгрузка данных из базы данных об оценках бонусных (дополнительных) модулей курса:\n",
    "\n",
    "Данные по каждому модулю представлены в виде кортежей, состоящих из пяти элементов:\n",
    "\n",
    "Кодовое название курса.\n",
    "Название курса.\n",
    "Средняя оценка модуля.\n",
    "NESSA — это внутренняя метрика компании, показывающая качество модуля (измеряется от 0 до 100).\n",
    "Количество оценок.\n",
    "Необходимо выбрать из представленных данных только те модули, которые относятся к курсу FPW-2.0, их NESSA > 70 и количество оценок > 50.\n"
   ]
  },
  {
   "cell_type": "code",
   "execution_count": 86,
   "metadata": {},
   "outputs": [],
   "source": [
    "data = [\n",
    "    (\"FPW-2.0_D\", \"Бонус: Тренажер по HTML\", 10, 100, 10),\n",
    "    (\"FPW-2.0\", \"Бонус: Тренажер по JavaScript\", 9.2, 70, 180),\n",
    "    (\"FPW-2.0_D\", \"Бонус: Тренажер по React\", 8.5, 66.67, 68),\n",
    "    (\"FPW-2.0\", \"Бонусный: IT в современном мире\", 8.64, 83.74, 856),\n",
    "    (\"FPW-2.0\", \"Бонусный: Введение\", 8.73, 56.24, 745),\n",
    "    (\"FPW-2.0\", \"Бонус: D1. Знакомство с Django (NEW)\", 9.76, 95.24, 21),\n",
    "    (\"FPW-2.0_D\", \"Бонус: D2. Модели (NEW)\", 9.44, 77.78, 18)\n",
    "]"
   ]
  },
  {
   "cell_type": "code",
   "execution_count": 88,
   "metadata": {},
   "outputs": [
    {
     "name": "stdout",
     "output_type": "stream",
     "text": [
      "False\n",
      "True\n"
     ]
    }
   ],
   "source": [
    "def filter_module(module):\n",
    "    # Распаковываем кортеж на пять переменных\n",
    "    code, name, avg_votes, nessa, count = module\n",
    "    # Создаём условия \n",
    "    cond_1 = code == \"FPW-2.0\"\n",
    "    cond_2 = nessa >= 70\n",
    "    cond_3 = count > 50\n",
    "    # Условия должны выполняться одновременно\n",
    "    return cond_1 and cond_2 and cond_3\n",
    "\n",
    "print(filter_module(module=(\"FPW-2.0_D\", \"Бонус: Тренажер по HTML\", 10, 100, 10)))\n",
    "print(filter_module(module=(\"FPW-2.0\", \"Бонус: Тренажер по JavaScript\", 9.2, 70, 180)))"
   ]
  },
  {
   "cell_type": "code",
   "execution_count": 89,
   "metadata": {},
   "outputs": [
    {
     "name": "stdout",
     "output_type": "stream",
     "text": [
      "[('FPW-2.0', 'Бонус: Тренажер по JavaScript', 9.2, 70, 180), ('FPW-2.0', 'Бонусный: IT в современном мире', 8.64, 83.74, 856)]\n"
     ]
    }
   ],
   "source": [
    "# Применяем функцию filter_module() для фильтрации списка кортежей\n",
    "filtered_data = list(filter(filter_module, data))\n",
    "print(filtered_data)"
   ]
  },
  {
   "cell_type": "markdown",
   "metadata": {},
   "source": [
    "Заметим, что при желании функцию filter_module() можно переписать в виде однострочной lambda-функции:"
   ]
  },
  {
   "cell_type": "code",
   "execution_count": 90,
   "metadata": {},
   "outputs": [
    {
     "name": "stdout",
     "output_type": "stream",
     "text": [
      "[('FPW-2.0', 'Бонус: Тренажер по JavaScript', 9.2, 70, 180), ('FPW-2.0', 'Бонусный: IT в современном мире', 8.64, 83.74, 856)]\n"
     ]
    }
   ],
   "source": [
    "# Создаём lambda-функцию, которая возвращает True, если модуль удовлетворяет условиям\n",
    "lambda_filter_module = lambda x: (x[0] == \"FPW-2.0\") and (x[3] >= 70) and (x[4] > 50)\n",
    "# Применяем эту функцию к каждому элементу списка (к каждому кортежу)\n",
    "filtered_data = list(filter(lambda_filter_module, data))\n",
    "# Смотрим, что получилось\n",
    "print(filtered_data)"
   ]
  },
  {
   "cell_type": "markdown",
   "metadata": {},
   "source": [
    "***"
   ]
  },
  {
   "cell_type": "markdown",
   "metadata": {},
   "source": [
    "### Задание\n",
    "\n",
    "У вас есть список prices стоимости аренды помещения под магазин за месяц. Вам необходимо создать список filtered_prices из стоимости, которая не выше 30000, чтобы уложиться в бюджет. В решении примените filter() и lambda."
   ]
  },
  {
   "cell_type": "code",
   "execution_count": 92,
   "metadata": {},
   "outputs": [
    {
     "data": {
      "text/plain": [
       "[25683, 17683, 28973]"
      ]
     },
     "execution_count": 92,
     "metadata": {},
     "output_type": "execute_result"
    }
   ],
   "source": [
    "prices = [34562, 66572, 25683, 17683, 56389, 28973]\n",
    "new_lambda=lambda x: x<=30000\n",
    "filtered_prices=list(filter(new_lambda, prices))\n",
    "filtered_prices"
   ]
  },
  {
   "cell_type": "markdown",
   "metadata": {},
   "source": [
    "***"
   ]
  },
  {
   "cell_type": "markdown",
   "metadata": {},
   "source": [
    "### Задание\n",
    "\n",
    "Допустим, вы работаете в отделе разработки в МФЦ. Центр предоставляет некоторый спектр услуг многодетным семьям. Необходимо создать функциональность, которая позволяет отфильтровать среди всех запрашиваемых пользователем услуг (их количество произвольное) только те, которые предоставляются многодетным семьям.\n",
    "\n",
    "При решении задачи вам понадобится список услуг, предоставляемых многодетным семьям\n",
    "\n",
    "Реализуйте функцию filter_family(): на вход подаётся список с названием услуг МФЦ, а в результате возвращается список услуг, которые могут быть оказаны только многодетной семье.\n",
    "\n",
    "Для фильтрации входного списка аргументов используйте функцию filter()"
   ]
  },
  {
   "cell_type": "code",
   "execution_count": 93,
   "metadata": {},
   "outputs": [
    {
     "name": "stdout",
     "output_type": "stream",
     "text": [
      "['parking permit', 'maternity capital', 'tax benefit']\n"
     ]
    }
   ],
   "source": [
    "family_list = [\n",
    "    'certificate of a large family',\n",
    "    'social card',\n",
    "    'maternity capital',\n",
    "    'parking permit',\n",
    "    'tax benefit',\n",
    "    'reimbursement of expenses',\n",
    "    \"compensation for the purchase of children's goods\"\n",
    " ]\n",
    "def filter_family(lst):\n",
    "  \n",
    "  return list(filter(lambda x: x in family_list, lst))  \n",
    "\n",
    "print(filter_family(['newborn registration', 'parking permit', 'maternity capital', 'tax benefit', 'medical policy']))"
   ]
  },
  {
   "cell_type": "markdown",
   "metadata": {},
   "source": [
    "***"
   ]
  },
  {
   "cell_type": "markdown",
   "metadata": {},
   "source": [
    "### Задание\n",
    "\n",
    "Условие задачи\n",
    "\n",
    "Вернёмся к нашей задаче из области анализа естественного языка о подсчёте длины слов. Нам дан список слов в предложении words_list:\n",
    "\n",
    "words_list = [\"We're\", 'in', 'a', 'small', 'village', 'near', 'Chicago', 'My', \"cousin's\", 'getting', 'married.']\n",
    "\n",
    "Допустим, вначале мы хотим отобрать только те слова, которые состоят из пяти и более букв, а затем посчитать, сколько раз в таких словах встречается буква \"a\".\n",
    "\n",
    "Результатом работы нашей программы должен стать список кортежей, где каждый кортеж состоит из двух элементов: слово и количество букв \"a\". Например, для списка words_list, представленного выше, у нас должен получиться следующий результат:\n",
    "\n",
    "[(\"We're\", 0), ('small', 1), ('village', 1), ('Chicago', 1), (\"cousin's\", 0), ('getting', 0), ('married.', 1)]"
   ]
  },
  {
   "cell_type": "code",
   "execution_count": 94,
   "metadata": {},
   "outputs": [
    {
     "name": "stdout",
     "output_type": "stream",
     "text": [
      "[(\"We're\", 0), ('small', 1), ('village', 1), ('Chicago', 1), (\"cousin's\", 0), ('getting', 0), ('married.', 1)]\n"
     ]
    }
   ],
   "source": [
    "# Создаём пустой список, в который будем добавлять результаты\n",
    "count_a = []\n",
    "# Создаём цикл по элементам списка words_list\n",
    "for word in words_list:\n",
    "    # Проверяем условие, что длина имени больше либо равна пяти\n",
    "    if len(word) >= 5:\n",
    "        # Создаём кортеж (слово, количество букв 'a')\n",
    "        result_tuple = (word, word.lower().count('a'))\n",
    "        # Добавляем в итоговый список кортеж\n",
    "        count_a.append(result_tuple)\n",
    "print(count_a)"
   ]
  },
  {
   "cell_type": "code",
   "execution_count": 95,
   "metadata": {},
   "outputs": [
    {
     "name": "stdout",
     "output_type": "stream",
     "text": [
      "[(\"We're\", 0), ('small', 1), ('village', 1), ('Chicago', 1), (\"cousin's\", 0), ('getting', 0), ('married.', 1)]\n"
     ]
    }
   ],
   "source": [
    "# Отбираем слова из пяти и более букв\n",
    "filtered_words = filter(lambda x: len(x) >= 5, words_list)\n",
    "# Все отобранные слова переводим в нижний регистр и считаем число букв 'a' в них\n",
    "# Результат выдаём в виде кортежа (слово, количество букв \"a\")\n",
    "count_a = map(lambda x: (x, x.lower().count('a')), filtered_words)\n",
    "# Переводим объект map в list и печатаем его\n",
    "print(list(count_a))"
   ]
  },
  {
   "cell_type": "markdown",
   "metadata": {},
   "source": [
    "***"
   ]
  },
  {
   "cell_type": "markdown",
   "metadata": {},
   "source": [
    "### Задание\n",
    "Вернёмся к примеру о генерации признаков (Feature Engineering).\n",
    "\n",
    "Перед нами снова выгрузка данных о параметрах человеческого тела (только теперь она немного больше), представленная в виде списка кортежей. Один кортеж состоит из трёх элементов (признаков):\n",
    "\n",
    "имени человека;\n",
    "его роста (в метрах);\n",
    "веса (в килограммах).\n",
    "\n",
    "В таблице ниже представлены медицинские характеристики соотношения массы и роста, составленные на основе значения индекса массы тела\n",
    "\n",
    "Нам необходимо выбрать из данных только тех пациентов, у кого соотношение массы и роста находится в пределах нормы.\n",
    "\n",
    "Результатом работы нашей программы должен стать список кортежей, удовлетворяющих условию.\n"
   ]
  },
  {
   "cell_type": "code",
   "execution_count": 96,
   "metadata": {},
   "outputs": [
    {
     "name": "stdout",
     "output_type": "stream",
     "text": [
      "[('Amanda', 1.61, 51, 19.675166853130666), ('Patricia', 1.65, 61, 22.4058769513315), ('Andrey', 1.79, 61, 19.038107424861895), ('Felicia', 1.63, 56, 21.077195227520797)]\n"
     ]
    }
   ],
   "source": [
    "data = [\n",
    "    ('Amanda', 1.61, 51),\n",
    "    ('Patricia', 1.65, 61), \n",
    "    ('Marcos', 1.91, 101),\n",
    "    ('Andrey', 1.79, 61),\n",
    "    ('Nikos', 1.57, 78),\n",
    "    ('Felicia', 1.63, 56),\n",
    "    ('Lubov', 1.53, 34)\n",
    "]\n",
    "\n",
    "# Создаём lambda-функцию, которая считает BMI, и применяем её к каждому элементу списка\n",
    "map_func = lambda x: (*x, x[2]/(x[1]**2))\n",
    "updated_data = map(map_func, data)\n",
    "# Создаём lambda-функцию, которая возвращает True, если 18.5 <= BMI <= 25\n",
    "filter_func = lambda x: 18.5 <= x[3] <= 25\n",
    "# Применяем эту функцию к результату работы map()\n",
    "filtered_data = filter(filter_func, updated_data)\n",
    "# Переводим объект filter в list и печатаем его\n",
    "print(list(filtered_data))"
   ]
  },
  {
   "cell_type": "markdown",
   "metadata": {},
   "source": [
    "***"
   ]
  },
  {
   "cell_type": "markdown",
   "metadata": {},
   "source": [
    "### Задание\n",
    "\n",
    "Мы снова занимаемся регистрацией пользователей. В нашем распоряжении есть список кортежей reg. В каждом кортеже хранится информация о зарегистрированном пользователе и его дате рождения в формате: Фамилия, Имя, день, месяц, год:\n",
    "\n",
    "Выберите из списка reg только те записи, в которых год рождения пользователя больше 2000 (2001, 2002 и т. д.). Из оставшихся записей составьте новый список кортежей, в котором фамилия и имя объединены в одну строку по следующему шаблону: Фамилия И.\n",
    "\n",
    "Обратите внимание на точку после сокращения имени!\n",
    "\n",
    "Например, для представленного списка reg результирующий список кортежей new_reg должен иметь вид:\n",
    "\n",
    "Для решения задачи используйте конвейер из filter() и map().\n",
    "\n",
    "Обратите внимание: задана двумерная структура, то есть функции фильтрации и преобразования, указываемые в аргументах в filter() и map(), принимают на вход один кортеж и должны обрабатывать его.\n",
    "\n",
    "В результате работы программы должен быть создан обновленный список кортежей с именем переменной new_reg."
   ]
  },
  {
   "cell_type": "code",
   "execution_count": 98,
   "metadata": {},
   "outputs": [
    {
     "data": {
      "text/plain": [
       "[('Smith J.', 13, 2, 2003), ('Petrova M.', 13, 3, 2003)]"
      ]
     },
     "execution_count": 98,
     "metadata": {},
     "output_type": "execute_result"
    }
   ],
   "source": [
    "reg = [('Ivanov', 'Sergej', 24, 9, 1995),\n",
    "      ('Smith', 'John', 13, 2, 2003),\n",
    "      ('Petrova', 'Maria', 13, 3, 2003)]\n",
    "\n",
    "def update_tuple(arg):\n",
    "  surname=arg[0]\n",
    "  name=arg[1]\n",
    "  new_surname=surname+' '+name[0]+'.'\n",
    "  return (new_surname, arg[2], arg[3], arg[4])\n",
    "\n",
    "new_f = filter(lambda x: x[4] >= 2000, reg)\n",
    "new_reg=list(map(update_tuple, new_f))\n",
    "\n",
    "new_reg"
   ]
  },
  {
   "cell_type": "markdown",
   "metadata": {},
   "source": [
    "***"
   ]
  },
  {
   "cell_type": "markdown",
   "metadata": {},
   "source": [
    "### Задание\n",
    "\n",
    "Вернёмся к задаче по оценке стоимости недвижимости.\n",
    "\n",
    "В списке data представлены усреднённые данные по домам в районах Бостона. Каждый вложенный в список кортеж описывает средние данные по одному району (для примера представлены данные о семи участках). В этом кортеже представлены следующие признаки (в порядке следования):\n",
    "\n",
    "x₁ — уровень преступности на душу населения по городам;\n",
    "\n",
    "x₂ — среднее количество комнат в доме;\n",
    "\n",
    "x₃ — доля зданий, построенных до 1940 г. и занимаемых владельцами;\n",
    "\n",
    "x₄ — полная ставка налога на имущество за каждые 10 000 долларов стоимости;\n",
    "\n",
    "x₅ — процент населения с низким статусом."
   ]
  },
  {
   "cell_type": "code",
   "execution_count": 99,
   "metadata": {},
   "outputs": [
    {
     "data": {
      "text/plain": [
       "[(0.02731, 6.421, 78.9, 242.0, 9.14, 60.41),\n",
       " (0.06905, 7.147, 54.2, 222.0, 5.33, 81.7),\n",
       " (0.08829, 6.012, 66.6, 311.0, 12.43, 341.31)]"
      ]
     },
     "execution_count": 99,
     "metadata": {},
     "output_type": "execute_result"
    }
   ],
   "source": [
    "data = [(0.00632, 6.575, 65.2, 296.0, 4.98),\n",
    " (0.02731, 6.421, 78.9, 242.0, 9.14),\n",
    " (0.02729, 7.185, 61.1, 242.0, 4.03),\n",
    " (0.03237, 6.998, 45.8, 222.0, 2.94),\n",
    " (0.06905, 7.147, 54.2, 222.0, 5.33),\n",
    " (0.02985, 6.43, 58.7, 222.0, 5.21),\n",
    " (0.08829, 6.012, 66.6, 311.0, 12.43)]\n",
    "\n",
    "new_reg=map(lambda x:(*x, round(x[0]*x[3]*x[4], 2)), data)\n",
    "filtered_data = list(filter(lambda x: x[5] > 60, new_reg))\n",
    "\n",
    "filtered_data"
   ]
  }
 ],
 "metadata": {
  "kernelspec": {
   "display_name": "Python 3",
   "language": "python",
   "name": "python3"
  },
  "language_info": {
   "codemirror_mode": {
    "name": "ipython",
    "version": 3
   },
   "file_extension": ".py",
   "mimetype": "text/x-python",
   "name": "python",
   "nbconvert_exporter": "python",
   "pygments_lexer": "ipython3",
   "version": "3.12.0"
  }
 },
 "nbformat": 4,
 "nbformat_minor": 2
}
