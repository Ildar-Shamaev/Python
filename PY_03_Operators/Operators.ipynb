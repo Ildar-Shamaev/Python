{
 "cells": [
  {
   "cell_type": "markdown",
   "metadata": {},
   "source": [
    "### Сравнение строк"
   ]
  },
  {
   "cell_type": "code",
   "execution_count": 2,
   "metadata": {},
   "outputs": [
    {
     "name": "stdout",
     "output_type": "stream",
     "text": [
      "70\n"
     ]
    }
   ],
   "source": [
    "# Узнаем кодировку символа 'F' в Unicode\n",
    "print(ord('F'))"
   ]
  },
  {
   "cell_type": "markdown",
   "metadata": {},
   "source": [
    "Сравнение коллекций"
   ]
  },
  {
   "cell_type": "code",
   "execution_count": 3,
   "metadata": {},
   "outputs": [
    {
     "name": "stdout",
     "output_type": "stream",
     "text": [
      "True\n"
     ]
    }
   ],
   "source": [
    "# Создаём 2 идентичных списка\n",
    "languages_list_1 = ['Python', 'C++', 'C#', 'Java']\n",
    "languages_list_2 = ['Python', 'C++', 'C#', 'Java']\n",
    "# Проверяем их равенство\n",
    "print(languages_list_1 == languages_list_2)"
   ]
  },
  {
   "cell_type": "code",
   "execution_count": 4,
   "metadata": {},
   "outputs": [
    {
     "name": "stdout",
     "output_type": "stream",
     "text": [
      "True\n"
     ]
    }
   ],
   "source": [
    "# Создаём 2 идентичных словаря, различающихся порядком записи ключей\n",
    "store_dict_1 = {'Яблоки': 158, 'Мандарины': 178, 'Хлеб': 56}\n",
    "store_dict_2 = {'Хлеб': 56, 'Яблоки': 158, 'Мандарины': 178}\n",
    "# Проверяем их равенство\n",
    "print(store_dict_1 == store_dict_2)"
   ]
  },
  {
   "cell_type": "markdown",
   "metadata": {},
   "source": [
    "### Задание\n",
    "\n",
    "Напишите условие, которое проверяет, является ли строка палиндромом.\n",
    "\n",
    "Палиндром читается одинаково слева направо и справа налево. Например: \"шалаш\", \"казак\", \"мадам\", \"коту тащат уток\".\n",
    "\n",
    "Строка, которую мы хотим проверить, находится в переменной target_string.\n",
    "\n",
    "Важно: Обратите внимание, что результат работы программы не должен зависеть от пробелов, а также регистра символов, поэтому алгоритм решения задачи будет следующим:\n",
    "\n",
    "привести строку к нижнему (или верхнему) регистру (это можно сделать с помощью методов lower() и upper())\n",
    "\n",
    "убрать из нее все пробелы (это можно сделать с помощью метода replace(), передав в него первым аргументом символ пробела ' ', а вторым аргументом символ пустой строки — '')\n",
    "\n",
    "проверить равенство полученной строки с её развернутым аналогом (развернуть строку можно с помощью срезов с отрицательным шагом — target_string[::-1])\n",
    "\n",
    "Результатом работы условия должно стать булево значение — True или False, в зависимости от того, является ли строка палиндромом. Занесите этот результат в переменную result."
   ]
  },
  {
   "cell_type": "code",
   "execution_count": 6,
   "metadata": {},
   "outputs": [
    {
     "data": {
      "text/plain": [
       "True"
      ]
     },
     "execution_count": 6,
     "metadata": {},
     "output_type": "execute_result"
    }
   ],
   "source": [
    "target_string = 'коту тащат уток'\n",
    "result=target_string.lower().replace(' ', '')\n",
    "if result==result[::-1]:\n",
    "  result=True\n",
    "else: result = False\n",
    "result"
   ]
  },
  {
   "cell_type": "code",
   "execution_count": 7,
   "metadata": {},
   "outputs": [
    {
     "name": "stdout",
     "output_type": "stream",
     "text": [
      "False\n"
     ]
    }
   ],
   "source": [
    "sym = 't'\n",
    "# Проверяем, содержится ли символ в строке \"python\"\n",
    "cond3 = sym in \"python\"\n",
    "# Проверяем, содержится ли символ в строке \"django\"\n",
    "cond4 = sym in \"django\"\n",
    "# Проверяем, содержится ли символ в обеих строках\n",
    "print(cond3 and cond4)"
   ]
  },
  {
   "cell_type": "code",
   "execution_count": 8,
   "metadata": {},
   "outputs": [
    {
     "name": "stdout",
     "output_type": "stream",
     "text": [
      "True\n"
     ]
    }
   ],
   "source": [
    "word1 = 'Institute'\n",
    "word2 = 'University'\n",
    "target_string = \"I graduated from the Moscow Aviation Institute in 2015, after which I got a job at…\"\n",
    "# Проверяем, содержится хотя бы одна из строк word1 или word2 в строке target_string\n",
    "# Для проверки принадлежности используем оператор in\n",
    "print((word1 in target_string) or (word2 in target_string))"
   ]
  },
  {
   "cell_type": "markdown",
   "metadata": {},
   "source": [
    "### Задание\n",
    "\n",
    "Напишите условие, которое проверяет, что значение переменной a, возведенное в квадрат строго больше, чем значение переменных b и c одновременно.\n",
    "\n",
    "Результатом работы условия должно стать булево значение — True или False, в зависимости от выполнения заданного условия.\n",
    "\n",
    "Занесите этот результат в переменную result."
   ]
  },
  {
   "cell_type": "code",
   "execution_count": 9,
   "metadata": {},
   "outputs": [
    {
     "data": {
      "text/plain": [
       "True"
      ]
     },
     "execution_count": 9,
     "metadata": {},
     "output_type": "execute_result"
    }
   ],
   "source": [
    "a, b, c = 3, 5, 8\n",
    "result= a**2>b and a**2>c\n",
    "result"
   ]
  },
  {
   "cell_type": "markdown",
   "metadata": {},
   "source": [
    "### Задание\n",
    "\n",
    "Представьте, что вы работаете аналитиком данных в больнице. Пусть переменные diagnosis_1, diagnosis_2 и diagnosis_3 хранят информацию о наличии у пациента различных хронических заболеваний (yes — да, no — нет). Реализуйте условие, которое проверяет, страдает ли пациент хотя бы от одного из них?\n",
    "\n",
    "Результатом должно стать булево значение — True или False. Занесите этот результат в переменную result."
   ]
  },
  {
   "cell_type": "code",
   "execution_count": 10,
   "metadata": {},
   "outputs": [
    {
     "data": {
      "text/plain": [
       "True"
      ]
     },
     "execution_count": 10,
     "metadata": {},
     "output_type": "execute_result"
    }
   ],
   "source": [
    "diagnosis_1, diagnosis_2,  diagnosis_3 = 'yes', 'yes', 'no'\n",
    "result =diagnosis_1=='yes' or diagnosis_2=='yes' or diagnosis_3== 'yes'\n",
    "result"
   ]
  },
  {
   "cell_type": "markdown",
   "metadata": {},
   "source": [
    "### *ОПЕРАТОР ТОЖДЕСТВЕННОСТИ IS"
   ]
  },
  {
   "cell_type": "code",
   "execution_count": 11,
   "metadata": {},
   "outputs": [
    {
     "name": "stdout",
     "output_type": "stream",
     "text": [
      "2334171579568 2334171579568\n"
     ]
    }
   ],
   "source": [
    "a = 'simple string'\n",
    "b = a\n",
    "# Смотрим на идентификаторы переменных a и b\n",
    "print(id(a), id(b))"
   ]
  },
  {
   "cell_type": "code",
   "execution_count": 12,
   "metadata": {},
   "outputs": [
    {
     "name": "stdout",
     "output_type": "stream",
     "text": [
      "True\n",
      "True\n"
     ]
    }
   ],
   "source": [
    "# Проверяем равенство идентификаторов\n",
    "print(id(a) == id(b))\n",
    "## True\n",
    "\n",
    "# Проверяем эквивалентность двух объектов\n",
    "print(a is b)\n",
    "## True"
   ]
  },
  {
   "cell_type": "code",
   "execution_count": 13,
   "metadata": {},
   "outputs": [
    {
     "name": "stdout",
     "output_type": "stream",
     "text": [
      "2334151961200\n",
      "2334170053264\n",
      "True\n",
      "False\n"
     ]
    }
   ],
   "source": [
    "x = 15.35\n",
    "\n",
    "y = 15.35\n",
    "\n",
    "# Смотрим на идентификатор переменной x\n",
    "print(id(x))\n",
    "## 1887879819984\n",
    "\n",
    "# Смотрим на идентификатор переменной y\n",
    "print(id(y))\n",
    "## 1887879822608\n",
    "\n",
    "# Проверяем равенство двух объектов\n",
    "print(x == y)\n",
    "## True\n",
    "\n",
    "# Проверяем эквивалентность двух объектов\n",
    "print(x is y)\n",
    "## False"
   ]
  },
  {
   "cell_type": "markdown",
   "metadata": {},
   "source": [
    "Именно по этой причине новички, упражняясь с операторами на примерах чисел -5 до 256, считают, что == и is — одно и то же, ведь они дают идентичные результаты."
   ]
  },
  {
   "cell_type": "code",
   "execution_count": 14,
   "metadata": {},
   "outputs": [
    {
     "name": "stdout",
     "output_type": "stream",
     "text": [
      "True True\n",
      "True False\n"
     ]
    }
   ],
   "source": [
    "x = 256\n",
    "y = 256\n",
    "\n",
    "# Проверяем равенство и эквивалентность двух объектов\n",
    "print(x == y, x is y)\n",
    "## True True\n",
    "\n",
    "w = 257\n",
    "v = 257\n",
    "\n",
    "# Проверяем равенство и эквивалентность двух объектов\n",
    "print(w == v, w is v)\n",
    "## True False"
   ]
  },
  {
   "cell_type": "code",
   "execution_count": 16,
   "metadata": {},
   "outputs": [
    {
     "name": "stdout",
     "output_type": "stream",
     "text": [
      "False\n"
     ]
    }
   ],
   "source": [
    "message = 14093530013530593\n",
    "# Проверяем вхождение символа '5' в первые 6 символов строки message\n",
    "message_is_useful = '5' not in str(message)[:6]\n",
    "print(message_is_useful)\n",
    "## False"
   ]
  },
  {
   "cell_type": "markdown",
   "metadata": {},
   "source": [
    "### Задание\n",
    "\n",
    "Дано n-значное целое число N. Напишите условие для проверки того, входят ли в заданное число цифры 3 и 7.\n",
    "\n",
    "Результатом выполнения условия должно стать значение True или False. Занесите этот результат в переменную contains."
   ]
  },
  {
   "cell_type": "code",
   "execution_count": 17,
   "metadata": {},
   "outputs": [
    {
     "data": {
      "text/plain": [
       "True"
      ]
     },
     "execution_count": 17,
     "metadata": {},
     "output_type": "execute_result"
    }
   ],
   "source": [
    "N = 12043879584\n",
    "contains = ('3' in str(N))  and ('7' in str(N))\n",
    "contains"
   ]
  },
  {
   "cell_type": "markdown",
   "metadata": {},
   "source": [
    "### Задание\n",
    "\n",
    "Шахматная фигура передвигается по доске 8x8 клеток. Нумерация клеток по горизонтальной ведётся с помощью первых 8 латинских букв, а по вертикальной — с помощью цифр от 1 до 8.\n",
    "\n",
    "Координатам по горизонтальной и вертикальной осям шахматной доски, в которые должна переместиться фигура, соответствуют переменные x и y:\n",
    "\n",
    "\n",
    "x, y = 'F', 7\n",
    "Напишите условие проверки корректности хода. Ход считается корректным, если новые координаты фигуры не выходят за пределы шахматной доски.\n",
    "\n",
    "Результат работы условия присвойте переменной move_is_correct, в которой должно содержаться значение True или False в зависимости от того, является ли ход корректным.\n"
   ]
  },
  {
   "cell_type": "code",
   "execution_count": 18,
   "metadata": {},
   "outputs": [
    {
     "data": {
      "text/plain": [
       "True"
      ]
     },
     "execution_count": 18,
     "metadata": {},
     "output_type": "execute_result"
    }
   ],
   "source": [
    "x, y = 'F', 7\n",
    "x_n='A', 'B', 'C', 'D', 'E', 'F', 'G', 'H'\n",
    "y_n=1, 2, 3, 4, 5, 6, 7, 8\n",
    "move_is_correct = (x in x_n) and (y in y_n)\n",
    "move_is_correct"
   ]
  },
  {
   "cell_type": "markdown",
   "metadata": {},
   "source": [
    "### Задание\n",
    "\n",
    "Дано n-значное целое число N. Реализуйте условие для проверки того, начинается ли число N с четной цифры.\n",
    "\n",
    "Результатом работы условия должно стать булево значение True или False. Занесите этот результат в переменную first_is_even."
   ]
  },
  {
   "cell_type": "code",
   "execution_count": 20,
   "metadata": {},
   "outputs": [
    {
     "data": {
      "text/plain": [
       "True"
      ]
     },
     "execution_count": 20,
     "metadata": {},
     "output_type": "execute_result"
    }
   ],
   "source": [
    "N = 45901\n",
    "first_is_even= int(str(N)[:1])%2==0\n",
    "first_is_even"
   ]
  },
  {
   "cell_type": "markdown",
   "metadata": {},
   "source": [
    "### Задание\n",
    "\n",
    "Напишите условие, которое проверяет, что год является високосным.\n",
    "\n",
    "Известно, что год является високосным при выполнении хотя бы одного из следующих условий:\n",
    "\n",
    "Номер года делится (без остатка) на 400.\n",
    "Номер года делится (без остатка) на 4 и не делится на 100 одновременно.\n",
    "Номер года находится в переменной year.\n",
    "\n",
    "Результат выполнения условия занесите в переменную year_is_leap. Её значение должно быть равно True или False, в зависимости от того, является ли заданный год високосным."
   ]
  },
  {
   "cell_type": "code",
   "execution_count": 21,
   "metadata": {},
   "outputs": [
    {
     "data": {
      "text/plain": [
       "True"
      ]
     },
     "execution_count": 21,
     "metadata": {},
     "output_type": "execute_result"
    }
   ],
   "source": [
    "year = 2000\n",
    "year_is_leap=(year%4==0) and (year%100==0) and (year%400==0)\n",
    "year_is_leap"
   ]
  },
  {
   "cell_type": "markdown",
   "metadata": {},
   "source": [
    "### Задание\n",
    "\n",
    "Шоколадка имеет вид прямоугольника размером n*m долек. Шоколадку можно один раз разломить по прямой на две части.\n",
    "\n",
    "Необходимо реализовать условие, проверяющее, можно ли таким образом отломить от шоколадки часть, состоящую ровно из k долек. Два примера таких разделений — по горизонтали и вертикали — приведены на рисунке.\n",
    "\n",
    "Информация о количестве долек в ширину и длину шоколадки, а также количество долек, которое должно получиться после разделения, содержится в переменных n, m и k соответственно.\n",
    "\n",
    "Не забудьте также учесть, что количество долек, получаемое в остатке, должно быть строго меньше, чем общее количество долек, из которых состоит шоколадка.\n",
    "\n",
    "Результат работы условия занесите в переменную result, значение которой равно True или False в зависимости от выполнения условия."
   ]
  },
  {
   "cell_type": "code",
   "execution_count": 22,
   "metadata": {},
   "outputs": [
    {
     "data": {
      "text/plain": [
       "True"
      ]
     },
     "execution_count": 22,
     "metadata": {},
     "output_type": "execute_result"
    }
   ],
   "source": [
    "n, m, k = 5, 4, 8\n",
    "result=(n*m>=k) and (k%n==0 or k%m==0)\n",
    "result"
   ]
  },
  {
   "cell_type": "markdown",
   "metadata": {},
   "source": [
    "### Задание\n",
    "\n",
    "Представьте, что вы обрабатываете заполненные пользователями онлайн-заявки. Переменная phone в виде строки хранит указанный пользователем номер телефона и None, если соответствующее поле в анкете заполнено не было.\n",
    "\n",
    "Реализуйте условие, которое проверит, оставил ли пользователь номер телефона. Результатом работы условия должно стать булево значение True или False в зависимости от того, заполнено ли поле с номером телефона.\n",
    "\n",
    "Результат занесите в переменную phone_is_defined."
   ]
  },
  {
   "cell_type": "code",
   "execution_count": 24,
   "metadata": {},
   "outputs": [
    {
     "data": {
      "text/plain": [
       "True"
      ]
     },
     "execution_count": 24,
     "metadata": {},
     "output_type": "execute_result"
    }
   ],
   "source": [
    "phone = '+7 927 124 42 12'\n",
    "if phone is not None:\n",
    "  phone_is_defined = True\n",
    "else: \n",
    "  phone_is_defined = False\n",
    "\n",
    "phone_is_defined"
   ]
  },
  {
   "cell_type": "markdown",
   "metadata": {},
   "source": [
    "### Задание\n",
    "\n",
    "В словаре arrival_of_goods хранится информация о приходах товара на склад интернет-магазина. Ключами этого словаря являются номера накладных, а значениями — словари, в которых содержится информация о товаре и его количестве в каждой из накладной.\n",
    "Мы проводим аналитику прихода товара на склад. В переменной invoice_number содержится номер накладной, который мы хотим найти.\n",
    "\n",
    "С помощью метода словарей get() и проверки на None реализуйте условие, которое проверяет, есть ли в истории прихода накладная с указанным в переменной invoice_number номером.\n",
    "\n",
    "Результатом работы условия должна стать булева переменная со значением True или False в зависимости от того, существует ли в системе указанная накладная.\n",
    "\n",
    "Результат занесите в переменную invoice_exists."
   ]
  },
  {
   "cell_type": "code",
   "execution_count": 26,
   "metadata": {},
   "outputs": [
    {
     "data": {
      "text/plain": [
       "True"
      ]
     },
     "execution_count": 26,
     "metadata": {},
     "output_type": "execute_result"
    }
   ],
   "source": [
    "arrival_of_goods = {\n",
    "    '148902': {\n",
    "        'Футболка с принтом': 180,\n",
    "        'Свитшот черный': 245,\n",
    "        'Джинсы серые': 252\n",
    "    },\n",
    "    '893516': {\n",
    "        'Футболка с принтом': 43,\n",
    "        'Свитшот черный': 64,\n",
    "        'Джинсы черные': 102\n",
    "    },\n",
    "    '893481': {\n",
    "        'Кружка керамическая': 35,\n",
    "        'Свитшот черный': 10,\n",
    "        'Джинсы сервые': 14\n",
    "    }\n",
    "}\n",
    "\n",
    "invoice_number = '148902'\n",
    "value=arrival_of_goods.get(invoice_number)\n",
    "if value is not None:\n",
    "  invoice_exists=True\n",
    "else: invoice_exists=False\n",
    "\n",
    "invoice_exists"
   ]
  },
  {
   "cell_type": "markdown",
   "metadata": {},
   "source": [
    "### ПРОСТОЙ УСЛОВНЫЙ ОПЕРАТОР"
   ]
  },
  {
   "cell_type": "code",
   "execution_count": 27,
   "metadata": {},
   "outputs": [
    {
     "name": "stdout",
     "output_type": "stream",
     "text": [
      "String \"and\" is in list\n"
     ]
    }
   ],
   "source": [
    "target_word = 'and'\n",
    "words = ['and', 'or', 'not']\n",
    "# Проверяем, что строка target_word есть в списке words\n",
    "if target_word in words:\n",
    "    # целевое слово есть в списке\n",
    "    print('String \"{}\" is in list'.format(target_word))\n",
    "## String \"and\" is in list"
   ]
  },
  {
   "cell_type": "code",
   "execution_count": 28,
   "metadata": {},
   "outputs": [
    {
     "name": "stdout",
     "output_type": "stream",
     "text": [
      "on — target_word\n",
      "['and', 'or', 'not'] — list of words\n"
     ]
    }
   ],
   "source": [
    "target_word = 'on'\n",
    "words = ['and', 'or', 'not']\n",
    "# Проверяем, что строка target_word есть в списке words\n",
    "if target_word in words:\n",
    "    # целевое слово есть в списке\n",
    "    print('String \"{}\" is in list'.format(target_word))\n",
    "print('{} — target_word'.format(target_word))\n",
    "print('{} — list of words'.format(words))"
   ]
  },
  {
   "cell_type": "markdown",
   "metadata": {},
   "source": [
    "### Задание\n",
    "\n",
    "Вам необходимо запрограммировать сенсор в общественном помещении, который определяет количество человек.\n",
    "\n",
    "Если людей в помещении меньше 10, то на табло должно гореть сообщение «Добро пожаловать!», а в противном случае — «Всё занято. Подождите!».\n",
    "\n",
    "Количество человек в помещении хранится в переменной people_count. Организуйте вывод на табло с помощью функции print()."
   ]
  },
  {
   "cell_type": "code",
   "execution_count": 29,
   "metadata": {},
   "outputs": [
    {
     "name": "stdout",
     "output_type": "stream",
     "text": [
      "Добро пожаловать!\n"
     ]
    }
   ],
   "source": [
    "people_count = 5\n",
    "if people_count<10:\n",
    "  print(\"Добро пожаловать!\")\n",
    "else: print(\"Всё занято. Подождите!\")"
   ]
  },
  {
   "cell_type": "markdown",
   "metadata": {},
   "source": [
    "### Задание\n",
    "\n",
    "Представьте, что вам нужно написать программу, которая запрашивает у пользователя пароль для входа и проверяет, верен ли он. Верный пароль хранится в переменной password. Пароль, который вводит пользователь, хранится в переменной answer.\n",
    "\n",
    "Напишите часть кода, которая отвечает за проверку ввода пароля: если верный, то выводится информация «Добро пожаловать!», если неверный, то «Вы ввели неверный пароль!»."
   ]
  },
  {
   "cell_type": "code",
   "execution_count": 30,
   "metadata": {},
   "outputs": [
    {
     "name": "stdout",
     "output_type": "stream",
     "text": [
      "Добро пожаловать!\n"
     ]
    }
   ],
   "source": [
    "password = '879f2aabS'\n",
    "answer = '879f2aabS'\n",
    "\n",
    "if password == answer: print(\"Добро пожаловать!\")\n",
    "else: print(\"Вы ввели неверный пароль!\")"
   ]
  },
  {
   "cell_type": "markdown",
   "metadata": {},
   "source": [
    "### Задание\n",
    "\n",
    "Пользователь вводит своё имя и возраст, их значения хранятся в переменных name и age соответственно.\n",
    "\n",
    "Если возраст пользователя больше либо равен 18, то программа должна вывести строку \"Добрый вечер, <name>!\", меньше — \"Привет, <name>! Приносим свои извинения, но вы не можете гулять после 22:00\""
   ]
  },
  {
   "cell_type": "code",
   "execution_count": 31,
   "metadata": {},
   "outputs": [
    {
     "name": "stdout",
     "output_type": "stream",
     "text": [
      "Добрый вечер, Андрей!\n"
     ]
    }
   ],
   "source": [
    "name = 'Андрей'\n",
    "age = 21\n",
    "\n",
    "if age>=18: print(\"Добрый вечер, {}!\".format(name))\n",
    "else: print(\"Привет, {}! Приносим свои извинения, но вы не можете гулять после 22:00\".format(name))"
   ]
  },
  {
   "cell_type": "markdown",
   "metadata": {},
   "source": [
    "### ВЛОЖЕННЫЕ УСЛОВНЫЕ ОПЕРАТОРЫ"
   ]
  },
  {
   "cell_type": "code",
   "execution_count": 32,
   "metadata": {},
   "outputs": [
    {
     "name": "stdout",
     "output_type": "stream",
     "text": [
      "Issue a loan\n"
     ]
    }
   ],
   "source": [
    "credit_history = 'good' #кредитная история\n",
    "deposit = True # есть ли залог\n",
    "guarantors = False # есть ли поручители\n",
    "credit = 500.0 #сумма долга\n",
    "\n",
    "if credit_history == 'bad':\n",
    "    if deposit:\n",
    "        if guarantors:\n",
    "            print('Issue a loan')\n",
    "        else:\n",
    "            print('Not to issue a loan')\n",
    "    else:\n",
    "        print('Not to issue a loan')\n",
    "else:\n",
    "    if credit < 1000:\n",
    "        print('Issue a loan')\n",
    "    else:\n",
    "        print('Not to issue a loan')"
   ]
  },
  {
   "cell_type": "markdown",
   "metadata": {},
   "source": [
    "### Задание\n",
    "\n",
    "Используя вложенный условный оператор, напишите программу, которая проверяет, что число number делится на 2 и на 5 без остатка.\n",
    "\n",
    "Если число делится на 2 и на 5, программа должна выводить на экран фразу \"<число> делится на 2 и на 5\".\n",
    "\n",
    "Если число делится на 2, но не делится на 5 — программа должна выводить на экран фразу \"<число> делится на 2, но не делится на 5\".\n",
    "\n",
    "Если число не делится на 2, но делится на 5 — программа должна выводить на экран фразу \"<число> не делится на 2, но делится на 5\".\n",
    "\n",
    "Если число не делится ни на 2, ни на 5 — программа должна выводить на экран фразу \"<число> не делится ни на 2, ни на 5\""
   ]
  },
  {
   "cell_type": "code",
   "execution_count": 33,
   "metadata": {},
   "outputs": [
    {
     "name": "stdout",
     "output_type": "stream",
     "text": [
      "200 делится на 2 и на 5\n"
     ]
    }
   ],
   "source": [
    "number = 200\n",
    "\n",
    "if number %2==0 and number%5==0: print(\"{} делится на 2 и на 5\".format(number))\n",
    "if number %2==0 and number%5!=0: print(\"{} делится на 2, но не делится на 5\".format(number))\n",
    "if number %2!=0 and number%5==0: print(\"{} не делится на 2, но делится на 5\".format(number))\n",
    "if number %2!=0 and number%5!=0: print(\"{} не делится ни на 2, ни на 5\".format(number))"
   ]
  },
  {
   "cell_type": "markdown",
   "metadata": {},
   "source": [
    "### *ТЕРНАРНЫЙ УСЛОВНЫЙ ОПЕРАТОР"
   ]
  },
  {
   "cell_type": "code",
   "execution_count": 35,
   "metadata": {},
   "outputs": [
    {
     "name": "stdout",
     "output_type": "stream",
     "text": [
      "42\n"
     ]
    }
   ],
   "source": [
    "a = 42\n",
    "b = 41\n",
    "result = a if a > b else b\n",
    "\n",
    "print(result)"
   ]
  },
  {
   "cell_type": "code",
   "execution_count": 36,
   "metadata": {},
   "outputs": [
    {
     "name": "stdout",
     "output_type": "stream",
     "text": [
      "Not eligible for discount\n"
     ]
    }
   ],
   "source": [
    "cust_age = 40\n",
    "# Реализуем тот же код через тернарный оператор\n",
    "cust_discount = \"Eligible for discount\" if cust_age >= 60 else \"Not eligible for discount\"\n",
    "print(cust_discount)"
   ]
  },
  {
   "cell_type": "markdown",
   "metadata": {},
   "source": [
    "### Задание\n",
    "\n",
    "Нам нужно установить конкретную ставку скидки в зависимости от того, соответствует ли клиент критериям. По умолчанию наше приложение для бронирования мероприятий предоставляет всем клиентам скидку 10%; однако клиенты в возрасте 60 лет и старше имеют право на скидку 20%.\n",
    "\n",
    "С помощью тернарного оператора напишите программу, которая определяет скидку клиента. Возраст клиента хранится в переменной cust_age.\n",
    "\n",
    "Значение скидки занесите в переменную cust_discount."
   ]
  },
  {
   "cell_type": "code",
   "execution_count": 37,
   "metadata": {},
   "outputs": [
    {
     "name": "stdout",
     "output_type": "stream",
     "text": [
      "10\n"
     ]
    }
   ],
   "source": [
    "cust_age = 40\n",
    "cust_discount=10 if cust_age<60 else 20\n",
    "print(cust_discount)"
   ]
  },
  {
   "cell_type": "markdown",
   "metadata": {},
   "source": [
    "### Задание\n",
    "\n",
    "Условие задачи:\n",
    "\n",
    "Написать программу, определяющую, является ли данное время суток утром, и вывести соответствующее сообщение. Утром считается временной промежуток с 6 (включительно) и до 12 часов (невключительно).\n",
    "\n",
    "Текущее время (в часах) находится в переменной now и представлено в формате 'hour:minute:second'. Например:\n",
    "\n",
    "now = '11:24:39'"
   ]
  },
  {
   "cell_type": "code",
   "execution_count": 38,
   "metadata": {},
   "outputs": [
    {
     "name": "stdout",
     "output_type": "stream",
     "text": [
      "Morning!\n"
     ]
    }
   ],
   "source": [
    "now = '11:24:39'\n",
    "hour, minute, second = now.split(':')\n",
    "hour, minute, second = int(hour), int(minute), int(second)\n",
    "\n",
    "if 6 <= hour < 12:\n",
    "    print(\"Morning!\") # Утро!"
   ]
  },
  {
   "cell_type": "markdown",
   "metadata": {},
   "source": [
    "### Задание\n",
    "\n",
    "Условие задачи:\n",
    "\n",
    "В математике координатную плоскость условно разделяют на 4 четверти (обычно они обозначаются римскими цифрами):\n",
    "\n",
    "Нам необходимо написать программу, которая определяет, к какой четверти принадлежит точка. Координаты точки хранятся в переменных x и y. Так, точка со следующими координатами:\n",
    "\n",
    "x, y = (6.3, -5.3)\n",
    "принадлежит четвёртой четверти (IV) координатной плоскости."
   ]
  },
  {
   "cell_type": "code",
   "execution_count": 39,
   "metadata": {},
   "outputs": [
    {
     "name": "stdout",
     "output_type": "stream",
     "text": [
      "IV quarter\n"
     ]
    }
   ],
   "source": [
    "# 1 способ\n",
    "x, y = (6.3, -5.3)\n",
    "\n",
    "if x > 0:\n",
    "    if y > 0:                # x > 0, y > 0\n",
    "        print(\"I quarter\")   # Первая четверть\n",
    "    else:                    # x > 0, y < 0\n",
    "        print(\"IV quarter\")  # Четвёртая четверть\n",
    "else:\n",
    "    if y > 0:                # x < 0, y > 0\n",
    "        print(\"II quarter\")  # Вторая четверть\n",
    "    else:                    # x < 0, y < 0\n",
    "        print(\"III quarter\") # Третья четверть"
   ]
  },
  {
   "cell_type": "code",
   "execution_count": 40,
   "metadata": {},
   "outputs": [
    {
     "name": "stdout",
     "output_type": "stream",
     "text": [
      "IV quarter\n"
     ]
    }
   ],
   "source": [
    "# 2 способ\n",
    "\n",
    "if x > 0 and y > 0:      # x > 0, y > 0\n",
    "    print(\"I quarter\")   # Первая четверть\n",
    "if x < 0 and y > 0:      # x < 0, y > 0 \n",
    "    print(\"II quarter\")  # Вторая четверть\n",
    "if x < 0 and y < 0:      # x < 0, y < 0\n",
    "    print(\"III quarter\") # Третья четверть\n",
    "if x > 0 and y < 0:      # x > 0, y < 0\n",
    "    print(\"IV quarter\")  # Четвёртая четверть"
   ]
  },
  {
   "cell_type": "markdown",
   "metadata": {},
   "source": [
    "### Задание\n",
    "\n",
    "Пользователь вводит целое число — текущее время в часах, значение которого хранится в переменной time. Если количество часов находится между 7 и 10 (включая обе границы), то программа должна вывести строку «Пора вставать!», иначе выведется строка «Ты проспал!».\n",
    "\n",
    "Примечание: В рамках данной задачи условимся, что пользователь считается проспавшим в любое время, отличное от указанного интервала."
   ]
  },
  {
   "cell_type": "code",
   "execution_count": 41,
   "metadata": {},
   "outputs": [
    {
     "name": "stdout",
     "output_type": "stream",
     "text": [
      "Пора вставать!\n"
     ]
    }
   ],
   "source": [
    "time = 8\n",
    "if 7<=time<=10: print(\"Пора вставать!\")\n",
    "else: print(\"Ты проспал!\")"
   ]
  },
  {
   "cell_type": "markdown",
   "metadata": {},
   "source": [
    "### Задание\n",
    "\n",
    "Считается, что буквы q и z встречается в английском языке реже остальных букв. Вы решили написать программу, которая позволяет пользователям вводить слова и проверяет, можно считать это слово редким или нет. Интересующее вас слово содержится в переменной target_word.\n",
    "\n",
    "Пусть эта программа выводит на экран одну из двух фраз: «Ух ты! Вы ввели редкое слово!», если в слове есть буква q или букву z, или «Это не очень редкое слово...», если в нём этих букв нет."
   ]
  },
  {
   "cell_type": "code",
   "execution_count": 42,
   "metadata": {},
   "outputs": [
    {
     "name": "stdout",
     "output_type": "stream",
     "text": [
      "Ух ты! Вы ввели редкое слово!\n"
     ]
    }
   ],
   "source": [
    "target_word = \"quantity\"\n",
    "\n",
    "if 'q' in target_word or 'z' in target_word: print(\"Ух ты! Вы ввели редкое слово!\")\n",
    "else: print(\"Это не очень редкое слово...\")"
   ]
  },
  {
   "cell_type": "markdown",
   "metadata": {},
   "source": [
    "### Задание\n",
    "\n",
    "Вы работаете в агентстве знакомств. К вам обратилась некая Алла, которая ищет мужчину ростом строго выше 180 см, весом строго менее 80 кг. Также Алла верит в гороскопы и согласно гороскопу ей подходят только весы, дева, овен и козерог.\n",
    "\n",
    "Напишите условие, которое позволит определить, подходит ли Алле тот или иной кандидат. В результате работы программы на экран должно быть введено:\n",
    "\n",
    "«Ваша половинка нашлась!» — если кандидат подходит Алле по параметрам.\n",
    "\n",
    "«Попробуем поискать еще!» — если кандидат не подходит Алле по параметрам."
   ]
  },
  {
   "cell_type": "code",
   "execution_count": 43,
   "metadata": {},
   "outputs": [
    {
     "name": "stdout",
     "output_type": "stream",
     "text": [
      "Ваша половинка нашлась!\n"
     ]
    }
   ],
   "source": [
    "height = 183\n",
    "weight = 78\n",
    "zodiac_sign = 'козерог'\n",
    "\n",
    "zodiac={'весы', 'дева', 'овен', 'козерог'}\n",
    "if height>180 and weight<80 and zodiac_sign in zodiac: print(\"Ваша половинка нашлась!\")\n",
    "else: print(\"Попробуем поискать еще!\")"
   ]
  },
  {
   "cell_type": "markdown",
   "metadata": {},
   "source": [
    "### КОНСТРУКЦИЯ IF-ELIF-ELSE"
   ]
  },
  {
   "cell_type": "markdown",
   "metadata": {},
   "source": [
    "### Задание\n",
    "\n",
    "В переменной month находится номер месяца. Необходимо определить сезон в зависимости от номера месяца и вывести сообщение:\n",
    "\n",
    "\"Spring\" для 3, 4, 5 месяцев;\n",
    "\n",
    "\"Summer\" для 6, 7, 8 месяцев;\n",
    "\n",
    "\"Autumn\" для 9, 10, 11 месяцев;\n",
    "\n",
    "\"Winter\" для 12, 1, 2 месяцев;\n",
    "\n",
    "\"Incorrect month number\" для всех остальных значений."
   ]
  },
  {
   "cell_type": "code",
   "execution_count": 44,
   "metadata": {},
   "outputs": [
    {
     "name": "stdout",
     "output_type": "stream",
     "text": [
      "Spring\n"
     ]
    }
   ],
   "source": [
    "month = 4\n",
    "\n",
    "if month in [3, 4, 5]:     # весна\n",
    "   print(\"Spring\")\n",
    "elif month in [6, 7, 8]:   # лето\n",
    "   print(\"Summer\")\n",
    "elif month in [9, 10, 11]: # осень\n",
    "   print(\"Autumn\")\n",
    "elif month in [12, 1, 2]:  # зима\n",
    "   print(\"Winter\")\n",
    "else:                      # некорректный номер месяца\n",
    "   print(\"Incorrect month number\")"
   ]
  },
  {
   "cell_type": "markdown",
   "metadata": {},
   "source": [
    "### Задание\n",
    "\n",
    "Необходимо реализовать условный оператор, который печатает на экран характеристику ветра и его класс (от 1 до 4) в зависимости от его характера:\n",
    "\n",
    "\"weak [1]\" — от 1 до 4 м/с\n",
    "\n",
    "\"moderate [2]\" — от 5 до 10 м/c\n",
    "\n",
    "\"strong [3]\" — от 11 до 18 м/c\n",
    "\n",
    "\"hurricane [4]\" — от 19 м/c\n",
    "\n",
    "Скорость ветра хранится в переменной speed."
   ]
  },
  {
   "cell_type": "code",
   "execution_count": 45,
   "metadata": {},
   "outputs": [
    {
     "name": "stdout",
     "output_type": "stream",
     "text": [
      "weak [1]\n"
     ]
    }
   ],
   "source": [
    "speed = 4\n",
    "\n",
    "if speed in [1, 2, 3, 4]: print(\"weak [1]\")\n",
    "elif speed in [5, 6, 7, 8, 9, 10]: print(\"moderate [2]\")\n",
    "elif speed in [11, 12, 13, 14, 15, 16, 17, 18]: print(\"strong [3]\")\n",
    "elif speed>19: print(\"hurricane [4]\")"
   ]
  },
  {
   "cell_type": "markdown",
   "metadata": {},
   "source": [
    "### Задания\n",
    "\n",
    "Друг, зная, что вы отличный программист, попросил вас запрограммировать игру «Камень, ножницы, бумага» для своего младшего брата. Правила игры всем известны: камень побеждает ножницы; ножницы — бумагу; бумага — камень.\n",
    "\n",
    "Жесты, выполняемые первым и вторым игроками находятся в переменных player_1 и player_2 соответственно. Обратите внимание, что названия жестов должны быть написаны строчными буквами.\n",
    "\n",
    "Напишите программу, которая определяет победителя. Если побеждает первый игрок, то выводится сообщение «Первый игрок — победитель!». Если второй — «Второй игрок — победитель!». Если ничья — выводится «Ничья!»."
   ]
  },
  {
   "cell_type": "code",
   "execution_count": 46,
   "metadata": {},
   "outputs": [
    {
     "name": "stdout",
     "output_type": "stream",
     "text": [
      "Первый игрок — победитель!\n"
     ]
    }
   ],
   "source": [
    "player_1 = 'ножницы'\n",
    "player_2 = 'бумага'\n",
    "\n",
    "if player_1 =='камень' and player_2 =='ножницы': print(\"Первый игрок — победитель!\")\n",
    "elif player_1 =='бумага' and player_2 =='камень': print(\"Первый игрок — победитель!\")\n",
    "elif player_1 =='ножницы' and player_2 =='бумага': print(\"Первый игрок — победитель!\")\n",
    "elif player_1 == player_2: print(\"Ничья!\")\n",
    "else: print(\"Второй игрок — победитель!\")"
   ]
  },
  {
   "cell_type": "markdown",
   "metadata": {},
   "source": [
    "### Задание\n",
    "\n",
    "Мы занимаемся разработкой сервиса доставки еды из нашего ресторана. В словаре dish_time_dict представлены блюда, которые в данный момент ресторан может приготовить и среднее время их приготовления (в минутах).\n",
    "\n",
    "В словаре street_time_dict указаны районы города и среднее время доставки в эти районы (в минутах).\n",
    "\n",
    "Блюдо, заказанное пользователем, и район, в котором он живёт, хранятся в переменных dish и street соответственно.\n",
    "\n",
    "Пример:\n",
    "\n",
    "``` dish, street = 'Рамен с говядиной', 'Заводской' ```\n",
    "\n",
    "Необходимо реализовать программу, которая проверяет, успеет курьер доставить заказ за 60 (включительно) минут с момента его принятия или нет.\n",
    "\n",
    "Также необходимо реализовать проверку, что блюдо, заказанное клиентом, в данный момент доступно в ресторане, а район, в котором находится клиент, доступен для доставки."
   ]
  },
  {
   "cell_type": "code",
   "execution_count": 47,
   "metadata": {},
   "outputs": [],
   "source": [
    "dish_time_dict = {\n",
    "    'Рамен с говядиной': 15,\n",
    "    'Суши': 18,\n",
    "    'Лагман с курицей': 20,\n",
    "    'Лагман с говядиной': 24,\n",
    "    'Плов с курицей': 28\n",
    "}\n",
    "\n",
    "street_time_dict  = {\n",
    "    'Дзержинский': 39,\n",
    "    'Солнечный': 40,\n",
    "    'Заводской': 27,\n",
    "    'Гагаринский': 43,\n",
    "    'Кировский': 37,\n",
    "    'Октябрьский': 34\n",
    "}"
   ]
  },
  {
   "cell_type": "code",
   "execution_count": 50,
   "metadata": {},
   "outputs": [
    {
     "name": "stdout",
     "output_type": "stream",
     "text": [
      "Заказ будет доставлен вовремя\n"
     ]
    }
   ],
   "source": [
    "street = 'Левобережный'\n",
    "dish, street = 'Рамен с говядиной', 'Заводской'\n",
    "\n",
    "if street not in street_time_dict: \n",
    "    # неизвестный район\n",
    "    print(\"Доставка в ваш район недоступна\")\n",
    "elif dish not in dish_time_dict:\n",
    "    # неизвестное блюдо\n",
    "    print(\"Блюдо недоступно, закажите что-то другое\") \n",
    "else: \n",
    "    # район доступен для доставки и блюдо известно\n",
    "    dish_time = dish_time_dict[dish] # время приготовления блюда\n",
    "    street_time = street_time_dict[street] # время доставки\n",
    "    full_time = dish_time + street_time  # общее время доставки\n",
    "    delay = full_time - 60  # задержка\n",
    "    if delay <= 0: \n",
    "        # задержка не положительна\n",
    "        print(\"Заказ будет доставлен вовремя\")\n",
    "    else:  \n",
    "        # задержка положительная\n",
    "        print(\"Курьер задержится на {} минут\".format(delay))"
   ]
  },
  {
   "cell_type": "markdown",
   "metadata": {},
   "source": [
    "### Задание\n",
    "\n",
    "Представим ситуацию. В последний месяц удача перестала вам улыбаться. У вас 3 раза взломали пароль от вашего профиля в соцсетях. Вы задумались над тем, что неправильно подходите к вопросу безопасности. И решаете написать программу на Python, которая будет проверять ваш пароль на надёжность. Немного погуглив, вы смогли составить список рекомендаций к паролю:\n",
    "\n",
    "Длина – 8 символов (если меньше – то проще взломать, а если длиннее – то сложно запомнить).\n",
    "\n",
    "Пароль не должен состоять только из цифр.\n",
    "\n",
    "Пароль не должен состоять только из букв.\n",
    "\n",
    "В пароле должны быть заглавные буквы.\n",
    "\n",
    "В пароле должны быть строчные символы.\n",
    "\n",
    "В пароле должен быть хотя бы один из специальных символов ('*', '-', '#'), но каждый из символов должен входить в пароль не более 1 раза.\n",
    "\n",
    "Другие спецсимволы недопустимы, так как вы их не можете запомнить. Вот список «плохих» символов: '!', '@', '$', '%', '^', '`', '&', '(', ')', '+', '=', '_', '~'.\n",
    "\n",
    "В случае надёжного пароля программа должна выводить фразу «Пароль идеален!», а в остальных случаях будут перечислены все ошибки, которые вы допустили."
   ]
  },
  {
   "cell_type": "code",
   "execution_count": 51,
   "metadata": {},
   "outputs": [
    {
     "name": "stdout",
     "output_type": "stream",
     "text": [
      "Пароль идеален!\n"
     ]
    }
   ],
   "source": [
    "errors_dict = {\n",
    "    'length': 'Длина пароля не равна 8 символам',\n",
    "    'digits': 'Пароль состоит только из цифр',\n",
    "    'letters': 'Пароль состоит только из букв',\n",
    "    'upper': 'Отсутствуют заглавные буквы',\n",
    "    'lower': 'Отсутствуют строчные буквы',\n",
    "    'spec': 'Отсутствуют спецсимволы в пароле',\n",
    "    'bad_symbols': 'В пароле использованы непредусмотренные символы'\n",
    "}\n",
    "\n",
    "bad_symbols = ['!', '@', '$', '%', '^', '`', '&', '(', ')', '+', '=', '_', '~']\n",
    "password = 'Aafaf*al'\n",
    "\n",
    "# Проверяем длину пароля\n",
    "if len(password) == 8:\n",
    "    errors_dict.pop('length')\n",
    "\n",
    "# Проверяем, что пароль НЕ состоит только из цифр\n",
    "if not password.isdigit():\n",
    "    errors_dict.pop('digits')\n",
    "\n",
    "# Проверяем, что пароль НЕ состоит только из букв\n",
    "if not password.isalpha():\n",
    "    errors_dict.pop('letters')\n",
    "\n",
    "# Проверяем, есть ли в пароле заглавные буквы\n",
    "if password.lower() != password:\n",
    "    errors_dict.pop('upper')\n",
    "\n",
    "# Проверяем, есть ли в пароле строчные буквы\n",
    "if password.upper() != password:\n",
    "    errors_dict.pop('lower')\n",
    "\n",
    "# Проверяем, есть ли в пароле специальные символы\n",
    "if '*' in password or '-' in password or '#' in password:\n",
    "    errors_dict.pop('spec')\n",
    "    # Проверяем, встречаются ли спец символы в пароле несколько раз\n",
    "    if password.count('*') > 1 or password.count('-') > 1 or password.count('#') > 1:\n",
    "        errors_dict['spec_count'] = 'Какой-то из спецсимволов в пароле использован более одного раза'\n",
    "\n",
    "# Проверяем, есть ли в пароле запрещенные символы\n",
    "if len(set(password).intersection(set(bad_symbols))) == 0:\n",
    "    errors_dict.pop('bad_symbols')\n",
    "\n",
    "# Проверяем результирующую длину чек-листа\n",
    "if len(errors_dict) > 0:\n",
    "    print(list(errors_dict.values()))\n",
    "else:\n",
    "    print('Пароль идеален!')"
   ]
  },
  {
   "cell_type": "markdown",
   "metadata": {},
   "source": [
    "### Задание\n",
    "\n",
    "Обдумывая акцию для распродажи, владелец компании пришёл к выводу, что продавать все кроссовки по акции на сайте компании невыгодно. Поэтому была придумана новая схема: если клиент покупает одновременно кроссовки двух разных брендов, то его общая скидка составит 5 %, если две пары от одного бренда — то 10 %.\n",
    "\n",
    "Для упрощения задачи будем считать, что покупатель в любом случае купит не более двух пар кроссовок. Список товаров в корзине хранится в переменной purchases и может быть пустым.\n",
    "\n",
    "Также будем считать, что для всех товаров бренда действует одна и та же цена. Расценки товаров хранятся в словаре prices:\n",
    "\n",
    "невыгодно. Поэтому была придумана новая схема: если клиент покупает одновременно кроссовки двух разных брендов, то его общая скидка составит 5 %, если две пары от одного бренда — то 10 %.\n",
    "\n",
    "Для упрощения задачи будем считать, что покупатель в любом случае купит не более двух пар кроссовок. Список товаров в корзине хранится в переменной purchases и может быть пустым.\n",
    "\n",
    "Также будем считать, что для всех товаров бренда действует одна и та же цена. Расценки товаров хранятся в словаре prices:\n",
    "\n",
    "\n",
    "prices = {'Adidas': 4298, 'Nike': 6550, 'Puma': 4490, 'Asics': 3879}\n",
    "Напишите программу, которая:\n",
    "\n",
    "Выводит на экран информацию об ошибке, если список покупок пуст в виде строки: Ваша корзина пуста\n",
    "\n",
    "Выводит на экран информацию об общей стоимости товара, если куплен только один товар Стоимость заказа составила: <стоимость заказа>\n",
    "\n",
    "Выводит на экран информацию о полученной скидке, сумме оплаты без скидки и сумму со скидкой"
   ]
  },
  {
   "cell_type": "code",
   "execution_count": 52,
   "metadata": {},
   "outputs": [
    {
     "name": "stdout",
     "output_type": "stream",
     "text": [
      "Стоимость заказа составила: 10848. С учетом скидки в 5% — 10305.6\n"
     ]
    }
   ],
   "source": [
    "purchases = [\"Adidas\", \"Nike\"]\n",
    "\n",
    "prices = {'Adidas': 4298, 'Nike': 6550, 'Puma': 4490, 'Asics': 3879}\n",
    "#purchases = [\"Adidas\", \"Nike\"]\n",
    "#purchases = [\"Adidas\"]\n",
    "if len(purchases)==0:\n",
    "  print('Ваша корзина пуста')\n",
    "elif len(purchases)==1:\n",
    "  print('Стоимость заказа составила: {}'.format(prices[purchases[0]]))\n",
    "elif purchases[0]==purchases[1]:\n",
    "  total=prices[purchases[0]]+prices[purchases[1]]\n",
    "  print('Стоимость заказа составила: {}. С учетом скидки в 10% — {}'.format(total, total*0.9))\n",
    "elif purchases[0]!=purchases[1]:\n",
    "  total=prices[purchases[0]]+prices[purchases[1]]\n",
    "  print('Стоимость заказа составила: {}. С учетом скидки в 5% — {}'.format(total, total*0.95))\n"
   ]
  },
  {
   "cell_type": "markdown",
   "metadata": {},
   "source": [
    "### Задание\n",
    "\n",
    "При составлении резюме на платформе поиска работы автоматически указывается дата обновления этого резюме. Дата содержится в поле date.\n",
    "\n",
    "Примеры:\n",
    "\n",
    "date = '16.04.2019 15:59'\n",
    "\n",
    "date = '12.05.2019 08:42'\n",
    "\n",
    "date = '05.07.2018 20:15'\n",
    "\n",
    "Мы распределяем резюме по категориям:\n",
    "\n",
    "Категория 1 — резюме, обновленные в мае 2019\n",
    "\n",
    "Категория 2 — резюме, обновленные в период с января по май (не включая май) 2019 года\n",
    "\n",
    "Категория 3 — резюме, составленные раньше, чем 1 января 2019 года\n",
    "\n",
    "Напишите программу, которая определяет категорию резюме. Категорию занесите целым числом в переменную category.\n",
    "\n",
    "Известно, что в базе нет резюме, обновлённых после 1 июня 2019 года. Формат строки date одинаков для всех записей из базы данных, вы можете воспользоваться им."
   ]
  },
  {
   "cell_type": "code",
   "execution_count": 54,
   "metadata": {},
   "outputs": [
    {
     "data": {
      "text/plain": [
       "2"
      ]
     },
     "execution_count": 54,
     "metadata": {},
     "output_type": "execute_result"
    }
   ],
   "source": [
    "date = '16.04.2019 15:59'\n",
    "\n",
    "first, time = date.split(' ')\n",
    "day, month, year=first.split('.')\n",
    "\n",
    "if int(month) == 5 and int(year) == 2019:\n",
    "  category = 1\n",
    "if 1<=int(month)<5 and int(year) == 2019:\n",
    "  category = 2\n",
    "if int(year)<2019:\n",
    "  category = 3\n",
    "  \n",
    "category"
   ]
  },
  {
   "cell_type": "markdown",
   "metadata": {},
   "source": [
    "### Задание\n",
    "\n",
    "Мы занимаемся обработкой и анализом базы данных, содержащей резюме соискателей. Напишем скрипт для автоматического извлечение информации о городе, в котором проживает соискатель.\n",
    "\n",
    "В поле city_info содержится информация о городе, а также о готовности соискателя к переезду и командировкам."
   ]
  },
  {
   "cell_type": "code",
   "execution_count": 56,
   "metadata": {},
   "outputs": [
    {
     "data": {
      "text/plain": [
       "'Москва'"
      ]
     },
     "execution_count": 56,
     "metadata": {},
     "output_type": "execute_result"
    }
   ],
   "source": [
    "million_cities = ['Новосибирск ', 'Екатеринбург ', 'Нижний Новгород ', 'Казань ', 'Челябинск ', 'Омск ', 'Самара ', 'Ростов-на-Дону ', 'Уфа ', 'Красноярск ', 'Пермь ', 'Воронеж ', 'Волгоград ']\n",
    "\n",
    "city_info = \"Москва , не готов к переезду , готов к командировкам\"\n",
    "\n",
    "spl=city_info.split(',') \n",
    "if spl[0]!='Москва ' and spl[0]!='Санкт-Петербург ' and spl[0] not in million_cities:\n",
    "  city=\"Другое\"\n",
    "elif spl[0]=='Москва ':\n",
    "  city='Москва'\n",
    "elif spl[0]=='Санкт-Петербург ':\n",
    "  city='Санкт-Петербург'\n",
    "elif spl[0] in million_cities:\n",
    "  city='Город миллионник'\n",
    "  \n",
    "city"
   ]
  },
  {
   "cell_type": "markdown",
   "metadata": {},
   "source": [
    "### ОБРАБОТКА ИСКЛЮЧЕНИЙ"
   ]
  },
  {
   "cell_type": "code",
   "execution_count": 57,
   "metadata": {},
   "outputs": [
    {
     "name": "stdout",
     "output_type": "stream",
     "text": [
      "Before exception\n",
      "division by zero\n",
      "After exception\n",
      "After after exception\n"
     ]
    }
   ],
   "source": [
    "# Добавляем конструкцию try-except для отлова нашей ошибки\n",
    "try: \n",
    "    print(\"Before exception\")\n",
    "    # Теперь пользователь сам вводит числа для деления\n",
    "    a = int(input(\"a: \"))\n",
    "    b = int(input(\"b: \"))\n",
    "    # Здесь может возникнуть исключение деления на ноль\n",
    "    c = a / b\n",
    "    # Печатаем c = a / b если всё хорошо\n",
    "    print(c) \n",
    "# Добавляем тип именно той ошибки которую хотим отловить.     \n",
    "except ZeroDivisionError as e: \n",
    "    # Выводим информацию об ошибке\n",
    "    print(e) \n",
    "    print(\"After exception\")\n",
    " \n",
    "print(\"After after exception\")"
   ]
  },
  {
   "cell_type": "code",
   "execution_count": 58,
   "metadata": {},
   "outputs": [
    {
     "name": "stdout",
     "output_type": "stream",
     "text": [
      "Before exception\n",
      "After exception\n",
      "Finally finished!\n",
      "After After exception\n"
     ]
    }
   ],
   "source": [
    "# Добавляем конструкцию try-except для отлова нашей ошибки\n",
    "try:\n",
    "    print(\"Before exception\") # Перед исключением\n",
    "    # Теперь пользователь сам вводит числа для деления\n",
    "    a = int(input(\"a: \"))\n",
    "    b = int(input(\"b: \"))\n",
    "    c = a / b\n",
    "    # Печатаем c = a / b, если всё хорошо\n",
    "    print(c) \n",
    "# Добавляем тип именно той ошибки которую хотим отловить. \n",
    "except ZeroDivisionError as e:\n",
    "    print(\"After exception\") # После исключения\n",
    "# код в блоке else выполняется только в том случае, если код в блоке try выполнился успешно (т. е. не произошло никакого исключения)\n",
    "else: \n",
    "    print(\"Everything's fine!\")# Всё отлично!\n",
    "# код в блоке finally выполнится в любом случае при выходе из try-except \n",
    "finally: \n",
    "    print(\"Finally finished!\") # Наконец-то завершено!\n",
    " \n",
    "print(\"After After exception\") # После после исключения"
   ]
  },
  {
   "cell_type": "markdown",
   "metadata": {},
   "source": [
    "### Задание\n",
    "\n",
    "Условие задачи:\n",
    "\n",
    "Пусть у нас есть некоторый список images_db, в нём хранятся идентификаторы изображений, которые мы отдаём пользователю. Пользователь вводит номер (индекс) элемента, который он хочет получить, а мы выводим на экран сам элемент. Индекс, который ввёл пользователь, находится в переменной index.\n",
    "\n",
    "Часть с обращением по индексу сейчас выглядит следующим образом:\n",
    "\n",
    "images_db = [101252, 521929, 215251]\n",
    "\n",
    "img_id = images_db[index]\n",
    "\n",
    "print(f'Image id: {img_id}')\n",
    "\n",
    "Есть вероятность, что в переменной index содержится такое число, что при обращении к списку возникнет ошибка выхода за его пределы. Например, если значение переменной index будет равно 10, а длина списка будет равна 3, мы увидим на экране следующее:\n",
    "\n",
    "IndexError: list index out of range\n",
    "Необходимо организовать обработку этого исключения, чтобы программа не завершала свою работу."
   ]
  },
  {
   "cell_type": "code",
   "execution_count": 59,
   "metadata": {},
   "outputs": [
    {
     "name": "stdout",
     "output_type": "stream",
     "text": [
      "Image id: 215251\n"
     ]
    }
   ],
   "source": [
    "index = 10\n",
    "images_db = [101252, 521929, 215251]\n",
    "try:\n",
    "    img_id = images_db[index]\n",
    "except:\n",
    "    img_id = images_db[-1]\n",
    "print(f'Image id: {img_id}')"
   ]
  },
  {
   "cell_type": "markdown",
   "metadata": {},
   "source": [
    "### Задание\n",
    "\n",
    "Часто перед разработчиком стоит задача защитить свою программу от «падения». Перед нами следующий код:\n",
    "\n",
    "my_dict = {'a': 10, 'b': '5.214', 'c': 'simple_string'}\n",
    "\n",
    "value_1 = my_dict[key_1]\n",
    "\n",
    "value_2 = my_dict[key_2]\n",
    "\n",
    "value_1, value_2 = float(value_1), float(value_2)\n",
    "\n",
    "new_value = value_1 + value_2\n",
    "\n",
    "Подумайте, какие ошибки могут в нём возникнуть.\n",
    "\n",
    "При этом переменные key_1 и key_2 приходит каким-то образом извне, например задаются пользователем."
   ]
  },
  {
   "cell_type": "code",
   "execution_count": 61,
   "metadata": {},
   "outputs": [
    {
     "name": "stdout",
     "output_type": "stream",
     "text": [
      "Введён неверный ключ\n"
     ]
    }
   ],
   "source": [
    "my_dict = {'a': 10, 'b': '5.214', 'c': 'simple_string'}\n",
    "key_1, key_2 = 'a', 'f'\n",
    "\n",
    "try:\n",
    "    value_1 = my_dict[key_1]\n",
    "    value_2 = my_dict[key_2]\n",
    "    value_1, value_2 = float(value_1), float(value_2)\n",
    "    new_value = value_1 + value_2\n",
    "except KeyError:\n",
    "    print(\"Введён неверный ключ\")"
   ]
  },
  {
   "cell_type": "code",
   "execution_count": null,
   "metadata": {},
   "outputs": [
    {
     "name": "stdout",
     "output_type": "stream",
     "text": [
      "Введен неверный ключ\n"
     ]
    }
   ],
   "source": [
    "my_dict = {'a': 10, 'b': '5.214', 'c': 'simple_string'}\n",
    "key_1, key_2 = 'a', 'с'\n",
    "try:\n",
    "    value_1 = my_dict[key_1]\n",
    "    value_2 = my_dict[key_2]\n",
    "    value_1, value_2 = float(value_1), float(value_2)\n",
    "    new_value = value_1 + value_2\n",
    "except KeyError:\n",
    "    print('Введен неверный ключ')\n",
    "except ValueError:\n",
    "    print('Неверное преобразование типов')"
   ]
  },
  {
   "cell_type": "code",
   "execution_count": 67,
   "metadata": {},
   "outputs": [
    {
     "name": "stdout",
     "output_type": "stream",
     "text": [
      "Код завершился с ошибкой: 'с'\n"
     ]
    }
   ],
   "source": [
    "try:\n",
    "    value_1 = my_dict[key_1]\n",
    "    value_2 = my_dict[key_2]\n",
    "    value_1, value_2 = float(value_1), float(value_2)\n",
    "    new_value = value_1 + value_2\n",
    "except Exception as e:\n",
    "    print('Код завершился с ошибкой: {}'.format(e))"
   ]
  },
  {
   "cell_type": "markdown",
   "metadata": {},
   "source": [
    "### Задание\n",
    "\n",
    "Задан словарь medicines с ценами на лекарства в онлайн-аптеке и строка name.\n",
    "\n",
    "С помощью конструкции try-except реализуйте программу, которая печатает на экран значение, хранящееся по ключу из переменной name. Если строка name не является ключом словаря, то на экран через print выводится сообщение «Такого ключа в словаре нет»."
   ]
  },
  {
   "cell_type": "code",
   "execution_count": 69,
   "metadata": {},
   "outputs": [
    {
     "name": "stdout",
     "output_type": "stream",
     "text": [
      "99\n"
     ]
    }
   ],
   "source": [
    "medicines = {'Ибупрофен': 99, 'Эспумизан': 279, 'Пенталгин': 119}\n",
    "name = 'Ибупрофен'\n",
    "try:\n",
    "  #name = 'Ибупрофен'\n",
    "  print(medicines[name])\n",
    "except:\n",
    "  print('Такого ключа в словаре нет')"
   ]
  },
  {
   "cell_type": "code",
   "execution_count": 70,
   "metadata": {},
   "outputs": [
    {
     "name": "stdout",
     "output_type": "stream",
     "text": [
      "You are 100 years old!\n"
     ]
    }
   ],
   "source": [
    "# Добавляем конструкцию try-except для отлова нашей ошибки\n",
    "try:\n",
    "    age = int(input(\"How old are you?\"))\n",
    "    # Проверяем, что возраст пользователя корректный\n",
    "    if age > 100 or age <= 0:\n",
    "        # Намеренно вызываем ошибку, в скобках указываем текст ошибки\n",
    "        raise ValueError(\"You are too old or don't exist\") \n",
    "# Ловим исключение ValueError\n",
    "except ValueError:\n",
    "    # В случае возникновения исключения выводим сообщение\n",
    "    print(\"Wrong age\")\n",
    "# В блоке else прописываем часть, которая выполняется, если блок try отработал без ошибок\n",
    "else:\n",
    "    # Возраст выводится только в том случае, если пользователь ввёл правильный возраст. \n",
    "    print(\"You are {} years old!\".format(age))"
   ]
  },
  {
   "cell_type": "markdown",
   "metadata": {},
   "source": [
    "### Задание\n",
    "\n",
    "В переменной number хранится некоторое число.\n",
    "\n",
    "Напишите программу со следующим условием: если число number не ноль, то программа делит 10 на введённое число и записывает результат, округлённый до трёх знаков после запятой, в переменную result. Если же в переменной number хранится ноль, то программа должна выбросить исключение ZeroDivisionError с фразой \"Вы собираетесь делить на 0\" с помощью ключевого слова raise."
   ]
  },
  {
   "cell_type": "code",
   "execution_count": 72,
   "metadata": {},
   "outputs": [
    {
     "name": "stdout",
     "output_type": "stream",
     "text": [
      "1.429\n"
     ]
    }
   ],
   "source": [
    "number=7\n",
    "if number == 0:\n",
    "     raise ZeroDivisionError('Вы собираетесь делить на 0')\n",
    "else:\n",
    "        result = round(10 / number, 3)\n",
    "\n",
    "print(result)"
   ]
  }
 ],
 "metadata": {
  "kernelspec": {
   "display_name": "Python 3",
   "language": "python",
   "name": "python3"
  },
  "language_info": {
   "codemirror_mode": {
    "name": "ipython",
    "version": 3
   },
   "file_extension": ".py",
   "mimetype": "text/x-python",
   "name": "python",
   "nbconvert_exporter": "python",
   "pygments_lexer": "ipython3",
   "version": "3.12.0"
  }
 },
 "nbformat": 4,
 "nbformat_minor": 2
}
