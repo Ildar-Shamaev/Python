{
 "cells": [
  {
   "cell_type": "code",
   "execution_count": 9,
   "metadata": {},
   "outputs": [
    {
     "name": "stdout",
     "output_type": "stream",
     "text": [
      "Python 3.12.0\n"
     ]
    }
   ],
   "source": [
    "!python --version"
   ]
  },
  {
   "cell_type": "code",
   "execution_count": 15,
   "metadata": {},
   "outputs": [
    {
     "name": "stdout",
     "output_type": "stream",
     "text": [
      "\n",
      "Hello, Имя Фамилия !\n",
      "\n",
      "Your profile:\n",
      "Age: 35\n",
      "City: Уфа\n"
     ]
    }
   ],
   "source": [
    "first_name = input(\"Enter your first name:\")\n",
    "last_name = input(\"Enter your last name:\")\n",
    "age = input(\"Enter your age:\")\n",
    "city = input(\"Enter your city of residence:\")\n",
    "\n",
    "print(\"\")\n",
    "print(\"Hello,\", first_name, last_name, \"!\")\n",
    "print(\"\")\n",
    "print(\"Your profile:\")\n",
    "print(\"Age:\", age)\n",
    "print(\"City:\", city)"
   ]
  },
  {
   "cell_type": "code",
   "execution_count": 16,
   "metadata": {},
   "outputs": [
    {
     "name": "stdout",
     "output_type": "stream",
     "text": [
      "<class 'str'>\n"
     ]
    }
   ],
   "source": [
    "a = '3.14'\n",
    "print(type(a))\n",
    "# <class 'str'>"
   ]
  },
  {
   "cell_type": "markdown",
   "metadata": {},
   "source": [
    "### Срезы"
   ]
  },
  {
   "cell_type": "code",
   "execution_count": 17,
   "metadata": {},
   "outputs": [
    {
     "name": "stdout",
     "output_type": "stream",
     "text": [
      "llo!\n"
     ]
    }
   ],
   "source": [
    "s = \"Hello!\"\n",
    "print(s[2:])\n",
    "# llo!"
   ]
  },
  {
   "cell_type": "code",
   "execution_count": 18,
   "metadata": {},
   "outputs": [
    {
     "name": "stdout",
     "output_type": "stream",
     "text": [
      "Hell\n"
     ]
    }
   ],
   "source": [
    "print(s[:4])\n",
    "# Hell"
   ]
  },
  {
   "cell_type": "code",
   "execution_count": 19,
   "metadata": {},
   "outputs": [
    {
     "name": "stdout",
     "output_type": "stream",
     "text": [
      "!olleH\n"
     ]
    }
   ],
   "source": [
    "print(s[::-1])\n",
    "# !olleH"
   ]
  },
  {
   "cell_type": "code",
   "execution_count": 21,
   "metadata": {},
   "outputs": [
    {
     "name": "stdout",
     "output_type": "stream",
     "text": [
      "Hlo\n"
     ]
    }
   ],
   "source": [
    "print(s[::2])\n",
    "# Hlo"
   ]
  },
  {
   "cell_type": "code",
   "execution_count": 20,
   "metadata": {},
   "outputs": [
    {
     "name": "stdout",
     "output_type": "stream",
     "text": [
      "!\n",
      "lo\n"
     ]
    }
   ],
   "source": [
    "print(s[-1])\n",
    "# !\n",
    "\n",
    "print(s[-3:-1])\n",
    "# lo"
   ]
  },
  {
   "cell_type": "markdown",
   "metadata": {},
   "source": [
    "Строки можно складывать друг с другом:"
   ]
  },
  {
   "cell_type": "code",
   "execution_count": 29,
   "metadata": {},
   "outputs": [
    {
     "name": "stdout",
     "output_type": "stream",
     "text": [
      "Hello!\n"
     ]
    }
   ],
   "source": [
    "s = \"Hel\" + \"lo!\"\n",
    "print(s)\n",
    "# Hello!"
   ]
  },
  {
   "cell_type": "markdown",
   "metadata": {},
   "source": [
    "Также можно умножать строку на целое число. Оператор умножения строки на целое число указывает Python дублировать строку заданное числом количество раз:"
   ]
  },
  {
   "cell_type": "code",
   "execution_count": null,
   "metadata": {},
   "outputs": [
    {
     "name": "stdout",
     "output_type": "stream",
     "text": [
      "Hello!Hello!Hello!\n"
     ]
    }
   ],
   "source": [
    "s = \"Hello!\"\n",
    "print(s*3)\n",
    "# Hello!Hello!Hello!"
   ]
  },
  {
   "cell_type": "markdown",
   "metadata": {},
   "source": [
    "Приведённые ниже методы позволяют привести все буквы к верхнему регистру (заглавным буквам) или к нижнему регистру (строчным буквам). Обратите внимание, что исходная строка не изменяется:"
   ]
  },
  {
   "cell_type": "code",
   "execution_count": 27,
   "metadata": {},
   "outputs": [
    {
     "name": "stdout",
     "output_type": "stream",
     "text": [
      "HELLO!\n",
      "hello!\n",
      "Hello!\n"
     ]
    }
   ],
   "source": [
    "print(s.upper())\n",
    "# HELLO!\n",
    "\n",
    "print(s.lower())\n",
    "# hello!\n",
    "\n",
    "print(s)\n",
    "# Hello!"
   ]
  },
  {
   "cell_type": "markdown",
   "metadata": {},
   "source": [
    "Ряд методов позволяет определить, состоит ли строка из цифр, букв или одновременно из букв и цифр:"
   ]
  },
  {
   "cell_type": "code",
   "execution_count": null,
   "metadata": {},
   "outputs": [
    {
     "name": "stdout",
     "output_type": "stream",
     "text": [
      "False\n",
      "False\n",
      "False\n"
     ]
    }
   ],
   "source": [
    "s = \"Hello!\"\n",
    "\n",
    "print(s.isdigit()) # строка состоит только из цифр?\n",
    "# False\n",
    "\n",
    "print(s.isalpha()) # строка состоит только из букв?\n",
    "# False\n",
    "\n",
    "print(s.isalnum()) # строка состоит только из цифр и букв?\n",
    "# False"
   ]
  },
  {
   "cell_type": "markdown",
   "metadata": {},
   "source": [
    "Метод find(substr), определённый для строк, позволяет находить символы и подстроки:"
   ]
  },
  {
   "cell_type": "code",
   "execution_count": 30,
   "metadata": {},
   "outputs": [
    {
     "name": "stdout",
     "output_type": "stream",
     "text": [
      "1\n",
      "4\n"
     ]
    }
   ],
   "source": [
    "print(s.find('e')) # возвращает индекс\n",
    "# 1\n",
    "\n",
    "print(s.find('o!')) # в случае подстроки возвращает индекс первого символа\n",
    "# 4"
   ]
  },
  {
   "cell_type": "code",
   "execution_count": 31,
   "metadata": {},
   "outputs": [
    {
     "name": "stdout",
     "output_type": "stream",
     "text": [
      "2\n"
     ]
    }
   ],
   "source": [
    "print(s.find('l')) # встречается в индексах 2 и 3\n",
    "# 2"
   ]
  },
  {
   "cell_type": "markdown",
   "metadata": {},
   "source": [
    "Python и здесь предлагает удобный метод для реализации такой идеи — split():"
   ]
  },
  {
   "cell_type": "code",
   "execution_count": 33,
   "metadata": {},
   "outputs": [
    {
     "name": "stdout",
     "output_type": "stream",
     "text": [
      "['red', 'blue', 'green']\n",
      "blue\n"
     ]
    }
   ],
   "source": [
    "colors = 'red blue green'\n",
    "print(colors.split())\n",
    "# ['red', 'blue', 'green']\n",
    "print(colors.split()[1])\n",
    "# blue"
   ]
  },
  {
   "cell_type": "markdown",
   "metadata": {},
   "source": [
    "Работать со строкой в таком формате крайне неудобно. Чтобы разделить её на отдельные значения, воспользуемся опять же методом split(). На этот раз явно укажем, что разделитель — запятая:"
   ]
  },
  {
   "cell_type": "code",
   "execution_count": 34,
   "metadata": {},
   "outputs": [
    {
     "name": "stdout",
     "output_type": "stream",
     "text": [
      "['bear', '1', '0', '0', '1', '0', '0', '1', '1', '1', '1', '0', '0', '4', '0', '0', '1', '1']\n"
     ]
    }
   ],
   "source": [
    "animal = 'bear,1,0,0,1,0,0,1,1,1,1,0,0,4,0,0,1,1'\n",
    "print(animal.split(','))\n",
    "# ['bear', '1', '0', '0', '1', '0', '0', '1', '1', '1', '1', '0', '0', '4', '0', '0', '1', '1']"
   ]
  },
  {
   "cell_type": "markdown",
   "metadata": {},
   "source": [
    "Экранированные последовательности позволяют вставить символы, которые сложно ввести с клавиатуры. Ниже приведены несколько самых важных служебных символов и их назначений:\n",
    "\n",
    "\\n — символ переноса строки;\n",
    "\\t — символ горизонтальной табуляции;\n",
    "\\v — символ вертикальной табуляции."
   ]
  },
  {
   "cell_type": "code",
   "execution_count": 35,
   "metadata": {},
   "outputs": [
    {
     "name": "stdout",
     "output_type": "stream",
     "text": [
      "['Two roads diverged in a yellow wood,', 'And sorry I could not travel both', 'And be one traveler, long I stood', 'And looked down one as far as I could', 'To where it bent in the undergrowth.']\n"
     ]
    }
   ],
   "source": [
    "poem = '''Two roads diverged in a yellow wood,\n",
    "And sorry I could not travel both\n",
    "And be one traveler, long I stood\n",
    "And looked down one as far as I could\n",
    "To where it bent in the undergrowth.'''\n",
    "\n",
    "print(poem.split('\\n'))\n",
    "\n",
    "\n",
    "### ['Two roads diverged in a yellow wood,',\n",
    "###  'And sorry I could not travel both',\n",
    "###  'And be one traveler, long I stood',\n",
    "### 'And looked down one as far as I could',\n",
    "### 'To where it bent in the undergrowth.']"
   ]
  },
  {
   "cell_type": "code",
   "execution_count": 36,
   "metadata": {},
   "outputs": [
    {
     "name": "stdout",
     "output_type": "stream",
     "text": [
      "red and green and blue\n"
     ]
    }
   ],
   "source": [
    "colors = 'red green blue'\n",
    "colors_split = colors.split() # список цветов по отдельности\n",
    "colors_joined = ' and '.join(colors_split) # объединение строк\n",
    "print(colors_joined)\n",
    "# red and green and blue"
   ]
  },
  {
   "cell_type": "markdown",
   "metadata": {},
   "source": [
    "### Задача\n",
    "Задана переменная numbers, которая ссылается на некоторую строку, состоящую из чисел и пробелов. Пример такой строки:\n",
    "\n",
    "numbers = '1 2 3 4 5 6 7'\n",
    "\n",
    "Напишите программу, которая выводит построчно каждое число из строки numbers."
   ]
  },
  {
   "cell_type": "code",
   "execution_count": 37,
   "metadata": {},
   "outputs": [
    {
     "name": "stdout",
     "output_type": "stream",
     "text": [
      "1\n",
      "2\n",
      "3\n",
      "4\n",
      "5\n",
      "6\n",
      "7\n"
     ]
    }
   ],
   "source": [
    "numbers = '1 2 3 4 5 6 7'\n",
    "num_split = numbers.split()\n",
    "num_join = '\\n'.join(num_split)\n",
    "print(num_join)\n",
    "\n"
   ]
  },
  {
   "cell_type": "markdown",
   "metadata": {},
   "source": [
    "### Метод format()"
   ]
  },
  {
   "cell_type": "code",
   "execution_count": 39,
   "metadata": {},
   "outputs": [
    {
     "name": "stdout",
     "output_type": "stream",
     "text": [
      "The EUR currency rate on the date 10.10.2010 is 86.37\n",
      "The EUR currency rate on the date 10.10.2010 is 86.37\n"
     ]
    }
   ],
   "source": [
    "cur_date = input('Enter date: ')\n",
    "currency = input('Enter currency: ')\n",
    "rate = 86.37\n",
    "print('The', currency, 'currency rate on the date', cur_date,'is', rate)\n",
    "\n",
    "\n",
    "print('The {} currency rate on the date {} is {}'.format(currency, cur_date, rate))"
   ]
  },
  {
   "cell_type": "code",
   "execution_count": 40,
   "metadata": {},
   "outputs": [
    {
     "name": "stdout",
     "output_type": "stream",
     "text": [
      "The EUR currency rate on the date 10.10.2010 is 86.370\n"
     ]
    }
   ],
   "source": [
    "print('The {} currency rate on the date {} is {:.3f}'.format(currency, cur_date, rate))"
   ]
  },
  {
   "cell_type": "code",
   "execution_count": 41,
   "metadata": {},
   "outputs": [
    {
     "name": "stdout",
     "output_type": "stream",
     "text": [
      "The EUR currency rate on the date 10.10.2010 is 86.37\n"
     ]
    }
   ],
   "source": [
    "print('The {0} currency rate on the date {2} is {1}'.format(currency, rate, cur_date))"
   ]
  },
  {
   "cell_type": "markdown",
   "metadata": {},
   "source": [
    "### f-строки"
   ]
  },
  {
   "cell_type": "code",
   "execution_count": 42,
   "metadata": {},
   "outputs": [
    {
     "name": "stdout",
     "output_type": "stream",
     "text": [
      "The EUR currency rate on the date 10.10.2010 is 86.37\n",
      "The EUR currency rate on the date 10.10.2010 is 103.644\n"
     ]
    }
   ],
   "source": [
    "print(f'The {currency} currency rate on the date {cur_date} is {rate}')\n",
    "#The EUR currency rate on the date 20.06.2021 is 86.37\n",
    "print(f'The {currency} currency rate on the date {cur_date} is {rate*1.2}')\n",
    "#The EUR currency rate on the date 20.06.2021 is 103.644"
   ]
  },
  {
   "cell_type": "code",
   "execution_count": 43,
   "metadata": {},
   "outputs": [
    {
     "name": "stdout",
     "output_type": "stream",
     "text": [
      "The EUR currency rate on the date 10.10.2010 is 86.370\n"
     ]
    }
   ],
   "source": [
    "print(f'The {currency} currency rate on the date {cur_date} is {rate:.3f}')\n",
    "#The EUR currency rate on the date 20.06.2021 is 86.370"
   ]
  },
  {
   "cell_type": "markdown",
   "metadata": {},
   "source": [
    "### Оператор %"
   ]
  },
  {
   "cell_type": "code",
   "execution_count": 44,
   "metadata": {},
   "outputs": [
    {
     "name": "stdout",
     "output_type": "stream",
     "text": [
      "The EUR currency rate on the date 10.10.2010 is 86.37\n"
     ]
    }
   ],
   "source": [
    "print('The %s currency rate on the date %s is %.2f' % (currency, cur_date, rate))\n",
    "#The EUR currency rate on the date 20.06.2021 is 86.37"
   ]
  },
  {
   "cell_type": "markdown",
   "metadata": {},
   "source": [
    "### Задача\n",
    "Пусть информация о пользователе нашего фитнес-приложения содержится в следующих переменных:\n",
    "\n",
    "name — имя пользователя;\n",
    "dayofweek — название дня недели.\n",
    "Пример таких переменных:\n",
    "\n",
    "\n",
    "name = 'John'\n",
    "\n",
    "dayofweek = 'Friday'\n",
    "\n",
    "Напишите программу, которая выводит на экран фразу в формате:\n",
    "\n",
    "Hello, <name>! Today is <dayofweek>. Have a nice day!,\n",
    "\n",
    "где вместо <name> и <dayofweek> подставляются значения соответствующих переменных."
   ]
  },
  {
   "cell_type": "code",
   "execution_count": 45,
   "metadata": {},
   "outputs": [
    {
     "name": "stdout",
     "output_type": "stream",
     "text": [
      "Hello, John! Today is Friday. Have a nice day!\n"
     ]
    }
   ],
   "source": [
    "name = 'John'\n",
    "dayofweek = 'Friday'\n",
    "\n",
    "print('Hello, {}! Today is {}. Have a nice day!'.format(name, dayofweek))"
   ]
  },
  {
   "cell_type": "markdown",
   "metadata": {},
   "source": [
    "### Преобразование строк в числа и наоборот"
   ]
  },
  {
   "cell_type": "code",
   "execution_count": 46,
   "metadata": {},
   "outputs": [
    {
     "name": "stdout",
     "output_type": "stream",
     "text": [
      "12\n"
     ]
    }
   ],
   "source": [
    "a = int(input())\n",
    "print(a + 10) "
   ]
  },
  {
   "cell_type": "code",
   "execution_count": 47,
   "metadata": {},
   "outputs": [
    {
     "name": "stdout",
     "output_type": "stream",
     "text": [
      "144.03\n"
     ]
    }
   ],
   "source": [
    "b = float('125.13')\n",
    "c = 18.9\n",
    "print(b + c)\n",
    "# 144.03 "
   ]
  },
  {
   "cell_type": "code",
   "execution_count": 48,
   "metadata": {},
   "outputs": [
    {
     "name": "stdout",
     "output_type": "stream",
     "text": [
      "['12942021', '2491']\n"
     ]
    }
   ],
   "source": [
    "d = 12942021.24910\n",
    "d_str = str(d)\n",
    "print(d_str.split('.'))\n",
    "# ['12942021', '2491']"
   ]
  },
  {
   "cell_type": "code",
   "execution_count": 50,
   "metadata": {},
   "outputs": [
    {
     "name": "stdout",
     "output_type": "stream",
     "text": [
      "111\n"
     ]
    }
   ],
   "source": [
    "advertisement = 'Refrigerator service life: 9 years 3 months'\n",
    "advertisement_splited = advertisement.split()\n",
    "year = advertisement_splited[3]\n",
    "month = advertisement_splited[5]\n",
    "service_life = int(year) * 12 + int(month)\n",
    "print(service_life)"
   ]
  },
  {
   "cell_type": "markdown",
   "metadata": {},
   "source": [
    "### Задание\n",
    "\n",
    "В резюме соискатели указывают желаемую заработную плату. Пусть информация о ней находится в переменной salary в формате: '<заработная плата>  руб.'\n",
    "\n",
    "Гарантируется, что структура текста не изменяется. Примеры возможных значений переменной:\n",
    "\n",
    "\n",
    "salary = '29000 руб.'\n",
    "salary = '35000 руб.'\n",
    "salary = '128500 руб.'\n",
    "Ваша задача — превратить строку с заработной платой и указанием валюты в численное представление заработной платы. Напишите программу, которая выполняет следующие действия:\n",
    "\n",
    "разделяет строку salary на части (символ по которому стоит производить разбиение выберите самостоятельно);\n",
    "сохраняет в переменную salary_number значение заработной платы, выраженной в тысячах рублей.\n",
    "Например, если переменная salary задана следующим образом: salary = '128500 руб.', то в переменной salary_number должно содержаться число 128.5."
   ]
  },
  {
   "cell_type": "code",
   "execution_count": 52,
   "metadata": {},
   "outputs": [
    {
     "name": "stdout",
     "output_type": "stream",
     "text": [
      "0.029\n"
     ]
    }
   ],
   "source": [
    "salary = '29000 руб.'\n",
    "#salary = '35000 руб.'\n",
    "#salary = '128500 руб.'\n",
    "\n",
    "\n",
    "salary_number=float(int(salary.split()[0])/1000)\n",
    "print(float(salary_number/1000))"
   ]
  },
  {
   "cell_type": "markdown",
   "metadata": {},
   "source": [
    "### Задание\n",
    "\n",
    "Теперь разберёмся с опытом работы.\n",
    "\n",
    "Пусть текст с описанием опыта работы хранится в переменной experience и строится по такому шаблону: 'Work experience <количество месяцев> months'\n",
    "\n",
    "Гарантируется, что структура текста не изменяется. Примеры возможных значений переменной:\n",
    "\n",
    "\n",
    "experience = 'Work experience 202 months'\n",
    "experience = 'Work experience 60 months'\n",
    "experience = 'Work experience 3 months'\n",
    "Ваша задача — разделить информацию об опыте работы на составляющие: количество полных лет опыта работы и количество месяцев опыта работы.\n",
    "\n",
    "Напишите программу, которая выполняет следующие действия:\n",
    "\n",
    "разделяет строку experience на части (символ, по которому стоит производить разбиение выберите самостоятельно);\n",
    "сохраняет в переменную experience_year информацию о количестве полных лет опыта работы;\n",
    "сохраняет в переменную experience_month информацию о количестве месяцев работы (в неполном году).\n",
    "Например, если переменная experience задана следующим образом: experience = 'Work experience 202 months', то в переменных experience_year и experience_month должны содержаться целые числа 16 и 10 (из расчёта 16 * 12 + 10 = 202)."
   ]
  },
  {
   "cell_type": "code",
   "execution_count": 53,
   "metadata": {},
   "outputs": [
    {
     "name": "stdout",
     "output_type": "stream",
     "text": [
      "16\n",
      "10\n"
     ]
    }
   ],
   "source": [
    "# Входные данные\n",
    "experience = 'Work experience 202 months'\n",
    "\n",
    "# Значения переменных:\n",
    "# experience_year = 16\n",
    "# experience_month = 10\n",
    "\n",
    "\n",
    "experience_year=int(experience.split()[2])//12\n",
    "experience_month=int(experience.split()[2])%12\n",
    "\n",
    "print(experience_year)\n",
    "print(experience_month)"
   ]
  },
  {
   "cell_type": "markdown",
   "metadata": {},
   "source": [
    "### Задание\n",
    "\n",
    "В каждом резюме обязательно заполняется графа «пол, возраст». Пусть информация о поле и возрасте хранится в переменной description и строится по такому шаблону (обратите внимание на пробелы слева и справа от запятой): '<Пол> , <возраст> year old , born on <дата рождения> , <год рождения>.'\n",
    "\n",
    "Гарантируется, что структура текста не изменяется. Примеры возможных значений переменной:\n",
    "\n",
    "description = 'Male , 39 years old , born on November 27 , 1979'\n",
    "description = 'Woman , 36 years old , born on August 12 , 1982'\n",
    "description = 'Male , 38 years old , born on June 25 , 1980'\n",
    "Ваша задача — разделить информацию о поле и возрасте соискателя на компоненты. Напишите программу, которая выполняет следующие действия:\n",
    "\n",
    "Разделяет строку description на части (символ или символы, по котором стоит производить разбиение, выберите самостоятельно) и сохраните результат в переменную description_split;\n",
    "Сохраняет в переменную gender информацию о поле соискателя (приведённое к нижнему регистру);\n",
    "Сохраняет в переменную age информацию о том, сколько полных лет соискателю;\n",
    "Сохраняет в переменную year_of_birth информацию о годе рождения соискателя.\n",
    "Например, если переменная example задана следующим образом: example = 'Male , 39 years old , born on November 27 , 1979', то в переменных gender, age и year_of_birth должны содержаться строки 'male', '39' и '1979' соответственно."
   ]
  },
  {
   "cell_type": "code",
   "execution_count": 56,
   "metadata": {},
   "outputs": [
    {
     "name": "stdout",
     "output_type": "stream",
     "text": [
      "['Male', '39 years old', 'born on November 27', '1979']\n",
      "male 39 1979\n"
     ]
    }
   ],
   "source": [
    "# Входные данные\n",
    "description = 'Male , 39 years old , born on November 27 , 1979'\n",
    "\n",
    "# Значения переменных:\n",
    "# gender = 'male'\n",
    "# age = '39'\n",
    "# year_of_birth = '1979'\n",
    "\n",
    "\n",
    "description_splited = description.split(' , ')\n",
    "print(description_splited)\n",
    "gender = description_splited[0].lower()\n",
    "age = description_splited[1].split()[0]\n",
    "year_of_birth = description_splited[3]\n",
    "print(gender, age, year_of_birth )\n",
    "\n"
   ]
  }
 ],
 "metadata": {
  "kernelspec": {
   "display_name": "Python 3",
   "language": "python",
   "name": "python3"
  },
  "language_info": {
   "codemirror_mode": {
    "name": "ipython",
    "version": 3
   },
   "file_extension": ".py",
   "mimetype": "text/x-python",
   "name": "python",
   "nbconvert_exporter": "python",
   "pygments_lexer": "ipython3",
   "version": "3.12.0"
  }
 },
 "nbformat": 4,
 "nbformat_minor": 2
}
