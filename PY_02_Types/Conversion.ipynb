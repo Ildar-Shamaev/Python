{
 "cells": [
  {
   "cell_type": "markdown",
   "metadata": {},
   "source": [
    "# Преобразование чисел между собой"
   ]
  },
  {
   "cell_type": "markdown",
   "metadata": {},
   "source": [
    "### Целые числа в числа с плавающей точкой "
   ]
  },
  {
   "cell_type": "code",
   "execution_count": 1,
   "metadata": {},
   "outputs": [
    {
     "data": {
      "text/plain": [
       "10.0"
      ]
     },
     "execution_count": 1,
     "metadata": {},
     "output_type": "execute_result"
    }
   ],
   "source": [
    "int_var = 10\n",
    "# присвоим переменной int_var целое число — 10.\n",
    "float_var = float(10)\n",
    "# запишем в переменную float_var преобразованное в вещественное целое число 10.\n",
    "int_var \n",
    "# 10\n",
    "float_var \n",
    "# 10.0"
   ]
  },
  {
   "cell_type": "code",
   "execution_count": 2,
   "metadata": {},
   "outputs": [
    {
     "data": {
      "text/plain": [
       "15.2"
      ]
     },
     "execution_count": 2,
     "metadata": {},
     "output_type": "execute_result"
    }
   ],
   "source": [
    "float_var1 = 10.2\n",
    "# запишем в переменную float_var1 вещественное число\n",
    "float_var2 = float(5)\n",
    "# запишем в переменную float_var2 преобразованное в вещественное число 5\n",
    "\n",
    "float_var1 + float_var2 "
   ]
  },
  {
   "cell_type": "code",
   "execution_count": 3,
   "metadata": {},
   "outputs": [
    {
     "data": {
      "text/plain": [
       "15.2"
      ]
     },
     "execution_count": 3,
     "metadata": {},
     "output_type": "execute_result"
    }
   ],
   "source": [
    "float_var1 = 10.2\n",
    "# запишем в переменную float_var1 вещественное число\n",
    "int_var2 = 5\n",
    "# присвоим переменной int_var2 целое число — 5.\n",
    "float_var1 + int_var2 "
   ]
  },
  {
   "cell_type": "markdown",
   "metadata": {},
   "source": [
    "### Числа с плавающей точкой в целые числа "
   ]
  },
  {
   "cell_type": "code",
   "execution_count": 4,
   "metadata": {},
   "outputs": [
    {
     "data": {
      "text/plain": [
       "7"
      ]
     },
     "execution_count": 4,
     "metadata": {},
     "output_type": "execute_result"
    }
   ],
   "source": [
    "float_var = 7.5\n",
    "# запишем в переменную float_var вещественное число\n",
    "int_var = int(7.5)\n",
    "# запишем в переменную int_var преобразованное в целое число число 7.5\n",
    "int_var "
   ]
  },
  {
   "cell_type": "markdown",
   "metadata": {},
   "source": [
    "### Преобразование чисел в строки"
   ]
  },
  {
   "cell_type": "code",
   "execution_count": 6,
   "metadata": {},
   "outputs": [
    {
     "data": {
      "text/plain": [
       "'5'"
      ]
     },
     "execution_count": 6,
     "metadata": {},
     "output_type": "execute_result"
    }
   ],
   "source": [
    "int_var = 5\n",
    "str_var = str(int_var)\n",
    "str_var"
   ]
  },
  {
   "cell_type": "code",
   "execution_count": 7,
   "metadata": {},
   "outputs": [
    {
     "name": "stdout",
     "output_type": "stream",
     "text": [
      "I am10years old\n"
     ]
    }
   ],
   "source": [
    "str_var1 = \"I am\"\n",
    "# создали строковую переменную str_var1\n",
    "int_var = 10\n",
    "# затем переменную int_var с целым числом в значении\n",
    "str_var2 = \"years old\"\n",
    "# ещё одна строковая переменная str_var2\n",
    "print(str_var1 + str(int_var) + str_var2 )"
   ]
  },
  {
   "cell_type": "markdown",
   "metadata": {},
   "source": [
    "### Преобразование строк в числа"
   ]
  },
  {
   "cell_type": "code",
   "execution_count": 9,
   "metadata": {},
   "outputs": [
    {
     "data": {
      "text/plain": [
       "33.0"
      ]
     },
     "execution_count": 9,
     "metadata": {},
     "output_type": "execute_result"
    }
   ],
   "source": [
    "mom_date = \"1957\"\n",
    "my_date = \"1990.0\"\n",
    "int_mom_date = int(mom_date)\n",
    "float_my_date =  float(my_date)\n",
    "float_my_date - int_mom_date "
   ]
  },
  {
   "cell_type": "markdown",
   "metadata": {},
   "source": [
    "### Преобразование в кортежи и списки"
   ]
  },
  {
   "cell_type": "code",
   "execution_count": 10,
   "metadata": {},
   "outputs": [
    {
     "data": {
      "text/plain": [
       "dict_keys(['Anne', 'Sam', 'Marie'])"
      ]
     },
     "execution_count": 10,
     "metadata": {},
     "output_type": "execute_result"
    }
   ],
   "source": [
    "dictionary = {\"Anne\": 15, \"Sam\": 30, \"Marie\": 22}\n",
    "only_keys = dictionary.keys()\n",
    "only_keys"
   ]
  },
  {
   "cell_type": "code",
   "execution_count": 11,
   "metadata": {},
   "outputs": [
    {
     "name": "stdout",
     "output_type": "stream",
     "text": [
      "['Anne', 'Sam', 'Marie', 'Tom', 'Curt']\n"
     ]
    }
   ],
   "source": [
    "only_keys = list(only_keys)\n",
    "only_keys = only_keys + [\"Tom\", \"Curt\"]\n",
    "print(only_keys)"
   ]
  },
  {
   "cell_type": "code",
   "execution_count": 12,
   "metadata": {},
   "outputs": [
    {
     "data": {
      "text/plain": [
       "{('Amanda', 22, 'NY'): '3rd place', ('Collin', 23, 'LA'): '2nd place'}"
      ]
     },
     "execution_count": 12,
     "metadata": {},
     "output_type": "execute_result"
    }
   ],
   "source": [
    "d = {(\"Amanda\", 22, \"NY\"): \"3rd place\"}\n",
    "\n",
    "input_list = [\"Collin\", 23, \"LA\"]\n",
    "# создаём новый ключ для словаря. Но пока этот ключ в виде списка.\n",
    "input_place = \"2nd place\"\n",
    "# также определяем значение для нового ключа.\n",
    "\n",
    "input_list_as_tuple = tuple(input_list)\n",
    "# преобразуем список в кортеж через конструктор типов tuple()\n",
    "\n",
    "d[input_list_as_tuple] = input_place\n",
    "# добавляем новый ключ и значение в словарь и выводим результат\n",
    "d "
   ]
  }
 ],
 "metadata": {
  "kernelspec": {
   "display_name": "Python 3",
   "language": "python",
   "name": "python3"
  },
  "language_info": {
   "codemirror_mode": {
    "name": "ipython",
    "version": 3
   },
   "file_extension": ".py",
   "mimetype": "text/x-python",
   "name": "python",
   "nbconvert_exporter": "python",
   "pygments_lexer": "ipython3",
   "version": "3.12.0"
  }
 },
 "nbformat": 4,
 "nbformat_minor": 2
}
