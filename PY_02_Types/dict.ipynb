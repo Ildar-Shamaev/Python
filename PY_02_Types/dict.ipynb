{
 "cells": [
  {
   "cell_type": "markdown",
   "metadata": {},
   "source": [
    "# Словарь"
   ]
  },
  {
   "cell_type": "code",
   "execution_count": 22,
   "metadata": {},
   "outputs": [
    {
     "data": {
      "text/plain": [
       "{}"
      ]
     },
     "execution_count": 22,
     "metadata": {},
     "output_type": "execute_result"
    }
   ],
   "source": [
    "my_dict = dict() \n",
    "my_dict\n",
    "# {}"
   ]
  },
  {
   "cell_type": "code",
   "execution_count": 23,
   "metadata": {},
   "outputs": [
    {
     "data": {
      "text/plain": [
       "{}"
      ]
     },
     "execution_count": 23,
     "metadata": {},
     "output_type": "execute_result"
    }
   ],
   "source": [
    "my_dict = {} \n",
    "my_dict\n",
    "# {}"
   ]
  },
  {
   "cell_type": "code",
   "execution_count": 24,
   "metadata": {},
   "outputs": [
    {
     "data": {
      "text/plain": [
       "'Ekaterina Dmitrieva'"
      ]
     },
     "execution_count": 24,
     "metadata": {},
     "output_type": "execute_result"
    }
   ],
   "source": [
    "phones = {'+79033923029': 'Ivan Ivanov', '+78125849204': 'Kirill Smirnov', '+79053049385': 'Mark Parkhomenko', '+79265748370': 'Ekaterina Dmitrieva', '+79030598495': 'Ruslan Belyi'}\n",
    "phones[\"+79265748370\"] # Ekaterina Dmitrieva"
   ]
  },
  {
   "cell_type": "markdown",
   "metadata": {},
   "source": [
    "Так же можно поступить с элементами, которых ещё нет в словаре. Например, у нас появился новый знакомый, и мы хотим внести его телефон в наш словарь. Тогда можно проделать ту же операцию, что мы делали выше:"
   ]
  },
  {
   "cell_type": "code",
   "execution_count": 25,
   "metadata": {},
   "outputs": [],
   "source": [
    "phones[\"+79686581788\"]  = 'Artem Pliev'"
   ]
  },
  {
   "cell_type": "code",
   "execution_count": 26,
   "metadata": {},
   "outputs": [
    {
     "data": {
      "text/plain": [
       "{'+79033923029': 'Ivan Ivanov',\n",
       " '+78125849204': 'Kirill Smirnov',\n",
       " '+79053049385': 'Mark Parkhomenko',\n",
       " '+79265748370': 'Ekaterina Dmitrieva',\n",
       " '+79030598495': 'Ruslan Belyi',\n",
       " '+79686581788': 'Artem Pliev'}"
      ]
     },
     "execution_count": 26,
     "metadata": {},
     "output_type": "execute_result"
    }
   ],
   "source": [
    "phones"
   ]
  },
  {
   "cell_type": "markdown",
   "metadata": {},
   "source": [
    "***"
   ]
  },
  {
   "cell_type": "markdown",
   "metadata": {},
   "source": [
    "### .clear()"
   ]
  },
  {
   "cell_type": "code",
   "execution_count": 27,
   "metadata": {},
   "outputs": [
    {
     "data": {
      "text/plain": [
       "{}"
      ]
     },
     "execution_count": 27,
     "metadata": {},
     "output_type": "execute_result"
    }
   ],
   "source": [
    "friends = {\"Kolya\": 180, \"Marina\": 176, \"Misha\": 158, \"Dima\": 201, \"Yana\": 183, \"Nina\": 156}\n",
    "friends.clear()\n",
    "friends "
   ]
  },
  {
   "cell_type": "markdown",
   "metadata": {},
   "source": [
    "***"
   ]
  },
  {
   "cell_type": "markdown",
   "metadata": {},
   "source": [
    "### keys()"
   ]
  },
  {
   "cell_type": "code",
   "execution_count": 28,
   "metadata": {},
   "outputs": [
    {
     "data": {
      "text/plain": [
       "dict_keys(['Kolya', 'Marina', 'Misha', 'Dima', 'Yana', 'Nina'])"
      ]
     },
     "execution_count": 28,
     "metadata": {},
     "output_type": "execute_result"
    }
   ],
   "source": [
    "friends = {\"Kolya\": 180, \"Marina\": 176, \"Misha\": 158, \"Dima\": 201, \"Yana\": 183, \"Nina\": 156}\n",
    "friends.keys() "
   ]
  },
  {
   "cell_type": "markdown",
   "metadata": {},
   "source": [
    "***"
   ]
  },
  {
   "cell_type": "markdown",
   "metadata": {},
   "source": [
    "### .values()"
   ]
  },
  {
   "cell_type": "code",
   "execution_count": 29,
   "metadata": {},
   "outputs": [
    {
     "data": {
      "text/plain": [
       "dict_values([180, 176, 158, 201, 183, 156])"
      ]
     },
     "execution_count": 29,
     "metadata": {},
     "output_type": "execute_result"
    }
   ],
   "source": [
    "friends.values() "
   ]
  },
  {
   "cell_type": "markdown",
   "metadata": {},
   "source": [
    "***"
   ]
  },
  {
   "cell_type": "markdown",
   "metadata": {},
   "source": [
    "### .get()"
   ]
  },
  {
   "cell_type": "markdown",
   "metadata": {},
   "source": [
    "Ещё один часто используемый метод в словарях. По сути, это «умная» замена обычному обращению по ключу через квадратные скобки. Почему «умная»? Если использовать только квадратные скобки при обращении к словарю, то при отсутствии нужного ключа программа выдаст ошибку и закончит работу.\n",
    "\n",
    "В случае с .get() программа продолжит работать, но вернёт константу None — единственного представителя типа NoneType, который показывает, что значения нет, оно пусто."
   ]
  },
  {
   "cell_type": "code",
   "execution_count": 30,
   "metadata": {},
   "outputs": [
    {
     "data": {
      "text/plain": [
       "100"
      ]
     },
     "execution_count": 30,
     "metadata": {},
     "output_type": "execute_result"
    }
   ],
   "source": [
    "friends.get(\"Matvey\", \"I don't have a friend with such a name.\") \n",
    "# \"I don't have a friend with such a name.\"\n",
    "\n",
    "friends.get(\"Matvey\", 100) # 100"
   ]
  },
  {
   "cell_type": "markdown",
   "metadata": {},
   "source": [
    "***"
   ]
  },
  {
   "cell_type": "markdown",
   "metadata": {},
   "source": [
    "### .update()"
   ]
  },
  {
   "cell_type": "markdown",
   "metadata": {},
   "source": [
    "Ваше окружение растёт — вы заводите новых друзей. И, конечно, вы можете добавлять всех последовательно через операцию записи по ключу (квадратные скобки и присваивание). Но что, если хочется добавить сразу нескольких людей? Тогда поможет метод .update()."
   ]
  },
  {
   "cell_type": "code",
   "execution_count": 31,
   "metadata": {},
   "outputs": [
    {
     "data": {
      "text/plain": [
       "{'Kolya': 180,\n",
       " 'Marina': 176,\n",
       " 'Misha': 158,\n",
       " 'Dima': 201,\n",
       " 'Yana': 183,\n",
       " 'Nina': 156,\n",
       " 'Stas': 171,\n",
       " 'Nastya': 163}"
      ]
     },
     "execution_count": 31,
     "metadata": {},
     "output_type": "execute_result"
    }
   ],
   "source": [
    "friends.update({\"Stas\":171, \"Nastya\": 163})\n",
    "friends "
   ]
  },
  {
   "cell_type": "code",
   "execution_count": 32,
   "metadata": {},
   "outputs": [
    {
     "data": {
      "text/plain": [
       "{'Kolya': 180,\n",
       " 'Marina': 176,\n",
       " 'Misha': 158,\n",
       " 'Dima': 201,\n",
       " 'Yana': 183,\n",
       " 'Nina': 156,\n",
       " 'Stas': 183,\n",
       " 'Nastya': 163}"
      ]
     },
     "execution_count": 32,
     "metadata": {},
     "output_type": "execute_result"
    }
   ],
   "source": [
    "friends.update({\"Stas\":183})\n",
    "friends "
   ]
  },
  {
   "cell_type": "markdown",
   "metadata": {},
   "source": [
    "***"
   ]
  },
  {
   "cell_type": "markdown",
   "metadata": {},
   "source": [
    "### .pop()"
   ]
  },
  {
   "cell_type": "markdown",
   "metadata": {},
   "source": [
    "Так же, как и в списке, в словаре метод .pop() удаляет из структуры данных элементы, но дополнительно метод возвращает результат — удалённый элемент. В словаре в этот метод мы передаём ключ. Из словаря удаляются и ключ, и значение, соответствующее этому ключу. Метод изменяет первоначальный словарь, а его результат (удалённый элемент) можно записать в переменную, чтобы в дальнейшем использовать в программе.\n",
    "\n"
   ]
  },
  {
   "cell_type": "code",
   "execution_count": 33,
   "metadata": {},
   "outputs": [
    {
     "data": {
      "text/plain": [
       "{'Kolya': 180,\n",
       " 'Marina': 176,\n",
       " 'Dima': 201,\n",
       " 'Yana': 183,\n",
       " 'Nina': 156,\n",
       " 'Stas': 183,\n",
       " 'Nastya': 163}"
      ]
     },
     "execution_count": 33,
     "metadata": {},
     "output_type": "execute_result"
    }
   ],
   "source": [
    "best_friend_height = friends.pop(\"Misha\")\n",
    "friends "
   ]
  },
  {
   "cell_type": "code",
   "execution_count": 34,
   "metadata": {},
   "outputs": [
    {
     "data": {
      "text/plain": [
       "158"
      ]
     },
     "execution_count": 34,
     "metadata": {},
     "output_type": "execute_result"
    }
   ],
   "source": [
    "best_friend_height"
   ]
  },
  {
   "cell_type": "markdown",
   "metadata": {},
   "source": [
    "В примере выше мы удалили из словаря friends ключ \"Misha\", а также значение, которое хранилось по этому ключу. Результат работы метода .pop() (удалённое по ключу значение) мы записали в переменную best_friend_height (рост Миши — 158)."
   ]
  },
  {
   "cell_type": "markdown",
   "metadata": {},
   "source": [
    "***"
   ]
  },
  {
   "cell_type": "markdown",
   "metadata": {},
   "source": [
    "### .setdefault()"
   ]
  },
  {
   "cell_type": "markdown",
   "metadata": {},
   "source": [
    "Часто эта конструкция используется в циклах и условных операциях, о которых вы узнаете дальше в задачах добавления и обновления элементов словаря.\n",
    "\n",
    "Например, вы хотите обновить рост друга в существующем словаре, но не уверены, что он там действительно есть (мало ли, вдруг вы забыли его добавить, отвлекаясь на какие-то повседневные дела).\n",
    "\n",
    "В таком случае можно воспользоваться методом .setdefault(). Он принимает два параметра: ключ и значение по умолчанию, если этого ключа нет в словаре. Этот метод создаст ключ за вас, если он действительно отсутствует, если ключ имеется, его значение останется неизменным:"
   ]
  },
  {
   "cell_type": "code",
   "execution_count": 35,
   "metadata": {},
   "outputs": [
    {
     "data": {
      "text/plain": [
       "163"
      ]
     },
     "execution_count": 35,
     "metadata": {},
     "output_type": "execute_result"
    }
   ],
   "source": [
    "friends = {\"Kolya\": 180, \"Marina\": 176, \"Dima\": 201, \"Yana\": 183, \"Nina\": 156, \"Stas\": 183, \"Nastya\": 163}\n",
    "friends.setdefault(\"Nastya\", 100)\n",
    "friends[\"Nastya\"] "
   ]
  },
  {
   "cell_type": "code",
   "execution_count": 36,
   "metadata": {},
   "outputs": [
    {
     "data": {
      "text/plain": [
       "dict_keys(['Kolya', 'Marina', 'Dima', 'Yana', 'Nina', 'Stas', 'Nastya'])"
      ]
     },
     "execution_count": 36,
     "metadata": {},
     "output_type": "execute_result"
    }
   ],
   "source": [
    "friends.keys() "
   ]
  },
  {
   "cell_type": "code",
   "execution_count": 37,
   "metadata": {},
   "outputs": [
    {
     "data": {
      "text/plain": [
       "dict_keys(['Kolya', 'Marina', 'Dima', 'Yana', 'Nina', 'Stas', 'Nastya', 'Alena'])"
      ]
     },
     "execution_count": 37,
     "metadata": {},
     "output_type": "execute_result"
    }
   ],
   "source": [
    "friends.setdefault(\"Alena\", 170)\n",
    "friends.keys() "
   ]
  }
 ],
 "metadata": {
  "kernelspec": {
   "display_name": "Python 3",
   "language": "python",
   "name": "python3"
  },
  "language_info": {
   "codemirror_mode": {
    "name": "ipython",
    "version": 3
   },
   "file_extension": ".py",
   "mimetype": "text/x-python",
   "name": "python",
   "nbconvert_exporter": "python",
   "pygments_lexer": "ipython3",
   "version": "3.12.0"
  }
 },
 "nbformat": 4,
 "nbformat_minor": 2
}
