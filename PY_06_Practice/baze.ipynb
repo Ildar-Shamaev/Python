{
 "cells": [
  {
   "cell_type": "markdown",
   "metadata": {},
   "source": [
    "## Практика по основам Python "
   ]
  },
  {
   "cell_type": "markdown",
   "metadata": {},
   "source": [
    "### Задание"
   ]
  },
  {
   "cell_type": "markdown",
   "metadata": {},
   "source": [
    "Дана строка python_string.\n",
    "\n",
    "Посчитайте количество символов в этой строке и возведите получившееся число в третью степень. Результат запишите в переменную result."
   ]
  },
  {
   "cell_type": "code",
   "execution_count": 1,
   "metadata": {},
   "outputs": [
    {
     "data": {
      "text/plain": [
       "250047"
      ]
     },
     "execution_count": 1,
     "metadata": {},
     "output_type": "execute_result"
    }
   ],
   "source": [
    "python_string = 'Hello! My name is Python. I will help you to analyze some data.'\n",
    "\n",
    "x=len(python_string)\n",
    "result=x**3\n",
    "result"
   ]
  },
  {
   "cell_type": "markdown",
   "metadata": {},
   "source": [
    "***"
   ]
  },
  {
   "cell_type": "markdown",
   "metadata": {},
   "source": [
    "### Задание"
   ]
  },
  {
   "cell_type": "markdown",
   "metadata": {},
   "source": [
    "Представим, что мы разрабатываем алгоритм прогнозирования времени доставки еды. Наш алгоритм принимает на вход информацию о географических координатах клиента, расположении ресторана, загруженности на дорогах и так далее. Выходом алгоритма является примерное время в минутах, которое необходимо курьеру на доставку.\n",
    "\n",
    "Мы хотим проверить адекватность работы алгоритма — для этого будем измерять разницу (ошибку) между спрогнозированным и реальным временем доставки. Условимся, что знак ошибки (в меньшую или большую сторону мы ошибаемся) нас не интересует — нужно только абсолютное значение.\n",
    "\n",
    "Прогнозируемое время доставки хранится в переменной predicted_time, реальное время — в переменной real_time.\n",
    "\n",
    "Найдите модуль разницы между предсказанным и истинным значениями времени, результат округлите до целого и сохраните в переменную absolute_error."
   ]
  },
  {
   "cell_type": "code",
   "execution_count": 2,
   "metadata": {},
   "outputs": [
    {
     "data": {
      "text/plain": [
       "7"
      ]
     },
     "execution_count": 2,
     "metadata": {},
     "output_type": "execute_result"
    }
   ],
   "source": [
    "predicted_time = 67.321\n",
    "real_time = 59.839\n",
    "\n",
    "absolute_error=round(abs(predicted_time-real_time))\n",
    "absolute_error\n"
   ]
  },
  {
   "cell_type": "markdown",
   "metadata": {},
   "source": [
    "***"
   ]
  },
  {
   "cell_type": "markdown",
   "metadata": {},
   "source": [
    "### Задание\n",
    "\n",
    "Дана строка input_string. Избавьтесь от знаков препинания в ней и напишите программу для подсчёта количества слов в этой строке. Программа должна записывать результат в переменную count_words.\n",
    "\n",
    "Гарантируется, что из знаков препинания в строке input_string могут содержаться только точки ('.'), запятые (','), восклицательные ('!') и вопросительные ('?') знаки."
   ]
  },
  {
   "cell_type": "code",
   "execution_count": 3,
   "metadata": {},
   "outputs": [
    {
     "data": {
      "text/plain": [
       "13"
      ]
     },
     "execution_count": 3,
     "metadata": {},
     "output_type": "execute_result"
    }
   ],
   "source": [
    "input_string = 'Hello! My name is Python. I will help you to analyze some data.'\n",
    "\n",
    "symbols=['!', '.', '?', ',']\n",
    "count_words=1\n",
    "for i in input_string:\n",
    "  if i in symbols:\n",
    "    new_string=input_string.replace(i, '')\n",
    "for i in new_string:\n",
    "  if i == ' ':\n",
    "    count_words+=1\n",
    "count_words"
   ]
  },
  {
   "cell_type": "markdown",
   "metadata": {},
   "source": [
    "***"
   ]
  },
  {
   "cell_type": "markdown",
   "metadata": {},
   "source": [
    "### Задание\n",
    "\n",
    "Мы обучаем нейронную сеть классифицировать изображения. Для обучения необходимо узнать формат файла с изображением: JPG/PNG/GIF и т. д. Это связано с тем, что от формата входных данных зависит процесс предобработки изображений (например, GIF-изображение необходимо предварительно разложить на кадры).\n",
    "\n",
    "В переменной file_path задан полный путь до файла с изображением. Найдите его расширение, результат занесите в переменную file_extension.\n",
    "\n",
    "Также найдите имя файла (без учёта расширения), результат занесите в переменную file_name.\n",
    "\n",
    "Гарантируется, что разделителем между папками при указании пути является символ '/'."
   ]
  },
  {
   "cell_type": "code",
   "execution_count": 6,
   "metadata": {},
   "outputs": [
    {
     "name": "stdout",
     "output_type": "stream",
     "text": [
      "10394\n",
      "jpg\n"
     ]
    }
   ],
   "source": [
    "file_path = 'data/images/train/10394.jpg'\n",
    "\n",
    "file_n=''\n",
    "file_extension=''\n",
    "key_n=0\n",
    "key_e=0\n",
    "\n",
    "for i in file_path:\n",
    "  if key_n==1:\n",
    "    file_n+=i\n",
    "  if key_e==1:\n",
    "    file_extension+=i\n",
    "  if i == '/':\n",
    "    key_n=1\n",
    "  if i == '/' and key_n==1:\n",
    "    file_n=''\n",
    "  if i == '.':\n",
    "    key_e=1\n",
    "    key_n=0\n",
    "file_name=file_n[:-1]\n",
    "\n",
    "print(file_name)\n",
    "print(file_extension)"
   ]
  },
  {
   "cell_type": "markdown",
   "metadata": {},
   "source": [
    "***"
   ]
  },
  {
   "cell_type": "markdown",
   "metadata": {},
   "source": [
    "### Задание\n",
    "\n",
    "Предположим, мы обучили нейронную сеть генерировать текст (предложения), однако на этапе тестирования выяснилось, что мы допустили ошибку при обучении и слова генерируются в неправильной последовательности — справа налево, а не слева направо.\n",
    "\n",
    "Ошибку мы нашли, однако оказалось, что переобучать модель очень долго и дорого. Поэтому мы решили вручную разворачивать сгенерированный текст на этапе постобработки. Он хранится в переменной generated_text в виде строки.\n",
    "\n",
    "Создайте новую строку updated_text, в которой слова будут храниться в обратном порядке.\n",
    "\n",
    "Для простоты гарантируется, что в предложениях, сгенерированных моделью, нет знаков препинания и весь текст представлен в нижнем регистре."
   ]
  },
  {
   "cell_type": "code",
   "execution_count": 7,
   "metadata": {},
   "outputs": [
    {
     "data": {
      "text/plain": [
       "'скажи что-нибудь попросила она и он поднял на нее глаза '"
      ]
     },
     "execution_count": 7,
     "metadata": {},
     "output_type": "execute_result"
    }
   ],
   "source": [
    "generated_text = \"глаза нее на поднял он и она попросила что-нибудь скажи\"\n",
    "\n",
    "updated_text=''\n",
    "word=''\n",
    "count=0\n",
    "for i in generated_text:\n",
    "  word+=i\n",
    "  count+=1\n",
    "  if i == ' ':\n",
    "    updated_text=word + updated_text\n",
    "    word=''\n",
    "  if count == len(generated_text):\n",
    "    updated_text=word +' ' + updated_text\n",
    "    \n",
    "updated_text"
   ]
  },
  {
   "cell_type": "markdown",
   "metadata": {},
   "source": [
    "***"
   ]
  },
  {
   "cell_type": "markdown",
   "metadata": {},
   "source": [
    "### Задание\n",
    "\n",
    "В приложении, которое мы разрабатываем, предусмотрена функция смены пароля. Нам необходимо записывать в базу данных событий информацию о том, что пользователь сменил пароль.\n",
    "\n",
    "Напишите функцию change_password(), которая должна возвращать отформатированную строку в следующем виде: \"Пользователь {user_name} сменил пароль на {new_password}\".\n",
    "\n",
    "Здесь:\n",
    "\n",
    "user_name — имя пользователя,\n",
    "new_password — новый пароль.\n",
    "Мы уже сделали заготовку функции — вам осталось только задать строку. Переменные user_name и new_password являются аргументами функции change_password().\n",
    "\n",
    "Запишите форматированную строку вместо знаков вопроса."
   ]
  },
  {
   "cell_type": "code",
   "execution_count": 8,
   "metadata": {},
   "outputs": [
    {
     "name": "stdout",
     "output_type": "stream",
     "text": [
      "Пользователь Andrey сменил пароль на 31andrey12QK\n"
     ]
    }
   ],
   "source": [
    "def change_password(user_name, new_password): \n",
    "  x=\"Пользователь {} сменил пароль на {}\".format(user_name, new_password)\n",
    "  return x\n",
    "\n",
    "print(change_password('Andrey', '31andrey12QK'))"
   ]
  }
 ],
 "metadata": {
  "kernelspec": {
   "display_name": "Python 3",
   "language": "python",
   "name": "python3"
  },
  "language_info": {
   "codemirror_mode": {
    "name": "ipython",
    "version": 3
   },
   "file_extension": ".py",
   "mimetype": "text/x-python",
   "name": "python",
   "nbconvert_exporter": "python",
   "pygments_lexer": "ipython3",
   "version": "3.12.0"
  }
 },
 "nbformat": 4,
 "nbformat_minor": 2
}
