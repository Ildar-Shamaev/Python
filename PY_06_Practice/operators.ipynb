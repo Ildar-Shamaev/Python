{
 "cells": [
  {
   "cell_type": "markdown",
   "metadata": {},
   "source": [
    "## Практика по условным операторам"
   ]
  },
  {
   "cell_type": "markdown",
   "metadata": {},
   "source": [
    "### Задание\n",
    "\n",
    "Напишите функцию check_number_sign(), которая возвращает 1, если число положительное, -1 — если число отрицательное, и 0 — если число равно 0.\n",
    "\n",
    "Функция принимает на вход одно число number.\n",
    "\n",
    "Используйте в коде конструкцию if-elif-else."
   ]
  },
  {
   "cell_type": "code",
   "execution_count": 1,
   "metadata": {},
   "outputs": [
    {
     "name": "stdout",
     "output_type": "stream",
     "text": [
      "1\n",
      "-1\n",
      "0\n"
     ]
    }
   ],
   "source": [
    "def check_number_sign(number):\n",
    "  if number>0:\n",
    "    return 1\n",
    "  elif number<0:\n",
    "    return -1\n",
    "  else: \n",
    "    return 0\n",
    "\n",
    "print(check_number_sign(5290))\n",
    "# 1\n",
    "print(check_number_sign(-983))\n",
    "# - 1\n",
    "print(check_number_sign(0))\n",
    "# 0"
   ]
  },
  {
   "cell_type": "markdown",
   "metadata": {},
   "source": [
    "***"
   ]
  },
  {
   "cell_type": "markdown",
   "metadata": {},
   "source": [
    "### Задание\n",
    "\n",
    "Напишите функцию find_min_number(), которая принимает на вход три числа (a, b, c) и возвращает наименьшее из них.\n",
    "\n",
    "Для решения задачи не используйте встроенную функцию min() — реализуйте алгоритм самостоятельно, воспользовавшись условными операторами."
   ]
  },
  {
   "cell_type": "code",
   "execution_count": 2,
   "metadata": {},
   "outputs": [
    {
     "name": "stdout",
     "output_type": "stream",
     "text": [
      "19\n",
      "10.9\n"
     ]
    }
   ],
   "source": [
    "def find_min_number(a, b, c):\n",
    "  if a < b and a<c:\n",
    "    return a\n",
    "  elif b<a and b<c:\n",
    "    return b\n",
    "  else: return c\n",
    "\n",
    "print(find_min_number(130, 122, 19))\n",
    "# 19\n",
    "print(find_min_number(10.9, 12.2, 18.4))\n",
    "# 10.9\n"
   ]
  },
  {
   "cell_type": "markdown",
   "metadata": {},
   "source": [
    "***"
   ]
  },
  {
   "cell_type": "markdown",
   "metadata": {},
   "source": [
    "### Задание\n",
    "\n",
    "Усложним предыдущую задачу.\n",
    "\n",
    "Напишите функцию sum_min_numbers(), которая также принимает на вход три числа (a, b, c) и возвращает сумму двух наименьших.\n",
    "\n",
    "Можно использовать функцию find_min_number() из предыдущего задания для поиска минимального числа."
   ]
  },
  {
   "cell_type": "code",
   "execution_count": 3,
   "metadata": {},
   "outputs": [
    {
     "name": "stdout",
     "output_type": "stream",
     "text": [
      "3\n",
      "-9\n"
     ]
    }
   ],
   "source": [
    "def sum_min_numbers(a, b, c): \n",
    "  def find_min_number(a, b, c):\n",
    "    lst=[]\n",
    "    if a<b and a<c:\n",
    "      lst.append(a)\n",
    "      if b<c:\n",
    "        lst.append(b)\n",
    "      else:\n",
    "        lst.append(c)\n",
    "    elif b<a and b<c:\n",
    "      lst.append(b)\n",
    "      if a<c:\n",
    "        lst.append(a)\n",
    "      else:\n",
    "        lst.append(c)\n",
    "    else:\n",
    "      lst.append(c)\n",
    "      if a<b:\n",
    "        lst.append(a)\n",
    "      else:\n",
    "        lst.append(b)\n",
    "    return lst\n",
    "  x, y= find_min_number(a, b, c)\n",
    "  return x+y\n",
    "\n",
    "print(sum_min_numbers(1, 2, 3))\n",
    "# 3\n",
    "print(sum_min_numbers(1, 2, -10))\n",
    "# -9\n"
   ]
  },
  {
   "cell_type": "markdown",
   "metadata": {},
   "source": [
    "***"
   ]
  },
  {
   "cell_type": "markdown",
   "metadata": {},
   "source": [
    "### Задание\n",
    "\n",
    "Напишите функцию division(a, b), которая принимает на вход два числа, делимое (a) и делитель (b), и возвращает частное.\n",
    "\n",
    "Необходимо реализовать внутри функции отлов исключения ZeroDivisionError на случай, если пользователь при вызове функции попытается поделить на ноль.\n",
    "\n",
    "Если в процессе выполнения функции было поймано исключение ZeroDivisionError, то функция должна вывести на экран сообщение \"Zero division error!\" с помощью функции print(), а затем вернуть значение None из функции."
   ]
  },
  {
   "cell_type": "code",
   "execution_count": 4,
   "metadata": {},
   "outputs": [
    {
     "name": "stdout",
     "output_type": "stream",
     "text": [
      "5.25\n",
      "Zero division error!\n",
      "None\n"
     ]
    }
   ],
   "source": [
    "def division(a, b):\n",
    "  if b==0:\n",
    "    print(\"Zero division error!\")\n",
    "    return None\n",
    "  else: \n",
    "    return a/b\n",
    "\n",
    "print(division(189, 36))\n",
    "# 5.25\n",
    "print(division(1, 0))\n",
    "# Zero division error!\n",
    "# None\n"
   ]
  },
  {
   "cell_type": "markdown",
   "metadata": {},
   "source": [
    "***"
   ]
  },
  {
   "cell_type": "markdown",
   "metadata": {},
   "source": [
    "### Задание\n",
    "\n",
    "Представим, что мы решаем задачу регрессии. В машинном обучении регрессия — это предсказание числового параметра, например стоимости автомобиля, цены акций, количества клиентов, пришедших после проведения рекламной интеграции и т. д.\n",
    "\n",
    "В наших данных есть два признака, описывающих объекты: x₁ и x₂. Оба этих признака также являются числами. Мы хотим предсказать некоторый другой числовой признак y на основе имеющихся.\n",
    "\n",
    "Напишите функцию get_prediction(), которая принимает на вход два аргумента (x1 и x2) и возвращает число, предсказанное моделью, приведённой на схеме выше.\n",
    "\n",
    "Примечание. Предсказания модели записаны в зелёных прямоугольниках."
   ]
  },
  {
   "cell_type": "code",
   "execution_count": 5,
   "metadata": {},
   "outputs": [
    {
     "name": "stdout",
     "output_type": "stream",
     "text": [
      "300.5\n",
      "65.7\n",
      "-64.1\n",
      "0.7\n",
      "1023\n"
     ]
    }
   ],
   "source": [
    "def get_prediction(x1, x2):\n",
    "  if x1<20:\n",
    "    if x2<200:\n",
    "      return 300.5\n",
    "    else:\n",
    "      return 65.7\n",
    "  else:\n",
    "    if x2<170:\n",
    "      if x1<40:\n",
    "        return -64.1\n",
    "      else:\n",
    "        return 0.7\n",
    "    else:\n",
    "      return 1023\n",
    "\n",
    "print(get_prediction(x1=15, x2=150))\n",
    "# 300.5\n",
    "print(get_prediction(x1=15, x2=350))\n",
    "# 65.7\n",
    "print(get_prediction(x1=35, x2=100))\n",
    "# -64.1\n",
    "print(get_prediction(x1=175, x2=100))\n",
    "# 0.7\n",
    "print(get_prediction(x1=175, x2=200))\n",
    "# 1023\n"
   ]
  },
  {
   "cell_type": "markdown",
   "metadata": {},
   "source": [
    "***"
   ]
  }
 ],
 "metadata": {
  "kernelspec": {
   "display_name": "Python 3",
   "language": "python",
   "name": "python3"
  },
  "language_info": {
   "codemirror_mode": {
    "name": "ipython",
    "version": 3
   },
   "file_extension": ".py",
   "mimetype": "text/x-python",
   "name": "python",
   "nbconvert_exporter": "python",
   "pygments_lexer": "ipython3",
   "version": "3.12.0"
  }
 },
 "nbformat": 4,
 "nbformat_minor": 2
}
