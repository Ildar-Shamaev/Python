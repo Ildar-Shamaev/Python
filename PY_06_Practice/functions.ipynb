{
 "cells": [
  {
   "cell_type": "markdown",
   "metadata": {},
   "source": [
    "## Практика по функциям"
   ]
  },
  {
   "cell_type": "markdown",
   "metadata": {},
   "source": [
    "### Задание\n",
    "\n",
    "Напишите функцию print_personal_data(), которая должна принимать на вход неизвестное количество именованных аргументов (персональных данных) в любом порядке и выводить их в виде аргумент: значение в отсортированном по алфавиту порядке имён аргументов."
   ]
  },
  {
   "cell_type": "code",
   "execution_count": 1,
   "metadata": {},
   "outputs": [
    {
     "name": "stdout",
     "output_type": "stream",
     "text": [
      "age: 28\n",
      "first_name: John\n",
      "last_name: Doe\n",
      "position: Python developer\n",
      "age: 32\n",
      "first_name: Jack\n",
      "last_name: Smith\n",
      "position: Project manager\n",
      "work_experience: 5 years\n"
     ]
    }
   ],
   "source": [
    "def print_personal_data(first_name, last_name, age=None, position=None, work_experience=None):\n",
    "  if age!=None:\n",
    "    print('age: {}'.format(age))\n",
    "  print('first_name: {}'.format(first_name))\n",
    "  print('last_name: {}'.format(last_name))\n",
    "  if position!=None:\n",
    "    print('position: {}'.format(position))\n",
    "  if work_experience!=None:\n",
    "    print('work_experience: {}'.format(work_experience))\n",
    "    \n",
    "print_personal_data(first_name='John', last_name='Doe', age=28, position='Python developer')\n",
    "# age: 28\n",
    "# first_name: John\n",
    "# last_name: Doe\n",
    "# position: Python developer\n",
    "\n",
    "print_personal_data(first_name='Jack', last_name='Smith', age=32, work_experience = '5 years', position='Project manager')\n",
    "# age: 32\n",
    "# first_name: Jack\n",
    "# last_name: Smith\n",
    "# position: Project manager\n",
    "# work_experience: 5 years\n",
    "\n"
   ]
  },
  {
   "cell_type": "markdown",
   "metadata": {},
   "source": [
    "***"
   ]
  },
  {
   "cell_type": "markdown",
   "metadata": {},
   "source": [
    "### Задание\n",
    "\n",
    "Напишите функцию get_words_list(), которая:\n",
    "\n",
    "избавляется от знаков препинания в тексте,\n",
    "приводит текст к нижнему регистру,\n",
    "возвращает список из слов в тексте.\n",
    "Текст, к которому необходимо применить предобработку, передаётся в функцию в виде аргумента text.\n",
    "\n",
    "Сделайте этот список локальной переменной функции get_words_list()."
   ]
  },
  {
   "cell_type": "code",
   "execution_count": 2,
   "metadata": {},
   "outputs": [
    {
     "name": "stdout",
     "output_type": "stream",
     "text": [
      "['arrakis', 'the', 'planet', 'known', 'as', 'dune', 'is', 'forever', 'his', 'place']\n"
     ]
    }
   ],
   "source": [
    "def get_words_list(text):\n",
    "  punctuation_list = [',', '.', ';', ':', '...', '!', '?', '-', '\"', '(', ')']\n",
    "  lst=[]\n",
    "  word=''\n",
    "  count=0\n",
    "  new_str=''\n",
    "  for i in text:\n",
    "    if i in punctuation_list:\n",
    "      continue\n",
    "    else:\n",
    "      new_str+=i\n",
    "  \n",
    "  for i in new_str:\n",
    "    count+=1\n",
    "    word+=i\n",
    "    if i==' ':\n",
    "      if word[-2:-1] in punctuation_list:\n",
    "        lst.append(word.lower()[:-2])\n",
    "        word=''\n",
    "      else:\n",
    "        lst.append(word.lower()[:-1])\n",
    "        word=''\n",
    "    if len(new_str)==count:\n",
    "        lst.append(word.lower())\n",
    "  return lst\n",
    "\n",
    "\n",
    "text_example = \"Arrakis, the planet known as Dune, is forever his place.\"\n",
    "\n",
    "print(get_words_list(text=text_example))\n",
    "# ['arrakis', 'the', 'planet', 'known', 'as', 'dune', 'is', 'forever', 'his', 'place']\n"
   ]
  },
  {
   "cell_type": "markdown",
   "metadata": {},
   "source": [
    "***"
   ]
  },
  {
   "cell_type": "markdown",
   "metadata": {},
   "source": [
    "### Задание\n",
    "\n",
    "Напишите функцию get_unique_words(), которая принимает на вход аргумент words_list (список из слов) и возвращает упорядоченный по алфавиту список уникальных слов.\n",
    "\n",
    "Гарантируется, что на вход функции подаётся список из слов, приведённых к единому регистру."
   ]
  },
  {
   "cell_type": "code",
   "execution_count": 3,
   "metadata": {},
   "outputs": [
    {
     "name": "stdout",
     "output_type": "stream",
     "text": [
      "['and', 'arrakis', 'as', 'be', 'born', 'by', 'caladan', 'care', 'deceived', 'do', 'dune', 'fact', 'fifteen', 'first', 'forever', 'he', 'his', 'in', 'is', 'known', 'lived', 'locate', 'most', \"muad'dib\", 'not', 'on', 'place', 'planet', 'special', 'take', 'that', 'the', 'there', 'was', 'years', 'you']\n"
     ]
    }
   ],
   "source": [
    "def get_unique_words(words_list):\n",
    "  unique_list=[]\n",
    "  words_list.sort()\n",
    "  for i in words_list:\n",
    "    if i not in unique_list:\n",
    "      unique_list.append(i)\n",
    "  return unique_list\n",
    "\n",
    "words_list_example = ['and', 'take', 'the', 'most', 'special', 'care', 'that', 'you', 'locate', \"muad'dib\", 'in', 'his', 'place', 'the', 'planet', 'arrakis', 'do', 'not', 'be', 'deceived', 'by', 'the', 'fact', 'that', 'he', 'was', 'born', 'on', 'caladan', 'and', 'lived', 'his', 'first', 'fifteen', 'years', 'there', 'arrakis', 'the', 'planet', 'known', 'as', 'dune', 'is', 'forever', 'his', 'place']\n",
    "\n",
    "print(get_unique_words(words_list=words_list_example))\n",
    "## ['and', 'arrakis', 'as', 'be', 'born', 'by', 'caladan', 'care', 'deceived', 'do', 'dune', 'fact', 'fifteen', 'first', 'forever', 'he', 'his', 'in', 'is', 'known', 'lived', 'locate', 'most', \"muad'dib\", 'not', 'on', 'place', 'planet', 'special', 'take', 'that', 'the', 'there', 'was', 'years', 'you']\n"
   ]
  },
  {
   "cell_type": "markdown",
   "metadata": {},
   "source": [
    "***"
   ]
  },
  {
   "cell_type": "markdown",
   "metadata": {},
   "source": [
    "### Задание\n",
    "\n",
    "Напишите функцию get_most_frequent_word(), которая возвращает наиболее часто встречающееся слово в тексте, переданном в функцию в качестве аргумента text.\n",
    "\n",
    "Предварительно очистите текст от знаков препинания и приведите его к единому регистру (слова в верхнем и нижнем регистре считаются одним и тем же словом). В этом вам может помочь функция get_words_list(), которую мы реализовали ранее. Сделайте её внутренней функцией функции get_most_frequent_word().\n",
    "\n",
    "Для решения задачи вам также пригодится список уникальных слов в тексте. Чтобы создать его, воспользуйтесь функцией get_unique_words() из предыдущего задания. Также сделайте её внутренней по отношению к функции get_most_frequent_word().\n",
    "\n",
    "Примечание. Если в тексте встречаются два слова с одинаковой частотностью, функция должна возвращать то, которое начинается с буквы, стоящей ближе к началу алфавита. Например, если слова «я» и «меня» встречаются одинаковое количество раз, то функция должна вернуть слово «меня».\n",
    "\n",
    "В случае, если в функцию была передана пустая строка, она также должна возвращать пустую строку."
   ]
  },
  {
   "cell_type": "code",
   "execution_count": 4,
   "metadata": {},
   "outputs": [
    {
     "name": "stdout",
     "output_type": "stream",
     "text": [
      "the\n",
      "и\n"
     ]
    }
   ],
   "source": [
    "## Введите свое решение ниже\n",
    "def get_most_frequent_word(text):\n",
    "  def get_words_list(text):\n",
    "    punctuation_list = [',', '.', ';', ':', '...', '!', '?', '-', '\"', '(', ')']\n",
    "    lst=[]\n",
    "    word=''\n",
    "    count=0\n",
    "    new_str=''\n",
    "    for i in text:\n",
    "      if i in punctuation_list:\n",
    "        continue\n",
    "      else:\n",
    "        new_str+=i\n",
    "    \n",
    "    for i in new_str:\n",
    "      count+=1\n",
    "      word+=i\n",
    "      if i==' ':\n",
    "        if word[-2:-1] in punctuation_list:\n",
    "          lst.append(word.lower()[:-2])\n",
    "          word=''\n",
    "        else:\n",
    "          lst.append(word.lower()[:-1])\n",
    "          word=''\n",
    "      if len(new_str)==count:\n",
    "          lst.append(word.lower())\n",
    "    return lst\n",
    "  def get_unique_words(words_list):\n",
    "    ch={}\n",
    "    words_list.sort()\n",
    "    for i in words_list:\n",
    "      if i not in ch:\n",
    "        ch.update({i:1})\n",
    "      else:\n",
    "        ch[i]+=1\n",
    "    max_elem=0\n",
    "    for i in ch:\n",
    "      if ch[i]>max_elem:\n",
    "        max_elem=ch[i]\n",
    "        max_word=i  \n",
    "\n",
    "    return max_word\n",
    " \n",
    " \n",
    "  lst=get_words_list(text)\n",
    "  text_unique=get_unique_words(lst)\n",
    "  return text_unique\n",
    "  \n",
    "text_example = \"A beginning is the time for taking the most delicate care that the balances are correct. This every sister of the Bene Gesserit knows. To begin your study of the life of Muad'Dib, then take care that you first place him in his time: born in the 57th year of the Padishah Emperor, Shaddam IV. And take the most special care that you locate Muad'Dib in his place: the planet Arrakis. Do not be deceived by the fact that he was born on Caladan and lived his first fifteen years there. Arrakis, the planet known as Dune, is forever his place.\"\n",
    "print(get_most_frequent_word(text_example))\n",
    "# the\n",
    "\n",
    "text_example = \"Есть урок, который идет не сорок пять минут, а всю жизнь. Этот урок проходит и в классе, и в поле, и дома, и в лесу. Я назвал этот урок седьмым потому, что в школе обычно бывает не больше шести уроков. Не удивляйтесь, если я скажу, что учителем на этом уроке может быть и береза возле вашего дома, и бабушка, и вы сами (В. Песков)\"\n",
    "print(get_most_frequent_word(text_example))\n",
    "# и\n"
   ]
  },
  {
   "cell_type": "markdown",
   "metadata": {},
   "source": [
    "***"
   ]
  },
  {
   "cell_type": "markdown",
   "metadata": {},
   "source": [
    "### Задание\n",
    "\n",
    "Представьте, что вы работаете аналитиком в Рособрнадзоре и анализируете данные о сдаче ЕГЭ школьниками.\n",
    "\n",
    "В вашем распоряжении есть список кортежей data. Каждый кортеж в нём состоит из четырёх элементов:\n",
    "\n",
    "имя человека,\n",
    "балл за экзамен по русскому языку,\n",
    "балл за экзамен по математике,\n",
    "балл за экзамен по информатике.\n",
    "Напишите функцию get_total_score(), которая принимает на вход список data, добавляет в каждый кортеж новый элемент — общий балл по всем трём экзаменам, сортирует данные по общему баллу и возвращает полученный результат."
   ]
  },
  {
   "cell_type": "code",
   "execution_count": 5,
   "metadata": {},
   "outputs": [
    {
     "name": "stdout",
     "output_type": "stream",
     "text": [
      "[('Amanda', 37, 78, 67, 182), ('Marcos', 79, 67, 89, 235), ('Dmitry', 67, 68, 100, 235), ('Patricia', 78, 93, 68, 239), ('Andrey', 100, 78, 76, 254), ('Victoria', 93, 69, 96, 258)]\n"
     ]
    }
   ],
   "source": [
    "def get_total_score(data):\n",
    "  lst=[]\n",
    "  for i in data:\n",
    "    summa=sum(i[1:])\n",
    "    #print(summa)\n",
    "    new_tpl=i+(summa,)\n",
    "    lst.append(new_tpl)\n",
    "  lst.sort(key=lambda a: a[4])\n",
    "  return lst\n",
    "\n",
    "\n",
    "data = [\n",
    "    ('Amanda', 37, 78, 67),\n",
    "    ('Patricia', 78, 93, 68),\n",
    "    ('Marcos', 79, 67, 89),\n",
    "    ('Dmitry', 67, 68, 100),\n",
    "    ('Andrey', 100, 78, 76),\n",
    "    ('Victoria', 93, 69, 96),\n",
    "]\n",
    "\n",
    "print(get_total_score(data))\n",
    "# [('Amanda', 37, 78, 67, 182), ('Marcos', 79, 67, 89, 235), ('Dmitry', 67, 68, 100, 235), ('Patricia', 78, 93, 68, 239), ('Andrey', 100, 78, 76, 254), ('Victoria', 93, 69, 96, 258)]\n"
   ]
  },
  {
   "cell_type": "markdown",
   "metadata": {},
   "source": [
    "***"
   ]
  }
 ],
 "metadata": {
  "kernelspec": {
   "display_name": "Python 3",
   "language": "python",
   "name": "python3"
  },
  "language_info": {
   "codemirror_mode": {
    "name": "ipython",
    "version": 3
   },
   "file_extension": ".py",
   "mimetype": "text/x-python",
   "name": "python",
   "nbconvert_exporter": "python",
   "pygments_lexer": "ipython3",
   "version": "3.12.0"
  }
 },
 "nbformat": 4,
 "nbformat_minor": 2
}
