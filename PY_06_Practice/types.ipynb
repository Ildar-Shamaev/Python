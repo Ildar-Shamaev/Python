{
 "cells": [
  {
   "cell_type": "markdown",
   "metadata": {},
   "source": [
    "## Практика по типом данных"
   ]
  },
  {
   "cell_type": "markdown",
   "metadata": {},
   "source": [
    "### Задание\n",
    "\n",
    "Мы анализируем данные об автомобилях. Данные являются табличными и представлены в виде словаря car_dict, ключами которого являются параметры:\n",
    "\n",
    "‘car_ID’ — идентификатор автомобиля;\n",
    "‘fueltype’ — тип двигателя (бензиновый — 'gas' или дизельный — 'diesel');\n",
    "‘horsepower’ — мощность двигателя (в лошадиных силах);\n",
    "‘price’ — стоимость автомобиля.\n",
    "Значениями словаря являются списки, в которых хранятся значения указанных параметров для каждого из автомобилей. Например, следующий словарь car_dict:\n",
    "\n",
    "Найдите:\n",
    "\n",
    "среднюю стоимость автомобилей, представленных в данных (результат округлите до десятых и запишите в переменную mean_price);\n",
    "количество автомобилей с дизельным двигателем (результат запишите в переменную count_diesel);\n",
    "минимальную мощность двигателя в лошадиных силах (результат запишите в переменную min_horsepower)."
   ]
  },
  {
   "cell_type": "code",
   "execution_count": 3,
   "metadata": {},
   "outputs": [
    {
     "name": "stdout",
     "output_type": "stream",
     "text": [
      "13973.9\n",
      "62\n",
      "2\n"
     ]
    }
   ],
   "source": [
    "car_dict = {\n",
    "    'car_ID': [123, 117, 111, 82, 101, 96, 156, 2, 58, 49],\n",
    "    'fueltype': ['gas', 'diesel', 'diesel', 'gas', 'gas', 'gas', 'gas', 'gas', 'gas', 'gas'],\n",
    "    'horsepower': [68, 95, 95, 88, 97, 69, 62, 111, 101, 176],\n",
    "    'price': [7609.0, 17950.0, 13860.0, 8499.0, 9549.0, 7799.0, 8778.0, 16500.0, 13645.0, 35550.0]\n",
    "}\n",
    "\n",
    "\n",
    "count_diesel=0\n",
    "\n",
    "for i in car_dict['fueltype']:\n",
    "  if i == 'diesel':\n",
    "    count_diesel+=1\n",
    "min_horsepower=min(car_dict['horsepower'])\n",
    "mean_price= round(sum(car_dict['price'])/len(car_dict['price']), 1)\n",
    "\n",
    "print(mean_price)\n",
    "print(min_horsepower)\n",
    "print(count_diesel)"
   ]
  },
  {
   "cell_type": "markdown",
   "metadata": {},
   "source": [
    "***"
   ]
  },
  {
   "cell_type": "markdown",
   "metadata": {},
   "source": [
    "### Задание\n",
    "\n",
    "Напишите функцию check_duplicates(), которая проверит, есть ли дубликаты в списке lst, переданном ей в качестве аргумента.\n",
    "\n",
    "Результатом работы функции должно стать булево число (True или False)."
   ]
  },
  {
   "cell_type": "code",
   "execution_count": 4,
   "metadata": {},
   "outputs": [
    {
     "name": "stdout",
     "output_type": "stream",
     "text": [
      "True\n"
     ]
    }
   ],
   "source": [
    "def check_duplicates(lst, new_lst=None):\n",
    "  count=0\n",
    "  if new_lst==None:\n",
    "    new_lst=[]\n",
    "  for i in lst:\n",
    "    count+=1\n",
    "    if i not in new_lst:\n",
    "      new_lst.append(i)\n",
    "    else:\n",
    "      return True\n",
    "    if count==len(lst):\n",
    "      return False\n",
    "\n",
    "lst = [0, 0, 1, 2, 3, 4, 5, 5, 6, 7]\n",
    "print(check_duplicates(lst))"
   ]
  },
  {
   "cell_type": "markdown",
   "metadata": {},
   "source": [
    "***"
   ]
  },
  {
   "cell_type": "markdown",
   "metadata": {},
   "source": [
    "### Задание\n",
    "\n",
    "Напишите функцию swap_places(), которая принимает в качестве аргумента список lst и меняет местами его первый и последний элементы.\n",
    "\n",
    "Функция должна возвращать обновлённый список.\n",
    "\n",
    "Гарантируется, что в исходном списке есть минимум два элемента."
   ]
  },
  {
   "cell_type": "code",
   "execution_count": 5,
   "metadata": {},
   "outputs": [
    {
     "name": "stdout",
     "output_type": "stream",
     "text": [
      "['с', 'л', 'о', 'н']\n"
     ]
    }
   ],
   "source": [
    "def swap_places(lst):\n",
    "  new=[]\n",
    "  first=lst[0]\n",
    "  final=lst[-1]\n",
    "  lst.remove(lst[0])\n",
    "  lst.remove(lst[-1])\n",
    "  new=[final]+lst+[first]\n",
    "  return new\n",
    "\n",
    "\n",
    "print(swap_places(['н', 'л', 'о', 'с']))"
   ]
  },
  {
   "cell_type": "markdown",
   "metadata": {},
   "source": [
    "***"
   ]
  },
  {
   "cell_type": "markdown",
   "metadata": {},
   "source": [
    "### Задание\n",
    "В нашем распоряжении есть список строк разной длины.\n",
    "\n",
    "Напишите функцию equalize_lengths(), которая принимает на вход список и возвращает новый список из строк одинаковой длины.\n",
    "\n",
    "Длина итоговой строки должна быть равна длине самой длинной из строк. Если конкретная строка короче самой длинной, её необходимо дополнить до требуемого количества символов нижними подчёркиваниями с правого края.\n",
    "\n",
    "Важно! Результирующий список должен быть отсортирован от меньшего к большему по количеству добавленных символов нижнего подчёркивания. То есть первым должен идти элемент с максимальной длиной строки."
   ]
  },
  {
   "cell_type": "code",
   "execution_count": 6,
   "metadata": {},
   "outputs": [
    {
     "name": "stdout",
     "output_type": "stream",
     "text": [
      "['выхухоль', 'белка___', 'крот____']\n"
     ]
    }
   ],
   "source": [
    "def equalize_lengths(lst):\n",
    "  new_lst=[]\n",
    "  lst.sort(key=len, reverse=True)\n",
    "  total_len=len(lst[0])\n",
    "  new_lst=[lst[0]]\n",
    "  for i in lst:\n",
    "    while len(i)!=(total_len+1):\n",
    "      i+=\"_\"\n",
    "      if len(i)==total_len:\n",
    "        new_lst.append(i)\n",
    "  return new_lst\n",
    "\n",
    "print(equalize_lengths(['крот', 'белка', 'выхухоль']))"
   ]
  }
 ],
 "metadata": {
  "kernelspec": {
   "display_name": "Python 3",
   "language": "python",
   "name": "python3"
  },
  "language_info": {
   "codemirror_mode": {
    "name": "ipython",
    "version": 3
   },
   "file_extension": ".py",
   "mimetype": "text/x-python",
   "name": "python",
   "nbconvert_exporter": "python",
   "pygments_lexer": "ipython3",
   "version": "3.12.0"
  }
 },
 "nbformat": 4,
 "nbformat_minor": 2
}
