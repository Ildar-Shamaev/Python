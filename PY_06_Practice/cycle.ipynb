{
 "cells": [
  {
   "cell_type": "markdown",
   "metadata": {},
   "source": [
    "## Практика по циклам"
   ]
  },
  {
   "cell_type": "markdown",
   "metadata": {},
   "source": [
    "## Задание\n",
    "\n",
    "Напишите функцию more_than_n(), которая принимает на вход два аргумента: список чисел lst и число n.\n",
    "\n",
    "Функция должна возвращать новый список, в котором содержатся только те числа, которые больше n по модулю. Если в функцию был передан пустой список, то функция также должна вернуть пустой список."
   ]
  },
  {
   "cell_type": "code",
   "execution_count": 1,
   "metadata": {},
   "outputs": [
    {
     "name": "stdout",
     "output_type": "stream",
     "text": [
      "[4, 4.2, 42.2, -3.4, -5.2]\n",
      "[42.2]\n",
      "[]\n"
     ]
    }
   ],
   "source": [
    "def more_than_n(lst, n):\n",
    "  new_lst=[]\n",
    "  for i in lst:\n",
    "    if abs(i)>n:\n",
    "      new_lst.append(i)\n",
    "  return new_lst\n",
    "\n",
    "print(more_than_n([-1, 4, 4.2, 42.2, -3.4, -5.2], 3))\n",
    "# [4, 4.2, 42.2, -3.4, -5.2]\n",
    "print(more_than_n([-1, 4, 4.2, 42.2, -3.4, -5.2], 10))\n",
    "# [42.2]\n",
    "print(more_than_n([], 10))\n",
    "# []\n"
   ]
  },
  {
   "cell_type": "markdown",
   "metadata": {},
   "source": [
    "***"
   ]
  },
  {
   "cell_type": "markdown",
   "metadata": {},
   "source": [
    "### Задание\n",
    "\n",
    "Напишите функцию lucky_ticket(), которая проверяет, является ли билет счастливым.\n",
    "\n",
    "Примечание. Билет счастливый, если сумма первых трёх цифр в его номере равна сумме последних трёх цифр.\n",
    "\n",
    "На вход функция принимает шестизначное число ticket_number и должна возвращать одно из булевых значений (True или False) в зависимости от того, является ли билет счастливым.\n",
    "\n",
    "При решении постарайтесь не использовать встроенную функцию sum() — примените циклы."
   ]
  },
  {
   "cell_type": "code",
   "execution_count": 2,
   "metadata": {},
   "outputs": [
    {
     "name": "stdout",
     "output_type": "stream",
     "text": [
      "True\n",
      "False\n"
     ]
    }
   ],
   "source": [
    "def lucky_ticket(ticket_number):\n",
    "  first=0\n",
    "  second=0\n",
    "  count=0\n",
    "  for i in str(ticket_number):\n",
    "    if count<3:\n",
    "      first+=int(i)\n",
    "      count+=1\n",
    "    else:\n",
    "      second+=int(i)\n",
    "  if first==second:\n",
    "    return True\n",
    "  else:\n",
    "    return False\n",
    "\n",
    "print(lucky_ticket(111111))\n",
    "# True\n",
    "print(lucky_ticket(123456))\n",
    "# False\n"
   ]
  },
  {
   "cell_type": "markdown",
   "metadata": {},
   "source": [
    "***"
   ]
  },
  {
   "cell_type": "markdown",
   "metadata": {},
   "source": [
    "### Задание\n",
    "\n",
    "Напишите функцию holes_count(), которая принимает на вход число number, подсчитывает общее количество отверстий в заданном числе и возвращает результат.\n",
    "\n",
    "Условимся, что цифрами с отверстиями будем считать 0, 4, 6, 8 и 9. Причём в цифре 8 отверстий два, а в остальных — по одному.\n",
    "\n",
    "Обратите внимание, что функция должна возвращать суммарное количество отверстий по всем цифрам в числе."
   ]
  },
  {
   "cell_type": "code",
   "execution_count": 3,
   "metadata": {},
   "outputs": [
    {
     "name": "stdout",
     "output_type": "stream",
     "text": [
      "2\n",
      "2\n",
      "6\n"
     ]
    }
   ],
   "source": [
    "def holes_count(number):\n",
    "  lst=['0', '4', '6', '9']\n",
    "  count=0\n",
    "  for i in str(number):\n",
    "    if i in lst:\n",
    "      count+=1\n",
    "    elif i=='8':\n",
    "      count+=2\n",
    "  return count\n",
    "\n",
    "print(holes_count(8))\n",
    "# 2\n",
    "print(holes_count(146))\n",
    "# 2\n",
    "print(holes_count(84628))\n",
    "# 6\n"
   ]
  },
  {
   "cell_type": "markdown",
   "metadata": {},
   "source": [
    "***"
   ]
  },
  {
   "cell_type": "markdown",
   "metadata": {},
   "source": [
    "### Задание\n",
    "\n",
    "Напишите функцию even_numbers_in_matrix(), которая получает на вход матрицу (список из списков) matrix и возвращает количество чётных чисел в ней.\n",
    "\n",
    "Гарантируется, что все элементы в матрице matrix являются числами."
   ]
  },
  {
   "cell_type": "code",
   "execution_count": 4,
   "metadata": {},
   "outputs": [
    {
     "name": "stdout",
     "output_type": "stream",
     "text": [
      "5\n"
     ]
    }
   ],
   "source": [
    "def even_numbers_in_matrix(matrix):\n",
    "  count=0\n",
    "  for i in matrix:\n",
    "    for j in i:\n",
    "      if j%2==0:\n",
    "        count+=1\n",
    "  return count\n",
    "\n",
    "matrix_example = [\n",
    "    [1, 5, 4],\n",
    "    [4, 2, -2],\n",
    "    [7, 65, 88]\n",
    "]\n",
    "\n",
    "\n",
    "print(even_numbers_in_matrix(matrix=matrix_example))\n",
    "# 5\n"
   ]
  },
  {
   "cell_type": "markdown",
   "metadata": {},
   "source": [
    "***"
   ]
  },
  {
   "cell_type": "markdown",
   "metadata": {},
   "source": [
    "### Задание\n",
    "\n",
    "Двумерные таблицы (матрицы) — основной формат данных, с которым мы будем работать. Давайте рассмотрим операцию сложения двух матриц. Напишите функцию matrix_sum(), которая получает на вход две матрицы (matrix1, matrix2) и возвращает их сумму.\n",
    "\n",
    "Примечание. Чтобы сложить две матрицы, нужно просуммировать их соответствующие элементы.\n",
    "\n",
    "Важно отметить, что суммировать можно только матрицы одинаковой размерности. Поэтому сначала необходимо проверить, что размеры матриц совпадают, то есть матрицы должны иметь равное количество строк, а в каждой строке должно быть равное количество элементов (столбцов).\n",
    "\n",
    "Если размеры матриц не совпадают, необходимо вывести на экран сообщение \"Error! Matrices dimensions are different!\" с помощью функции print(), а затем вернуть значение None из функции matrix_sum().\n",
    "\n",
    "Гарантируется, что на вход подаются только прямоугольные матрицы (матрицы, в которых количество элементов в каждой из строк одинаково)."
   ]
  },
  {
   "cell_type": "code",
   "execution_count": 5,
   "metadata": {},
   "outputs": [
    {
     "name": "stdout",
     "output_type": "stream",
     "text": [
      "[[2, 10, 8], [8, 4, -4], [14, 130, 176]]\n",
      "Error! Matrices dimensions are different!\n",
      "None\n",
      "Error! Matrices dimensions are different!\n",
      "None\n"
     ]
    }
   ],
   "source": [
    "def matrix_sum(matrix1, matrix2):\n",
    "  if len(matrix1)!=len(matrix2):\n",
    "    print('Error! Matrices dimensions are different!')\n",
    "    return None\n",
    "  if len(matrix1[0])!=len(matrix2[0]):\n",
    "    print('Error! Matrices dimensions are different!')\n",
    "    return None\n",
    "  result = [[matrix1[i][j] + matrix2[i][j]  for j in range\n",
    "(len(matrix1[0]))] for i in range(len(matrix1))] \n",
    "  return result\n",
    "\n",
    "matrix_example = [\n",
    "          [1, 5, 4],\n",
    "          [4, 2, -2],\n",
    "          [7, 65, 88]\n",
    "]\n",
    "\n",
    "print(matrix_sum(matrix1=matrix_example, matrix2=matrix_example))\n",
    "# [[2, 10, 8], [8, 4, -4], [14, 130, 176]]\n",
    "\n",
    "matrix1_example = [\n",
    "          [1, 5, 4],\n",
    "          [4, 2, -2]\n",
    "]\n",
    "\n",
    "matrix2_example = [\n",
    "          [10, 15, 43],\n",
    "          [41, 2, -2],\n",
    "          [7, 5, 7]\n",
    "]\n",
    "\n",
    "print(matrix_sum(matrix1=matrix1_example, matrix2=matrix2_example))\n",
    "# Error! Matrices dimensions are different!\n",
    "# None\n",
    "\n",
    "matrix1_example = [\n",
    "          [1, 5, 4, 5],\n",
    "          [4, 2, -2, -5],\n",
    "          [4, 2, -2, -5]\n",
    "]\n",
    "\n",
    "matrix2_example = [\n",
    "          [10, 15, 43],\n",
    "          [41, 2, -2],\n",
    "          [7, 5, 7]\n",
    "]\n",
    "\n",
    "print(matrix_sum(matrix1=matrix1_example, matrix2=matrix2_example))\n",
    "# Error! Matrices dimensions are different!\n",
    "# None\n"
   ]
  }
 ],
 "metadata": {
  "kernelspec": {
   "display_name": "Python 3",
   "language": "python",
   "name": "python3"
  },
  "language_info": {
   "codemirror_mode": {
    "name": "ipython",
    "version": 3
   },
   "file_extension": ".py",
   "mimetype": "text/x-python",
   "name": "python",
   "nbconvert_exporter": "python",
   "pygments_lexer": "ipython3",
   "version": "3.12.0"
  }
 },
 "nbformat": 4,
 "nbformat_minor": 2
}
